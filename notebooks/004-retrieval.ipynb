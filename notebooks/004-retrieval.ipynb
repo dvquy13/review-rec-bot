{
 "cells": [
  {
   "cell_type": "markdown",
   "id": "d1a741bf-c1d6-4296-857a-741d6a5cacf6",
   "metadata": {},
   "source": [
    "# Review Rec Bot"
   ]
  },
  {
   "cell_type": "markdown",
   "id": "89230e9e-b474-4df0-ab41-28148a9dc268",
   "metadata": {},
   "source": [
    "# Set up"
   ]
  },
  {
   "cell_type": "code",
   "execution_count": 1,
   "id": "75779aea-2a28-44ca-ba89-71da05db6380",
   "metadata": {},
   "outputs": [],
   "source": [
    "%load_ext autoreload\n",
    "%autoreload 2"
   ]
  },
  {
   "cell_type": "code",
   "execution_count": 2,
   "id": "a3c9c3a4-d10d-4557-a46d-16dcb25012a9",
   "metadata": {},
   "outputs": [],
   "source": [
    "from loguru import logger\n",
    "import json\n",
    "\n",
    "import sys\n",
    "sys.path.insert(0, '..')"
   ]
  },
  {
   "cell_type": "code",
   "execution_count": 3,
   "id": "00672f74-4ccb-47f1-9330-a1c6f86c3ada",
   "metadata": {},
   "outputs": [],
   "source": [
    "import os\n",
    "\n",
    "from tqdm.notebook import tqdm\n",
    "import pandas as pd"
   ]
  },
  {
   "cell_type": "code",
   "execution_count": 4,
   "id": "189562de-c122-403d-a609-6b2d846e6dce",
   "metadata": {},
   "outputs": [],
   "source": [
    "import nest_asyncio\n",
    "\n",
    "nest_asyncio.apply()"
   ]
  },
  {
   "cell_type": "code",
   "execution_count": 5,
   "id": "c035e226-52da-4b11-b3d7-612d4cc955d5",
   "metadata": {},
   "outputs": [
    {
     "data": {
      "text/plain": [
       "True"
      ]
     },
     "execution_count": 5,
     "metadata": {},
     "output_type": "execute_result"
    }
   ],
   "source": [
    "from dotenv import load_dotenv\n",
    "\n",
    "load_dotenv()"
   ]
  },
  {
   "cell_type": "markdown",
   "id": "f8eedc25-e389-446e-a724-6cb1e65986b2",
   "metadata": {},
   "source": [
    "# Arguments"
   ]
  },
  {
   "cell_type": "code",
   "execution_count": 6,
   "id": "cbbd3b0c-e15d-4bf4-a940-bd45aeb3acc8",
   "metadata": {},
   "outputs": [
    {
     "data": {
      "text/plain": [
       "{\n",
       "  \"EXPERIMENT_NAME\": \"Review Rec Bot - Yelp Review Rec Bot\",\n",
       "  \"RUN_NAME\": \"007_bm25_standalone\",\n",
       "  \"RUN_DESCRIPTION\": \"\\n# Retriever - Test BM25\\n\\n## Changelog\\nCompared to 006:\\n- Use BM25 in replacement of Vector Retriever\\n\",\n",
       "  \"TESTING\": false,\n",
       "  \"DEBUG\": false,\n",
       "  \"OBSERVABILITY\": true,\n",
       "  \"LOG_TO_MLFLOW\": true,\n",
       "  \"RECREATE_INDEX\": false,\n",
       "  \"RECREATE_RETRIEVAL_EVAL_DATASET\": false,\n",
       "  \"RECREATE_RESPONSE_EVAL_DATASET\": false\n",
       "}"
      ]
     },
     "execution_count": 6,
     "metadata": {},
     "output_type": "execute_result"
    }
   ],
   "source": [
    "from src.run.args import RunInputArgs\n",
    "\n",
    "ARGS = RunInputArgs(\n",
    "    EXPERIMENT_NAME=\"Review Rec Bot - Yelp Review Rec Bot\",\n",
    "    RUN_NAME=\"007_bm25_standalone\",\n",
    "    RUN_DESCRIPTION=\"\"\"\n",
    "# Retriever - Test BM25\n",
    "\n",
    "## Changelog\n",
    "Compared to 006:\n",
    "- Use BM25 in replacement of Vector Retriever\n",
    "\"\"\",\n",
    "    TESTING=False,\n",
    "    LOG_TO_MLFLOW=True,\n",
    "    OBSERVABILITY=True,\n",
    "    RECREATE_INDEX=False,\n",
    "    RECREATE_RETRIEVAL_EVAL_DATASET=False,\n",
    "    RECREATE_RESPONSE_EVAL_DATASET=False,\n",
    "    DEBUG=False,\n",
    ")\n",
    "\n",
    "ARGS"
   ]
  },
  {
   "cell_type": "markdown",
   "id": "74b9f19b-c4c7-4361-931b-6687b3fd290e",
   "metadata": {},
   "source": [
    "# Load config"
   ]
  },
  {
   "cell_type": "code",
   "execution_count": 7,
   "id": "970c1f96-5dab-4d62-83e4-8eb26a23467d",
   "metadata": {},
   "outputs": [],
   "source": [
    "from src.run.cfg import RunConfig"
   ]
  },
  {
   "cell_type": "code",
   "execution_count": 8,
   "id": "e1fc9827-6cd8-4cdb-943b-4fd7c0c71b78",
   "metadata": {
    "scrolled": true
   },
   "outputs": [
    {
     "name": "stderr",
     "output_type": "stream",
     "text": [
      "\u001b[32m2024-08-09 08:40:54.279\u001b[0m | \u001b[1mINFO    \u001b[0m | \u001b[36msrc.run.cfg\u001b[0m:\u001b[36minit\u001b[0m:\u001b[36m125\u001b[0m - \u001b[1mStarting Observability server with Phoenix...\u001b[0m\n",
      "INFO:phoenix.config:📋 Ensuring phoenix working directory: /home/dvquys/.phoenix\n"
     ]
    },
    {
     "name": "stdout",
     "output_type": "stream",
     "text": [
      "🌍 To view the Phoenix app in your browser, visit http://localhost:6006/\n",
      "📖 For more information on how to use Phoenix, check out https://docs.arize.com/phoenix\n"
     ]
    },
    {
     "name": "stderr",
     "output_type": "stream",
     "text": [
      "\u001b[32m2024-08-09 08:41:00.001\u001b[0m | \u001b[1mINFO    \u001b[0m | \u001b[36msrc.run.cfg\u001b[0m:\u001b[36minit\u001b[0m:\u001b[36m143\u001b[0m - \u001b[1mSetting up MLflow experiment Review Rec Bot - Yelp Review Rec Bot - run 007_bm25_standalone...\u001b[0m\n",
      "\u001b[32m2024-08-09 08:41:00.216\u001b[0m | \u001b[1mINFO    \u001b[0m | \u001b[36msrc.run.cfg\u001b[0m:\u001b[36minit\u001b[0m:\u001b[36m152\u001b[0m - \u001b[1mNotebook-generated artifacts are persisted at data/007_bm25_standalone\u001b[0m\n"
     ]
    }
   ],
   "source": [
    "cfg = RunConfig()\n",
    "cfg.init(ARGS)"
   ]
  },
  {
   "cell_type": "code",
   "execution_count": 9,
   "id": "8303a2c6-700e-4975-801e-1adad8c22400",
   "metadata": {
    "scrolled": true
   },
   "outputs": [
    {
     "name": "stderr",
     "output_type": "stream",
     "text": [
      "/home/dvquys/frostmourne/study/vietai-genai03/final-project/review-rec-bot/.venv/lib/python3.11/site-packages/pydantic/main.py:364: UserWarning: Pydantic serializer warnings:\n",
      "  Expected `int` but got `str` - serialized value may not be as expected\n",
      "  Expected `int` but got `str` - serialized value may not be as expected\n",
      "  Expected `int` but got `str` - serialized value may not be as expected\n",
      "  Expected `int` but got `str` - serialized value may not be as expected\n",
      "  Expected `int` but got `str` - serialized value may not be as expected\n",
      "  Expected `int` but got `str` - serialized value may not be as expected\n",
      "  return self.__pydantic_serializer__.to_python(\n"
     ]
    },
    {
     "data": {
      "text/plain": [
       "{\n",
       "  \"args\": {\n",
       "    \"EXPERIMENT_NAME\": \"Review Rec Bot - Yelp Review Rec Bot\",\n",
       "    \"RUN_NAME\": \"007_bm25_standalone\",\n",
       "    \"RUN_DESCRIPTION\": \"\\n# Retriever - Test BM25\\n\\n## Changelog\\nCompared to 006:\\n- Use BM25 in replacement of Vector Retriever\\n\",\n",
       "    \"TESTING\": false,\n",
       "    \"DEBUG\": false,\n",
       "    \"OBSERVABILITY\": true,\n",
       "    \"LOG_TO_MLFLOW\": true,\n",
       "    \"RECREATE_INDEX\": false,\n",
       "    \"RECREATE_RETRIEVAL_EVAL_DATASET\": false,\n",
       "    \"RECREATE_RESPONSE_EVAL_DATASET\": false\n",
       "  },\n",
       "  \"app_name\": \"review_rec_bot\",\n",
       "  \"db_collection\": \"review_rec_bot__huggingface__Snowflake_snowflake_arctic_embed_m_v1_5__005_use_smaller_embedding_model\",\n",
       "  \"nodes_persist_fp\": \"data/005_use_smaller_embedding_model/nodes.pkl\",\n",
       "  \"notebook_cache_dp\": \"data/007_bm25_standalone\",\n",
       "  \"data_fp\": \"../data/yelp_dataset/sample/sample_100_biz/denom_review.parquet\",\n",
       "  \"llm_cfg\": {\n",
       "    \"llm_provider\": \"togetherai\",\n",
       "    \"llm_model_name\": \"meta-llama/Meta-Llama-3.1-8B-Instruct-Turbo\",\n",
       "    \"embedding_provider\": \"huggingface\",\n",
       "    \"embedding_model_name\": \"Snowflake/snowflake-arctic-embed-m-v1.5\",\n",
       "    \"embedding_model_dim\": null,\n",
       "    \"ollama__host\": \"192.168.100.14\",\n",
       "    \"ollama__port\": 11434\n",
       "  },\n",
       "  \"retrieval_cfg\": {\n",
       "    \"retrieval_top_k\": 10,\n",
       "    \"retrieval_similarity_cutoff\": null,\n",
       "    \"rerank_top_k\": 5,\n",
       "    \"rerank_model_name\": \"BAAI/bge-reranker-large\"\n",
       "  },\n",
       "  \"eval_cfg\": {\n",
       "    \"retrieval_num_sample_nodes\": 20,\n",
       "    \"retrieval_eval_llm_model\": \"gpt-4o-mini\",\n",
       "    \"retrieval_eval_llm_model_config\": {\n",
       "      \"temperature\": 0.3\n",
       "    },\n",
       "    \"retrieval_num_questions_per_chunk\": 1,\n",
       "    \"retrieval_metrics\": [\n",
       "      \"hit_rate\",\n",
       "      \"mrr\",\n",
       "      \"precision\",\n",
       "      \"recall\",\n",
       "      \"ap\",\n",
       "      \"ndcg\"\n",
       "    ],\n",
       "    \"retrieval_eval_dataset_fp\": \"data/006_rerun with question respon/retrieval_synthetic_eval_dataset.json\",\n",
       "    \"retrieval_question_gen_query\": \"\\nYou are a helpful Retrieval Evaluator.\\n\\nYour task is to generate {num_questions_per_chunk} search queries based to only the given context, not prior information to assess the accuracy/relevancy of an information retrieval system.\\nThe information retrieval system would then be asked your generated search queries and assessed on how well it can look up and return the correct reviews as context.\\n\\n<EXAMPLE>\\nInput context: What a great addition to the Funk Zone!  Grab a bite, grab some tastings, life is good. Right next door to the Santa Barbara Wine Collective, in fact it actually shares the same tables.  We had a fabulous savory croissant.\\nOutput search queries: What are the recommended restaurants nearby Santa Barbara?\\n</EXAMPLE>\\n\\nIMPORTANT RULES:\\n- The generated queries should indicate a clear intention with \\\"finding a restaurant\\\" a typical one\\n- Restrict the generated queries to the context information provided\\n- Do not mention anything about the context in the generated queries\\n- The generated search queries should be specific enough so that there are a few of the relevant reviews only\\n- Avoid general/ambiguous queries like: \\\"atmosphere and ambience of the place\\\"\\n\",\n",
       "    \"response_question_gen_query\": \"\\nYou are a helpful Retrieval Evaluator.\\n\\nYour task is to generate {num_questions_per_chunk} search queries based to only the given context, not prior information to assess the accuracy/relevancy of an information retrieval system.\\nThe information retrieval system would then be asked your generated search queries and assessed on how well it can look up and return the correct reviews as context.\\n\\n<EXAMPLE>\\nInput context: What a great addition to the Funk Zone!  Grab a bite, grab some tastings, life is good. Right next door to the Santa Barbara Wine Collective, in fact it actually shares the same tables.  We had a fabulous savory croissant.\\nOutput search queries: What are the recommended restaurants nearby Santa Barbara?\\n</EXAMPLE>\\n\\nIMPORTANT RULES:\\n- The generated queries should indicate a clear intention with \\\"finding a restaurant\\\" a typical one\\n- Restrict the generated queries to the context information provided\\n- Do not mention anything about the context in the generated queries\\n- The generated search queries should be specific enough so that there are a few of the relevant reviews only\\n- Avoid general/ambiguous queries like: \\\"atmosphere and ambience of the place\\\"\\n\",\n",
       "    \"response_synthetic_eval_dataset_fp\": \"data/006_rerun with question respon/response_synthetic_eval_dataset.json\",\n",
       "    \"response_curated_eval_dataset_fp\": \"data/006_rerun with question respon/response_curated_eval_dataset.json\",\n",
       "    \"response_eval_llm_model\": \"gpt-4o-mini\",\n",
       "    \"response_eval_llm_model_config\": {\n",
       "      \"temperature\": 0.3\n",
       "    },\n",
       "    \"response_synthetic_num_questions_per_chunk\": 1,\n",
       "    \"response_num_sample_documents\": 20\n",
       "  },\n",
       "  \"batch_size\": 16\n",
       "}"
      ]
     },
     "execution_count": 9,
     "metadata": {},
     "output_type": "execute_result"
    }
   ],
   "source": [
    "cfg"
   ]
  },
  {
   "cell_type": "markdown",
   "id": "87cc1c0b-fe37-4555-9afd-b1d0fa4afe32",
   "metadata": {},
   "source": [
    "## Set up logger to collect additional info"
   ]
  },
  {
   "cell_type": "code",
   "execution_count": 10,
   "id": "0e23fe20-30a7-4fbb-8880-1c95211e4520",
   "metadata": {},
   "outputs": [
    {
     "data": {
      "text/plain": [
       "1"
      ]
     },
     "execution_count": 10,
     "metadata": {},
     "output_type": "execute_result"
    }
   ],
   "source": [
    "collect_fp = f\"{cfg.notebook_cache_dp}/collect.log\"\n",
    "logger.add(collect_fp, filter=lambda record: \"[COLLECT]\" in record['message'], mode='w')"
   ]
  },
  {
   "cell_type": "markdown",
   "id": "dc4a894e-69af-471a-958a-b3409b62a0d7",
   "metadata": {},
   "source": [
    "# Load input data"
   ]
  },
  {
   "cell_type": "code",
   "execution_count": 11,
   "id": "8d97dc3a-5530-4859-b683-985f5b990668",
   "metadata": {
    "scrolled": true
   },
   "outputs": [
    {
     "name": "stderr",
     "output_type": "stream",
     "text": [
      "\u001b[32m2024-08-09 08:41:16.934\u001b[0m | \u001b[1mINFO    \u001b[0m | \u001b[36m__main__\u001b[0m:\u001b[36m<module>\u001b[0m:\u001b[36m6\u001b[0m - \u001b[1m[COLLECT] len(data)=5240\u001b[0m\n"
     ]
    },
    {
     "data": {
      "text/plain": [
       "review_id                                      L0jv8c2FbpWSlfNC6bbUEA\n",
       "user_id                                        bFPdtzu11Oi0f92EAcjqmg\n",
       "business_id                                    IDtLPgUrqorrpqSLdfMhZQ\n",
       "review_stars                                                        5\n",
       "useful                                                              0\n",
       "funny                                                               0\n",
       "cool                                                                0\n",
       "text                What a great addition to the Funk Zone!  Grab ...\n",
       "date                                              2016-10-13T22:50:47\n",
       "biz_name                                         Helena Avenue Bakery\n",
       "biz_address                                     131 Anacapa St, Ste C\n",
       "biz_city                                                Santa Barbara\n",
       "biz_state                                                          CA\n",
       "biz_postal_code                                                 93101\n",
       "biz_latitude                                                34.414445\n",
       "biz_longitude                                             -119.690672\n",
       "biz_stars                                                         4.0\n",
       "biz_review_count                                                  389\n",
       "biz_is_open                                                         1\n",
       "biz_attributes      {'AcceptsInsurance': None, 'Alcohol': 'u'none'...\n",
       "biz_categories      [Food, Restaurants, Salad, Coffee & Tea, Break...\n",
       "biz_hours           {'Friday': '8:0-14:0', 'Monday': '0:0-0:0', 'S...\n",
       "Name: 0, dtype: object"
      ]
     },
     "execution_count": 11,
     "metadata": {},
     "output_type": "execute_result"
    }
   ],
   "source": [
    "data = pd.read_parquet(cfg.data_fp)\n",
    "data = data.assign(\n",
    "    biz_categories=lambda df: df['biz_categories'].str.split(', '),\n",
    "    date=lambda df: df['date'].dt.strftime('%Y-%m-%dT%H:%M:%S')\n",
    ")\n",
    "logger.info(f\"[COLLECT] {len(data)=}\")\n",
    "data.iloc[0]"
   ]
  },
  {
   "cell_type": "code",
   "execution_count": 12,
   "id": "836c3bd6-c53d-4c64-9395-5eb0a275bdfa",
   "metadata": {},
   "outputs": [
    {
     "name": "stderr",
     "output_type": "stream",
     "text": [
      "\u001b[32m2024-08-09 08:41:17.052\u001b[0m | \u001b[1mINFO    \u001b[0m | \u001b[36m__main__\u001b[0m:\u001b[36m<module>\u001b[0m:\u001b[36m4\u001b[0m - \u001b[1m[COLLECT] len(input_data)=5240\u001b[0m\n"
     ]
    }
   ],
   "source": [
    "input_data = data\n",
    "if ARGS.TESTING:\n",
    "    input_data = data[:20]\n",
    "logger.info(f\"[COLLECT] {len(input_data)=}\")"
   ]
  },
  {
   "cell_type": "code",
   "execution_count": 13,
   "id": "364867ae-04ac-427a-aa12-bb5ea5618988",
   "metadata": {
    "scrolled": true
   },
   "outputs": [
    {
     "data": {
      "text/plain": [
       "Index(['review_id', 'user_id', 'business_id', 'review_stars', 'useful',\n",
       "       'funny', 'cool', 'text', 'date', 'biz_name', 'biz_address', 'biz_city',\n",
       "       'biz_state', 'biz_postal_code', 'biz_latitude', 'biz_longitude',\n",
       "       'biz_stars', 'biz_review_count', 'biz_is_open', 'biz_attributes',\n",
       "       'biz_categories', 'biz_hours'],\n",
       "      dtype='object')"
      ]
     },
     "execution_count": 13,
     "metadata": {},
     "output_type": "execute_result"
    }
   ],
   "source": [
    "input_data.columns"
   ]
  },
  {
   "cell_type": "markdown",
   "id": "dfe4869a-4763-428d-ba54-a664f07584be",
   "metadata": {},
   "source": [
    "# Prepare documents"
   ]
  },
  {
   "cell_type": "code",
   "execution_count": 14,
   "id": "d8818fe2-7a92-4859-9945-b682a635b8c2",
   "metadata": {},
   "outputs": [
    {
     "data": {
      "application/vnd.jupyter.widget-view+json": {
       "model_id": "f1ecd0b6b4744e018ac2bd7d12f8fb43",
       "version_major": 2,
       "version_minor": 0
      },
      "text/plain": [
       "  0%|          | 0/5240 [00:00<?, ?it/s]"
      ]
     },
     "metadata": {},
     "output_type": "display_data"
    },
    {
     "name": "stderr",
     "output_type": "stream",
     "text": [
      "\u001b[32m2024-08-09 08:41:18.332\u001b[0m | \u001b[1mINFO    \u001b[0m | \u001b[36m__main__\u001b[0m:\u001b[36m<module>\u001b[0m:\u001b[36m20\u001b[0m - \u001b[1m[COLLECT] len(documents)=5240\u001b[0m\n"
     ]
    }
   ],
   "source": [
    "from llama_index.core import Document\n",
    "\n",
    "documents = []\n",
    "embedding_visible_metadata = [\"review_stars\", \"biz_name\", \"biz_address\", \"biz_city\", \"biz_state\", \"biz_categories\"]\n",
    "excluded_embed_metadata_keys = [k for k in input_data.columns if k not in embedding_visible_metadata]\n",
    "\n",
    "for i, row in tqdm(input_data.iterrows(), total=len(input_data)):\n",
    "    record = row.to_dict()\n",
    "    text = record['text']\n",
    "    metadata = {k: v for k, v in record.items() if k not in ('text')}\n",
    "    \n",
    "    doc = Document(\n",
    "        text=text,\n",
    "        metadata=metadata,\n",
    "        excluded_embed_metadata_keys=excluded_embed_metadata_keys,\n",
    "        excluded_llm_metadata_keys=excluded_embed_metadata_keys\n",
    "    )\n",
    "    documents.append(doc)\n",
    "\n",
    "logger.info(f\"[COLLECT] {len(documents)=}\")"
   ]
  },
  {
   "cell_type": "markdown",
   "id": "cffa970b-ecfb-449d-90c2-29f72411acd9",
   "metadata": {},
   "source": [
    "#### Check document embedding text"
   ]
  },
  {
   "cell_type": "code",
   "execution_count": 15,
   "id": "fe43129b-0999-4247-9910-b583038aeb39",
   "metadata": {},
   "outputs": [],
   "source": [
    "from llama_index.core.schema import MetadataMode"
   ]
  },
  {
   "cell_type": "code",
   "execution_count": 16,
   "id": "afd2cb75-d184-48a7-a262-912e8398843d",
   "metadata": {},
   "outputs": [
    {
     "name": "stdout",
     "output_type": "stream",
     "text": [
      "review_stars: 5\n",
      "biz_name: Helena Avenue Bakery\n",
      "biz_address: 131 Anacapa St, Ste C\n",
      "biz_city: Santa Barbara\n",
      "biz_state: CA\n",
      "biz_categories: ['Food', 'Restaurants', 'Salad', 'Coffee & Tea', 'Breakfast & Brunch', 'Sandwiches', 'Bakeries']\n",
      "\n",
      "What a great addition to the Funk Zone!  Grab a bite, grab some tastings, life is good. Right next door to the Santa Barbara Wine Collective, in fact it actually shares the same tables.  We had a fabulous savory croissant.\n"
     ]
    }
   ],
   "source": [
    "document = documents[0]\n",
    "print(document.get_content(metadata_mode=MetadataMode.EMBED))"
   ]
  },
  {
   "cell_type": "markdown",
   "id": "c546c766-2af2-48b7-962a-963f05e44a12",
   "metadata": {},
   "source": [
    "# Set up LLM"
   ]
  },
  {
   "cell_type": "code",
   "execution_count": 17,
   "id": "40574e9e-422d-4134-bdc4-0d1f65cc38ce",
   "metadata": {},
   "outputs": [
    {
     "name": "stderr",
     "output_type": "stream",
     "text": [
      "Some weights of BertModel were not initialized from the model checkpoint at Snowflake/snowflake-arctic-embed-m-v1.5 and are newly initialized: ['pooler.dense.bias', 'pooler.dense.weight']\n",
      "You should probably TRAIN this model on a down-stream task to be able to use it for predictions and inference.\n"
     ]
    }
   ],
   "source": [
    "llm, embed_model = cfg.setup_llm()"
   ]
  },
  {
   "cell_type": "code",
   "execution_count": 18,
   "id": "70c256c8-ec1c-4481-9686-2358599d2d6d",
   "metadata": {},
   "outputs": [
    {
     "name": "stdout",
     "output_type": "stream",
     "text": [
      "{\n",
      "  \"llm_provider\": \"togetherai\",\n",
      "  \"llm_model_name\": \"meta-llama/Meta-Llama-3.1-8B-Instruct-Turbo\",\n",
      "  \"embedding_provider\": \"huggingface\",\n",
      "  \"embedding_model_name\": \"Snowflake/snowflake-arctic-embed-m-v1.5\",\n",
      "  \"embedding_model_dim\": 768,\n",
      "  \"ollama__host\": \"192.168.100.14\",\n",
      "  \"ollama__port\": 11434\n",
      "}\n"
     ]
    }
   ],
   "source": [
    "print(cfg.llm_cfg.model_dump_json(indent=2))"
   ]
  },
  {
   "cell_type": "code",
   "execution_count": 19,
   "id": "b34c861a-6512-4565-9b52-b068e6456d6f",
   "metadata": {},
   "outputs": [],
   "source": [
    "from llama_index.core import Settings\n",
    "Settings.embed_model = embed_model\n",
    "Settings.llm = llm"
   ]
  },
  {
   "cell_type": "markdown",
   "id": "0c1118a8-6632-4c17-8255-a0999c9e446c",
   "metadata": {},
   "source": [
    "# Vector Store"
   ]
  },
  {
   "cell_type": "code",
   "execution_count": 20,
   "id": "3bdbf000-740b-4a90-bf9f-8fc7ee1f82fd",
   "metadata": {},
   "outputs": [],
   "source": [
    "import qdrant_client\n",
    "from llama_index.core import VectorStoreIndex\n",
    "from llama_index.core import StorageContext\n",
    "from llama_index.vector_stores.qdrant import QdrantVectorStore\n",
    "\n",
    "from src.run.orchestrator import RunOrchestrator"
   ]
  },
  {
   "cell_type": "code",
   "execution_count": 21,
   "id": "f70b18c0-3644-4af9-87d1-2fe03fe51a0e",
   "metadata": {},
   "outputs": [
    {
     "name": "stderr",
     "output_type": "stream",
     "text": [
      "\u001b[32m2024-08-09 08:41:26.436\u001b[0m | \u001b[1mINFO    \u001b[0m | \u001b[36msrc.run.orchestrator\u001b[0m:\u001b[36msetup_db\u001b[0m:\u001b[36m34\u001b[0m - \u001b[1mUse existing Qdrant collection: review_rec_bot__huggingface__Snowflake_snowflake_arctic_embed_m_v1_5__005_use_smaller_embedding_model\u001b[0m\n",
      "WARNI [llama_index.vector_stores.qdrant.base] Both client and aclient are provided. If using `:memory:` mode, the data between clients is not synced.\n"
     ]
    }
   ],
   "source": [
    "qdrantdb = qdrant_client.QdrantClient(\n",
    "    host=\"localhost\",\n",
    "    port=6333\n",
    ")\n",
    "aqdrantdb = qdrant_client.AsyncQdrantClient(\n",
    "    host=\"localhost\",\n",
    "    port=6333\n",
    ")\n",
    "\n",
    "RunOrchestrator.setup_db(cfg, qdrantdb)\n",
    "\n",
    "db_collection = qdrantdb.get_collection(cfg.db_collection)\n",
    "vector_store = QdrantVectorStore(\n",
    "    client=qdrantdb,\n",
    "    collection_name=cfg.db_collection,\n",
    "    aclient=aqdrantdb,\n",
    "    prefer_grpc=True\n",
    ")\n",
    "storage_context = StorageContext.from_defaults(vector_store=vector_store)"
   ]
  },
  {
   "cell_type": "markdown",
   "id": "3187f814-b85a-4e86-ad93-a8433869bdaf",
   "metadata": {},
   "source": [
    "# Index Embeddings"
   ]
  },
  {
   "cell_type": "code",
   "execution_count": 22,
   "id": "2f9b92d8-fdd5-461e-92b9-186e9a9da6a2",
   "metadata": {},
   "outputs": [],
   "source": [
    "import time\n",
    "import pickle\n",
    "from multiprocessing import set_start_method\n",
    "from llama_index.core.node_parser import SemanticSplitterNodeParser\n",
    "# from llama_index.core.node_parser import SentenceSplitter"
   ]
  },
  {
   "cell_type": "code",
   "execution_count": 23,
   "id": "f16836f9-4e51-44ce-a145-e86bd56a2b18",
   "metadata": {},
   "outputs": [],
   "source": [
    "chunker = SemanticSplitterNodeParser\n",
    "chunker_cfg = {\n",
    "    \"buffer_size\": 1,\n",
    "    \"breakpoint_percentile_threshold\": 95,\n",
    "    \"embed_model\": embed_model\n",
    "}\n",
    "\n",
    "# chunker = SentenceSplitter\n",
    "# chunker_cfg = {\n",
    "#     \"chunk_size\": 512,\n",
    "#     \"chunk_overlap\": 10\n",
    "# }"
   ]
  },
  {
   "cell_type": "code",
   "execution_count": 24,
   "id": "dce6ba28-1c1b-4ca0-818e-07b5bd3b58f4",
   "metadata": {
    "scrolled": true
   },
   "outputs": [
    {
     "name": "stderr",
     "output_type": "stream",
     "text": [
      "\u001b[32m2024-08-09 08:41:26.558\u001b[0m | \u001b[1mINFO    \u001b[0m | \u001b[36m__main__\u001b[0m:\u001b[36m<module>\u001b[0m:\u001b[36m7\u001b[0m - \u001b[1mLoading index from existing DB...\u001b[0m\n",
      "\u001b[32m2024-08-09 08:41:26.559\u001b[0m | \u001b[1mINFO    \u001b[0m | \u001b[36m__main__\u001b[0m:\u001b[36m<module>\u001b[0m:\u001b[36m9\u001b[0m - \u001b[1mLoading cached `nodes` at data/005_use_smaller_embedding_model/nodes.pkl...\u001b[0m\n"
     ]
    }
   ],
   "source": [
    "t0 = time.perf_counter()\n",
    "# TODO: TO understand the differences between points_count and indexed_vector_counts.\n",
    "# Here indexed_vector_counts = 0\n",
    "db_collection_count = db_collection.points_count\n",
    "\n",
    "if db_collection_count > 0 and ARGS.RECREATE_INDEX == False:\n",
    "    logger.info(f\"Loading index from existing DB...\")\n",
    "    with open(cfg.nodes_persist_fp, 'rb') as f:\n",
    "        logger.info(f\"Loading cached `nodes` at {cfg.nodes_persist_fp}...\")\n",
    "        nodes = pickle.load(f)\n",
    "else:\n",
    "    logger.info(f\"Creating new DB index...\")\n",
    "    from llama_index.core.extractors import TitleExtractor\n",
    "    from llama_index.core.ingestion import IngestionPipeline, IngestionCache\n",
    "\n",
    "    # create the pipeline with transformations\n",
    "    pipeline = IngestionPipeline(\n",
    "        transformations=[\n",
    "            chunker(**chunker_cfg),\n",
    "            embed_model,\n",
    "        ],\n",
    "        vector_store = vector_store\n",
    "    )\n",
    "\n",
    "    num_workers = None\n",
    "    # TODO: I can get the preprocessing completed much quicker if I push the initial steps through a multiprocessing loop and then separately create the embeddings using the built-in batching already provided in the SentenceTransformer encode method.\n",
    "    # Ref: https://github.com/run-llama/llama_index/issues/10104#issuecomment-1899401584\n",
    "    # Currently setting num_workers leads to code simple hang\n",
    "    # Ref: https://github.com/run-llama/llama_index/issues/10104\n",
    "    # num_workers = os.cpu_count() - 1\n",
    "    # os.environ['TOKENIZERS_PARALLELISM'] = 'true'\n",
    "    # set_start_method(\"spawn\", force=True)  # it hangs without this line\n",
    "    logger.info(f\"Running Ingestion Pipeline with {num_workers=}...\")\n",
    "    nodes = await pipeline.arun(documents=documents, num_workers=num_workers, show_progress=True)\n",
    "    logger.info(f\"Persisting nodes to {cfg.nodes_persist_fp}...\")\n",
    "    with open(cfg.nodes_persist_fp, 'wb') as f:\n",
    "        pickle.dump(nodes, f)\n",
    "index = VectorStoreIndex.from_vector_store(vector_store, storage_context=storage_context)\n",
    "t1 = time.perf_counter()"
   ]
  },
  {
   "cell_type": "code",
   "execution_count": 25,
   "id": "7488b8d2-982f-4d57-8bcb-9013c8644df2",
   "metadata": {},
   "outputs": [
    {
     "name": "stderr",
     "output_type": "stream",
     "text": [
      "\u001b[32m2024-08-09 08:41:32.180\u001b[0m | \u001b[1mINFO    \u001b[0m | \u001b[36m__main__\u001b[0m:\u001b[36m<module>\u001b[0m:\u001b[36m1\u001b[0m - \u001b[1mIndexing 5240 into VectorStoreIndex took 6s\u001b[0m\n",
      "\u001b[32m2024-08-09 08:41:32.181\u001b[0m | \u001b[1mINFO    \u001b[0m | \u001b[36m__main__\u001b[0m:\u001b[36m<module>\u001b[0m:\u001b[36m2\u001b[0m - \u001b[1m[COLLECT] len(nodes)=10219\u001b[0m\n"
     ]
    }
   ],
   "source": [
    "logger.info(f\"Indexing {len(documents)} into VectorStoreIndex took {t1 - t0:,.0f}s\")\n",
    "logger.info(f\"[COLLECT] {len(nodes)=}\")"
   ]
  },
  {
   "cell_type": "markdown",
   "id": "418c8725-bdee-451a-83e3-ca8853c3ee9c",
   "metadata": {},
   "source": [
    "# Analyze Chunks"
   ]
  },
  {
   "cell_type": "code",
   "execution_count": 26,
   "id": "f08657fd-5b20-434c-aea7-472bd43830c5",
   "metadata": {
    "scrolled": true
   },
   "outputs": [
    {
     "name": "stdout",
     "output_type": "stream",
     "text": [
      "\n",
      "\n",
      "==========Node 1============\n",
      "{'review_id': 'L0jv8c2FbpWSlfNC6bbUEA', 'user_id': 'bFPdtzu11Oi0f92EAcjqmg', 'business_id': 'IDtLPgUrqorrpqSLdfMhZQ', 'review_stars': 5, 'useful': 0, 'funny': 0, 'cool': 0, 'date': '2016-10-13T22:50:47', 'biz_name': 'Helena Avenue Bakery', 'biz_address': '131 Anacapa St, Ste C', 'biz_city': 'Santa Barbara', 'biz_state': 'CA', 'biz_postal_code': '93101', 'biz_latitude': 34.4144445, 'biz_longitude': -119.6906718, 'biz_stars': 4.0, 'biz_review_count': 389, 'biz_is_open': 1, 'biz_attributes': {'AcceptsInsurance': None, 'Alcohol': \"u'none'\", 'Ambience': \"{'touristy': False, 'hipster': True, 'romantic': False, 'divey': False, 'intimate': False, 'trendy': True, 'upscale': False, 'classy': False, 'casual': True}\", 'BYOB': None, 'BestNights': None, 'BikeParking': 'True', 'BusinessAcceptsBitcoin': None, 'BusinessAcceptsCreditCards': 'True', 'BusinessParking': \"{'garage': False, 'street': True, 'validated': False, 'lot': False, 'valet': False}\", 'ByAppointmentOnly': None, 'Caters': 'True', 'CoatCheck': None, 'Corkage': None, 'DogsAllowed': 'True', 'DriveThru': None, 'GoodForDancing': None, 'GoodForKids': 'True', 'GoodForMeal': \"{'dessert': False, 'latenight': False, 'lunch': True, 'dinner': False, 'brunch': True, 'breakfast': True}\", 'HappyHour': 'False', 'HasTV': 'False', 'Music': None, 'NoiseLevel': \"u'average'\", 'OutdoorSeating': 'True', 'RestaurantsAttire': \"'casual'\", 'RestaurantsDelivery': 'None', 'RestaurantsGoodForGroups': 'True', 'RestaurantsPriceRange2': '2', 'RestaurantsReservations': 'False', 'RestaurantsTableService': 'False', 'RestaurantsTakeOut': 'True', 'Smoking': None, 'WheelchairAccessible': 'True', 'WiFi': \"u'no'\"}, 'biz_categories': ['Food', 'Restaurants', 'Salad', 'Coffee & Tea', 'Breakfast & Brunch', 'Sandwiches', 'Bakeries'], 'biz_hours': {'Friday': '8:0-14:0', 'Monday': '0:0-0:0', 'Saturday': '8:0-14:0', 'Sunday': '8:0-14:0', 'Thursday': '8:0-14:0', 'Tuesday': '8:0-14:0', 'Wednesday': '8:0-14:0'}}\n",
      "What a great addition to the Funk Zone!  Grab a bite, grab some tastings, life is good. \n",
      "\n",
      "\n",
      "==========Node 2============\n",
      "{'review_id': 'L0jv8c2FbpWSlfNC6bbUEA', 'user_id': 'bFPdtzu11Oi0f92EAcjqmg', 'business_id': 'IDtLPgUrqorrpqSLdfMhZQ', 'review_stars': 5, 'useful': 0, 'funny': 0, 'cool': 0, 'date': '2016-10-13T22:50:47', 'biz_name': 'Helena Avenue Bakery', 'biz_address': '131 Anacapa St, Ste C', 'biz_city': 'Santa Barbara', 'biz_state': 'CA', 'biz_postal_code': '93101', 'biz_latitude': 34.4144445, 'biz_longitude': -119.6906718, 'biz_stars': 4.0, 'biz_review_count': 389, 'biz_is_open': 1, 'biz_attributes': {'AcceptsInsurance': None, 'Alcohol': \"u'none'\", 'Ambience': \"{'touristy': False, 'hipster': True, 'romantic': False, 'divey': False, 'intimate': False, 'trendy': True, 'upscale': False, 'classy': False, 'casual': True}\", 'BYOB': None, 'BestNights': None, 'BikeParking': 'True', 'BusinessAcceptsBitcoin': None, 'BusinessAcceptsCreditCards': 'True', 'BusinessParking': \"{'garage': False, 'street': True, 'validated': False, 'lot': False, 'valet': False}\", 'ByAppointmentOnly': None, 'Caters': 'True', 'CoatCheck': None, 'Corkage': None, 'DogsAllowed': 'True', 'DriveThru': None, 'GoodForDancing': None, 'GoodForKids': 'True', 'GoodForMeal': \"{'dessert': False, 'latenight': False, 'lunch': True, 'dinner': False, 'brunch': True, 'breakfast': True}\", 'HappyHour': 'False', 'HasTV': 'False', 'Music': None, 'NoiseLevel': \"u'average'\", 'OutdoorSeating': 'True', 'RestaurantsAttire': \"'casual'\", 'RestaurantsDelivery': 'None', 'RestaurantsGoodForGroups': 'True', 'RestaurantsPriceRange2': '2', 'RestaurantsReservations': 'False', 'RestaurantsTableService': 'False', 'RestaurantsTakeOut': 'True', 'Smoking': None, 'WheelchairAccessible': 'True', 'WiFi': \"u'no'\"}, 'biz_categories': ['Food', 'Restaurants', 'Salad', 'Coffee & Tea', 'Breakfast & Brunch', 'Sandwiches', 'Bakeries'], 'biz_hours': {'Friday': '8:0-14:0', 'Monday': '0:0-0:0', 'Saturday': '8:0-14:0', 'Sunday': '8:0-14:0', 'Thursday': '8:0-14:0', 'Tuesday': '8:0-14:0', 'Wednesday': '8:0-14:0'}}\n",
      "Right next door to the Santa Barbara Wine Collective, in fact it actually shares the same tables.  We had a fabulous savory croissant.\n",
      "\n",
      "\n",
      "==========Node 3============\n",
      "{'review_id': 'mMwnX1vc3tQUeDNS2wiKFw', 'user_id': 'f10WH1fXhy-68r4AEEhAWA', 'business_id': '9OG5YkX1g2GReZM0AskizA', 'review_stars': 4, 'useful': 0, 'funny': 0, 'cool': 0, 'date': '2016-01-30T03:16:46', 'biz_name': \"Romano's Macaroni Grill\", 'biz_address': '5505 S Virginia St', 'biz_city': 'Reno', 'biz_state': 'NV', 'biz_postal_code': '89502', 'biz_latitude': 39.4761165, 'biz_longitude': -119.7893392, 'biz_stars': 2.5, 'biz_review_count': 339, 'biz_is_open': 1, 'biz_attributes': {'AcceptsInsurance': None, 'Alcohol': \"'full_bar'\", 'Ambience': \"{u'divey': False, u'hipster': False, u'casual': True, u'touristy': False, u'trendy': False, u'intimate': False, u'romantic': None, u'classy': None, u'upscale': False}\", 'BYOB': None, 'BestNights': None, 'BikeParking': 'True', 'BusinessAcceptsBitcoin': None, 'BusinessAcceptsCreditCards': 'True', 'BusinessParking': \"{'garage': False, 'street': False, 'validated': False, 'lot': True, 'valet': False}\", 'ByAppointmentOnly': None, 'Caters': 'True', 'CoatCheck': None, 'Corkage': None, 'DogsAllowed': 'False', 'DriveThru': None, 'GoodForDancing': None, 'GoodForKids': 'True', 'GoodForMeal': \"{'dessert': None, 'latenight': False, 'lunch': True, 'dinner': True, 'brunch': None, 'breakfast': False}\", 'HappyHour': 'True', 'HasTV': 'True', 'Music': None, 'NoiseLevel': \"u'average'\", 'OutdoorSeating': 'True', 'RestaurantsAttire': \"'casual'\", 'RestaurantsDelivery': 'True', 'RestaurantsGoodForGroups': 'True', 'RestaurantsPriceRange2': '2', 'RestaurantsReservations': 'True', 'RestaurantsTableService': 'True', 'RestaurantsTakeOut': 'True', 'Smoking': None, 'WheelchairAccessible': None, 'WiFi': \"u'free'\"}, 'biz_categories': ['Restaurants', 'Italian'], 'biz_hours': {'Friday': '11:0-21:0', 'Monday': '11:0-22:0', 'Saturday': '12:0-21:0', 'Sunday': '11:0-21:0', 'Thursday': '11:0-20:0', 'Tuesday': '11:0-22:0', 'Wednesday': '10:0-22:0'}}\n",
      "Great bar Happy Hour 4-7 every day. Wine & Drafts $3, $5 pizza, $4.50 apps. To-go Dinners and lunches are very reasonable and fast. \n",
      "\n",
      "\n",
      "==========Node 4============\n",
      "{'review_id': 'mMwnX1vc3tQUeDNS2wiKFw', 'user_id': 'f10WH1fXhy-68r4AEEhAWA', 'business_id': '9OG5YkX1g2GReZM0AskizA', 'review_stars': 4, 'useful': 0, 'funny': 0, 'cool': 0, 'date': '2016-01-30T03:16:46', 'biz_name': \"Romano's Macaroni Grill\", 'biz_address': '5505 S Virginia St', 'biz_city': 'Reno', 'biz_state': 'NV', 'biz_postal_code': '89502', 'biz_latitude': 39.4761165, 'biz_longitude': -119.7893392, 'biz_stars': 2.5, 'biz_review_count': 339, 'biz_is_open': 1, 'biz_attributes': {'AcceptsInsurance': None, 'Alcohol': \"'full_bar'\", 'Ambience': \"{u'divey': False, u'hipster': False, u'casual': True, u'touristy': False, u'trendy': False, u'intimate': False, u'romantic': None, u'classy': None, u'upscale': False}\", 'BYOB': None, 'BestNights': None, 'BikeParking': 'True', 'BusinessAcceptsBitcoin': None, 'BusinessAcceptsCreditCards': 'True', 'BusinessParking': \"{'garage': False, 'street': False, 'validated': False, 'lot': True, 'valet': False}\", 'ByAppointmentOnly': None, 'Caters': 'True', 'CoatCheck': None, 'Corkage': None, 'DogsAllowed': 'False', 'DriveThru': None, 'GoodForDancing': None, 'GoodForKids': 'True', 'GoodForMeal': \"{'dessert': None, 'latenight': False, 'lunch': True, 'dinner': True, 'brunch': None, 'breakfast': False}\", 'HappyHour': 'True', 'HasTV': 'True', 'Music': None, 'NoiseLevel': \"u'average'\", 'OutdoorSeating': 'True', 'RestaurantsAttire': \"'casual'\", 'RestaurantsDelivery': 'True', 'RestaurantsGoodForGroups': 'True', 'RestaurantsPriceRange2': '2', 'RestaurantsReservations': 'True', 'RestaurantsTableService': 'True', 'RestaurantsTakeOut': 'True', 'Smoking': None, 'WheelchairAccessible': None, 'WiFi': \"u'free'\"}, 'biz_categories': ['Restaurants', 'Italian'], 'biz_hours': {'Friday': '11:0-21:0', 'Monday': '11:0-22:0', 'Saturday': '12:0-21:0', 'Sunday': '11:0-21:0', 'Thursday': '11:0-20:0', 'Tuesday': '11:0-22:0', 'Wednesday': '10:0-22:0'}}\n",
      "Staff are as friendly as it gets.\n",
      "\n",
      "\n",
      "==========Node 5============\n",
      "{'review_id': 'uwPhE21CZLlp1kkSMPvvYw', 'user_id': '5OnQqP3q2_9auNdDKpLdsw', 'business_id': 'WKMJwqnfZKsAae75RMP6jA', 'review_stars': 3, 'useful': 0, 'funny': 0, 'cool': 0, 'date': '2012-11-06T23:35:15', 'biz_name': 'Roast Coffeehouse and Wine Bar', 'biz_address': '10359 104 Street NW', 'biz_city': 'Edmonton', 'biz_state': 'AB', 'biz_postal_code': 'T5J 1B9', 'biz_latitude': 53.5460453, 'biz_longitude': -113.4991693, 'biz_stars': 4.0, 'biz_review_count': 40, 'biz_is_open': 0, 'biz_attributes': {'AcceptsInsurance': None, 'Alcohol': \"u'beer_and_wine'\", 'Ambience': \"{'romantic': False, 'intimate': False, 'classy': False, 'hipster': True, 'touristy': False, 'trendy': True, 'upscale': False, 'casual': False}\", 'BYOB': None, 'BestNights': None, 'BikeParking': None, 'BusinessAcceptsBitcoin': None, 'BusinessAcceptsCreditCards': None, 'BusinessParking': \"{'garage': False, 'street': True, 'validated': False, 'lot': True, 'valet': False}\", 'ByAppointmentOnly': None, 'Caters': 'True', 'CoatCheck': None, 'Corkage': None, 'DogsAllowed': None, 'DriveThru': None, 'GoodForDancing': None, 'GoodForKids': 'False', 'GoodForMeal': None, 'HappyHour': None, 'HasTV': 'False', 'Music': None, 'NoiseLevel': \"u'average'\", 'OutdoorSeating': 'False', 'RestaurantsAttire': \"u'casual'\", 'RestaurantsDelivery': 'False', 'RestaurantsGoodForGroups': 'True', 'RestaurantsPriceRange2': '2', 'RestaurantsReservations': 'False', 'RestaurantsTableService': None, 'RestaurantsTakeOut': 'True', 'Smoking': None, 'WheelchairAccessible': None, 'WiFi': \"u'free'\"}, 'biz_categories': ['Coffee & Tea', 'Food', 'Cafes', 'Bars', 'Wine Bars', 'Restaurants', 'Nightlife'], 'biz_hours': {'Friday': '8:0-18:0', 'Monday': '8:0-18:0', 'Saturday': '8:0-18:0', 'Sunday': '10:0-17:0', 'Thursday': '8:0-18:0', 'Tuesday': '8:0-18:0', 'Wednesday': '8:0-18:0'}}\n",
      "So much to like about this place--the beautiful Mercer Building location, the spaciousness, the lovely, friendly baristas. But there are a couple of important cons for me. Biggest being, the music is constant and too loud, ruining everything you go to a coffee shop to do: read, work, reflect, or enjoy a good conversation. When I asked for it to be turned down, they told me they can't--it just plays at one level all the time, and the speakers  are everywhere so you can't get away from it. It sucks.\n",
      "\n",
      "\n"
     ]
    }
   ],
   "source": [
    "for i, node in enumerate(nodes[:5]):\n",
    "    print(f\"\\n\\n==========Node {i+1}============\")\n",
    "    print(node.metadata)\n",
    "    print(node.get_text())"
   ]
  },
  {
   "cell_type": "markdown",
   "id": "80d5ed6d-6d65-45eb-9f41-7252da7df351",
   "metadata": {},
   "source": [
    "# Construct Retriever"
   ]
  },
  {
   "cell_type": "raw",
   "id": "5ac6c686-e3f9-45ff-acd5-c44ab372d040",
   "metadata": {},
   "source": [
    "from llama_index.core.retrievers import VectorIndexRetriever"
   ]
  },
  {
   "cell_type": "raw",
   "id": "65e124c4-ce60-45d6-90a5-3b04eb6e6202",
   "metadata": {},
   "source": [
    "print(cfg.retrieval_cfg.model_dump_json(indent=2))"
   ]
  },
  {
   "cell_type": "raw",
   "id": "862f8653-c01b-4df0-bb77-f338b38ff428",
   "metadata": {
    "scrolled": true
   },
   "source": [
    "# configure retriever\n",
    "retriever = VectorIndexRetriever(\n",
    "    index=index,\n",
    "    similarity_top_k=cfg.retrieval_cfg.retrieval_top_k,\n",
    ")"
   ]
  },
  {
   "cell_type": "code",
   "execution_count": 27,
   "id": "f9a165a6-71c5-4122-a50b-2e368d97ac7a",
   "metadata": {},
   "outputs": [
    {
     "name": "stderr",
     "output_type": "stream",
     "text": [
      "DEBUG [bm25s] Building index from IDs objects\n"
     ]
    }
   ],
   "source": [
    "from llama_index.retrievers.bm25 import BM25Retriever\n",
    "import Stemmer\n",
    "\n",
    "retriever = BM25Retriever.from_defaults(\n",
    "    nodes=nodes,\n",
    "    similarity_top_k=10,\n",
    "    stemmer=Stemmer.Stemmer(\"english\"),\n",
    "    language=\"english\",\n",
    ")"
   ]
  },
  {
   "cell_type": "markdown",
   "id": "bf68f7fa-07cf-42d4-aaf8-f3f356d5157b",
   "metadata": {},
   "source": [
    "## Test retrieval"
   ]
  },
  {
   "cell_type": "code",
   "execution_count": 28,
   "id": "a5ffc07c-ecf0-443a-b470-3780f9b589a6",
   "metadata": {},
   "outputs": [],
   "source": [
    "from llama_index.core.response.notebook_utils import display_source_node"
   ]
  },
  {
   "cell_type": "code",
   "execution_count": 29,
   "id": "10f7d164-a3ef-4304-9454-2a9b3a842b51",
   "metadata": {
    "scrolled": true
   },
   "outputs": [
    {
     "data": {
      "text/markdown": [
       "**Node ID:** c219b275-7042-42e0-9741-0e4e0e537912<br>**Similarity:** 6.007098197937012<br>**Text:** Pricey ( a ham and cheese croissant was $5.50)  as with anywhere in Santa Barbra but very delicious. Cute space ( a bit hard to find ). The green eggs and ham  breakfast biscuit is to die for.  ($10 I think) The Santa Barbra tri tip sandwich was excellent! Cold brew coffee was good.<br>"
      ],
      "text/plain": [
       "<IPython.core.display.Markdown object>"
      ]
     },
     "metadata": {},
     "output_type": "display_data"
    },
    {
     "name": "stdout",
     "output_type": "stream",
     "text": [
      "review_stars: 4\n",
      "biz_name: Helena Avenue Bakery\n",
      "biz_address: 131 Anacapa St, Ste C\n",
      "biz_city: Santa Barbara\n",
      "biz_state: CA\n",
      "biz_categories: ['Food', 'Restaurants', 'Salad', 'Coffee & Tea', 'Breakfast & Brunch', 'Sandwiches', 'Bakeries']\n",
      "\n",
      "Pricey ( a ham and cheese croissant was $5.50)  as with anywhere in Santa Barbra but very delicious. Cute space ( a bit hard to find ). The green eggs and ham  breakfast biscuit is to die for.  ($10 I think) The Santa Barbra tri tip sandwich was excellent! Cold brew coffee was good.\n",
      "\n",
      "\n"
     ]
    },
    {
     "data": {
      "text/markdown": [
       "**Node ID:** 9594faec-4e66-4b78-9c35-42c8b37a33cb<br>**Similarity:** 5.8539934158325195<br>**Text:** This review is for the delicious breakfast and coffee. The Green Breakfast Bowl and the Biscuit sandwich were both perfectly cooked, fresh, flavorful. We were really impressed with the quality of the cappuccino and the cold brew coffee.<br>"
      ],
      "text/plain": [
       "<IPython.core.display.Markdown object>"
      ]
     },
     "metadata": {},
     "output_type": "display_data"
    },
    {
     "name": "stdout",
     "output_type": "stream",
     "text": [
      "review_stars: 5\n",
      "biz_name: Helena Avenue Bakery\n",
      "biz_address: 131 Anacapa St, Ste C\n",
      "biz_city: Santa Barbara\n",
      "biz_state: CA\n",
      "biz_categories: ['Food', 'Restaurants', 'Salad', 'Coffee & Tea', 'Breakfast & Brunch', 'Sandwiches', 'Bakeries']\n",
      "\n",
      "This review is for the delicious breakfast and coffee. The Green Breakfast Bowl and the Biscuit sandwich were both perfectly cooked, fresh, flavorful. We were really impressed with the quality of the cappuccino and the cold brew coffee.\n",
      "\n",
      "\n"
     ]
    },
    {
     "data": {
      "text/markdown": [
       "**Node ID:** 5c81703a-7c5a-416b-8b4e-a85adfc7e7d4<br>**Similarity:** 5.81143045425415<br>**Text:** If it's cold, come grab a coffee instead. They offer all the great styles and flavors of coffee as any other coffee house you'll find.<br>"
      ],
      "text/plain": [
       "<IPython.core.display.Markdown object>"
      ]
     },
     "metadata": {},
     "output_type": "display_data"
    },
    {
     "name": "stdout",
     "output_type": "stream",
     "text": [
      "review_stars: 5\n",
      "biz_name: Mike's Ice Cream\n",
      "biz_address: 129 2nd Ave N\n",
      "biz_city: Nashville\n",
      "biz_state: TN\n",
      "biz_categories: ['Ice Cream & Frozen Yogurt', 'Coffee & Tea', 'Restaurants', 'Sandwiches', 'Food']\n",
      "\n",
      "If it's cold, come grab a coffee instead. They offer all the great styles and flavors of coffee as any other coffee house you'll find.\n",
      "\n",
      "\n"
     ]
    },
    {
     "data": {
      "text/markdown": [
       "**Node ID:** f4c371ab-f4d1-4365-8c83-db3dfdd6c74c<br>**Similarity:** 4.635417938232422<br>**Text:** Barista was fast at least. Good latte and cold brew. I should have just ordered a pastry though.<br>"
      ],
      "text/plain": [
       "<IPython.core.display.Markdown object>"
      ]
     },
     "metadata": {},
     "output_type": "display_data"
    },
    {
     "name": "stdout",
     "output_type": "stream",
     "text": [
      "review_stars: 3\n",
      "biz_name: Helena Avenue Bakery\n",
      "biz_address: 131 Anacapa St, Ste C\n",
      "biz_city: Santa Barbara\n",
      "biz_state: CA\n",
      "biz_categories: ['Food', 'Restaurants', 'Salad', 'Coffee & Tea', 'Breakfast & Brunch', 'Sandwiches', 'Bakeries']\n",
      "\n",
      "Barista was fast at least. Good latte and cold brew. I should have just ordered a pastry though.\n",
      "\n",
      "\n"
     ]
    },
    {
     "data": {
      "text/markdown": [
       "**Node ID:** 3eeaa309-8f13-406c-b1d7-ac1d15413b62<br>**Similarity:** 4.553103446960449<br>**Text:** Service at the register was friendly. Cold brew was sooo good as were the sandwiches we got. Will most definitely be back.<br>"
      ],
      "text/plain": [
       "<IPython.core.display.Markdown object>"
      ]
     },
     "metadata": {},
     "output_type": "display_data"
    },
    {
     "name": "stdout",
     "output_type": "stream",
     "text": [
      "review_stars: 5\n",
      "biz_name: Helena Avenue Bakery\n",
      "biz_address: 131 Anacapa St, Ste C\n",
      "biz_city: Santa Barbara\n",
      "biz_state: CA\n",
      "biz_categories: ['Food', 'Restaurants', 'Salad', 'Coffee & Tea', 'Breakfast & Brunch', 'Sandwiches', 'Bakeries']\n",
      "\n",
      "Service at the register was friendly. Cold brew was sooo good as were the sandwiches we got. Will most definitely be back.\n",
      "\n",
      "\n"
     ]
    },
    {
     "data": {
      "text/markdown": [
       "**Node ID:** 412cb959-804e-415c-b175-ba86cd11f5c6<br>**Similarity:** 4.432224273681641<br>**Text:** I'm a fan of dark roast but it's usually not available. My advice brew different flavors of coffee and keep it hot.<br>"
      ],
      "text/plain": [
       "<IPython.core.display.Markdown object>"
      ]
     },
     "metadata": {},
     "output_type": "display_data"
    },
    {
     "name": "stdout",
     "output_type": "stream",
     "text": [
      "review_stars: 4\n",
      "biz_name: Wawa\n",
      "biz_address: 3604 Chestnut St\n",
      "biz_city: Philadelphia\n",
      "biz_state: PA\n",
      "biz_categories: ['Restaurants', 'Automotive', 'Delis', 'Gas Stations', 'Food', 'Coffee & Tea', 'Sandwiches', 'Convenience Stores']\n",
      "\n",
      "I'm a fan of dark roast but it's usually not available. My advice brew different flavors of coffee and keep it hot.\n",
      "\n",
      "\n"
     ]
    },
    {
     "data": {
      "text/markdown": [
       "**Node ID:** 0e0911f0-02dd-46e1-8f3c-012af00cb649<br>**Similarity:** 4.331442832946777<br>**Text:** Eggs over medium where cold and NOT cooked right.<br>"
      ],
      "text/plain": [
       "<IPython.core.display.Markdown object>"
      ]
     },
     "metadata": {},
     "output_type": "display_data"
    },
    {
     "name": "stdout",
     "output_type": "stream",
     "text": [
      "review_stars: 1\n",
      "biz_name: Caviar & Bananas\n",
      "biz_address: 2031 Broadway\n",
      "biz_city: Nashville\n",
      "biz_state: TN\n",
      "biz_categories: ['Coffee & Tea', 'Restaurants', 'Wine Bars', 'Bars', 'Nightlife', 'American (Traditional)', 'Event Planning & Services', 'Food', 'Caterers', 'Breakfast & Brunch', 'Cafes', 'Diners']\n",
      "\n",
      "Eggs over medium where cold and NOT cooked right.\n",
      "\n",
      "\n"
     ]
    },
    {
     "data": {
      "text/markdown": [
       "**Node ID:** b927a5c0-6676-4eb7-9642-58481c3052c1<br>**Similarity:** 4.330219268798828<br>**Text:** Great place to grab a bite. Food was great, service was awesome and beer was super cold! Miranda from hogwarts took great care of us. We where super excited to find out they had dart boards and pool tables at this location.<br>"
      ],
      "text/plain": [
       "<IPython.core.display.Markdown object>"
      ]
     },
     "metadata": {},
     "output_type": "display_data"
    },
    {
     "name": "stdout",
     "output_type": "stream",
     "text": [
      "review_stars: 5\n",
      "biz_name: Twin Peaks\n",
      "biz_address: 6880 E 82nd St\n",
      "biz_city: Indianapolis\n",
      "biz_state: IN\n",
      "biz_categories: ['Sports Bars', 'American (New)', 'American (Traditional)', 'Nightlife', 'Bars', 'Restaurants']\n",
      "\n",
      "Great place to grab a bite. Food was great, service was awesome and beer was super cold! Miranda from hogwarts took great care of us. We where super excited to find out they had dart boards and pool tables at this location.\n",
      "\n",
      "\n"
     ]
    },
    {
     "data": {
      "text/markdown": [
       "**Node ID:** 1feb8c9e-01f4-4edb-80df-25865bdeac94<br>**Similarity:** 4.188203811645508<br>**Text:** I don't always like their beers, mainly because I'm not necessarily a fan of all the styles of beer that they brew here, but I do recognize that this place has the best execution of the things they brew. In other words, while I may not like everything they serve, they do it all well. \n",
       "\n",
       "Some of my favorites here include their coffee porter and their pumpkin ale (the best pumpkin offering in the city). I recently also had their pumpkin porter which was amazing.\n",
       "\n",
       "I really like their space as well, but I find the tasting bar to be too small and getting served (or even bellying up to the bar) can sometimes be a challenge. It's also disappointing that you can't always get a pint of beer here.<br>"
      ],
      "text/plain": [
       "<IPython.core.display.Markdown object>"
      ]
     },
     "metadata": {},
     "output_type": "display_data"
    },
    {
     "name": "stdout",
     "output_type": "stream",
     "text": [
      "review_stars: 4\n",
      "biz_name: Bier Brewery and Tap Room\n",
      "biz_address: 5133 E 65th St\n",
      "biz_city: Indianapolis\n",
      "biz_state: IN\n",
      "biz_categories: ['Food', 'Beer', 'Wine & Spirits', 'Breweries']\n",
      "\n",
      "I don't always like their beers, mainly because I'm not necessarily a fan of all the styles of beer that they brew here, but I do recognize that this place has the best execution of the things they brew. In other words, while I may not like everything they serve, they do it all well. \n",
      "\n",
      "Some of my favorites here include their coffee porter and their pumpkin ale (the best pumpkin offering in the city). I recently also had their pumpkin porter which was amazing.\n",
      "\n",
      "I really like their space as well, but I find the tasting bar to be too small and getting served (or even bellying up to the bar) can sometimes be a challenge. It's also disappointing that you can't always get a pint of beer here.\n",
      "\n",
      "\n"
     ]
    },
    {
     "data": {
      "text/markdown": [
       "**Node ID:** 69b3293e-61f2-45d2-bc7a-bf86d0ebb573<br>**Similarity:** 4.049711227416992<br>**Text:** Don't be discouraged by the line since it moves quickly. We got the green eggs and ham, savory scone, cold brew, and mimosas! Their patio is delicious to sit at and enjoy the food!<br>"
      ],
      "text/plain": [
       "<IPython.core.display.Markdown object>"
      ]
     },
     "metadata": {},
     "output_type": "display_data"
    },
    {
     "name": "stdout",
     "output_type": "stream",
     "text": [
      "review_stars: 5\n",
      "biz_name: Helena Avenue Bakery\n",
      "biz_address: 131 Anacapa St, Ste C\n",
      "biz_city: Santa Barbara\n",
      "biz_state: CA\n",
      "biz_categories: ['Food', 'Restaurants', 'Salad', 'Coffee & Tea', 'Breakfast & Brunch', 'Sandwiches', 'Bakeries']\n",
      "\n",
      "Don't be discouraged by the line since it moves quickly. We got the green eggs and ham, savory scone, cold brew, and mimosas! Their patio is delicious to sit at and enjoy the food!\n",
      "\n",
      "\n"
     ]
    }
   ],
   "source": [
    "query = \"where to find some cold brew coffee?\"\n",
    "retrieval_results = await retriever.aretrieve(query)\n",
    "for node in retrieval_results:\n",
    "    display_source_node(node, source_length=1000)\n",
    "    print(node.get_content(metadata_mode=MetadataMode.EMBED))\n",
    "    print(\"\\n\")"
   ]
  },
  {
   "cell_type": "markdown",
   "id": "db55eba9-a4cc-4009-8ae9-3f6c9f905541",
   "metadata": {},
   "source": [
    "## Retrieval Evaluation"
   ]
  },
  {
   "cell_type": "markdown",
   "id": "7c79e365-586c-4b7f-89fb-9a380da99236",
   "metadata": {},
   "source": [
    "### Synthetic"
   ]
  },
  {
   "cell_type": "code",
   "execution_count": 34,
   "id": "b4b978af-9fa7-45a5-a99f-981b6003e41d",
   "metadata": {},
   "outputs": [],
   "source": [
    "with open(cfg.nodes_persist_fp, 'rb') as f:\n",
    "    nodes = pickle.load(f)"
   ]
  },
  {
   "cell_type": "code",
   "execution_count": 35,
   "id": "ceba45ff-eccb-4bf5-8381-bf2866e72f42",
   "metadata": {},
   "outputs": [],
   "source": [
    "from src.run.eval import RetrievalEvaluator"
   ]
  },
  {
   "cell_type": "code",
   "execution_count": 36,
   "id": "570a1030-9104-4788-a417-1b7bc89f8ef4",
   "metadata": {
    "scrolled": true
   },
   "outputs": [
    {
     "name": "stderr",
     "output_type": "stream",
     "text": [
      "\u001b[32m2024-08-09 08:41:58.517\u001b[0m | \u001b[1mINFO    \u001b[0m | \u001b[36msrc.run.eval.retrieval\u001b[0m:\u001b[36mgenerate_synthetic_dataset\u001b[0m:\u001b[36m79\u001b[0m - \u001b[1mLoading retrieval_eval_nodes from data/006_rerun with question respon/retrieval_synthetic_eval_dataset.json...\u001b[0m\n",
      "\u001b[32m2024-08-09 08:41:58.518\u001b[0m | \u001b[1mINFO    \u001b[0m | \u001b[36msrc.run.eval.retrieval\u001b[0m:\u001b[36mgenerate_synthetic_dataset\u001b[0m:\u001b[36m85\u001b[0m - \u001b[1mLoading existing synthetic retrieval eval dataset at data/006_rerun with question respon/retrieval_synthetic_eval_dataset.json...\u001b[0m\n"
     ]
    }
   ],
   "source": [
    "retrieval_evaluator = RetrievalEvaluator()\n",
    "retrieval_evaluator.generate_synthetic_dataset(cfg, nodes)"
   ]
  },
  {
   "cell_type": "code",
   "execution_count": 37,
   "id": "f8f0228b-fd3e-4895-8996-4e8264882bec",
   "metadata": {},
   "outputs": [
    {
     "data": {
      "text/plain": [
       "{'8153c3b6-b306-4f71-9e23-a87bc180b5b6': \"What are the parking options available near LaFitte's in New Orleans?\",\n",
       " '1f107c4a-786e-4ef1-8d2b-a8eb4728691e': 'Was the delivery of the items successful and undamaged?',\n",
       " '0caa7202-6545-4b74-8e31-096b6c2387bf': 'What grocery items are popular in Nashville?',\n",
       " '937c391c-e5d4-4107-aa13-16c37ce7564f': 'What are some negative reviews about a restaurant?',\n",
       " '7048705d-867f-444e-84c3-ffe4b13d3f5c': 'What ice cream flavors are popular during winter?',\n",
       " '64a80a8c-ec06-458b-abc7-d63d9946640c': 'Where can I find ice cream in waffle cones in Nashville?',\n",
       " '2bddb04c-6550-487a-8530-8a68107a1cea': 'What are the sushi options available at Tuna Bar?',\n",
       " '6eb26925-f9a2-4cd2-9da2-6d1a83538a5a': 'What are the best breakfast sandwiches in town?',\n",
       " 'ab2ffb47-265f-4054-9a75-9695e492c207': 'What are the reasons customers have stopped using Chase credit cards?',\n",
       " 'dbef72e3-a00b-48f7-a8b8-0ee79c954bcd': \"What are the reviews for Tony's restaurant in Alton?\",\n",
       " '2d073a91-1173-421d-9bc3-605b1e825e7f': 'What are the benefits of Lipo Laser and Radio Frequency treatments?',\n",
       " '0c4185e8-2e78-4ae1-9d24-106d52163e0a': 'What ice cream flavors are popular during CMA Fest?',\n",
       " '401f7435-043a-438e-a7ff-d74d59d229fb': 'Where can I go shopping with a friend?',\n",
       " 'ae89c4d0-9a71-4873-a885-a1c74d772f8c': 'What are the best breakfast sandwiches at Caviar & Bananas?',\n",
       " '67ebb4de-8a2c-4893-bc0e-f24fbe65b215': 'What are the best gift ideas for men?',\n",
       " '317759fa-aa05-41d6-85ab-e161d3bff7d5': 'What are the best restaurants for wine selection and cocktails?',\n",
       " '2b2f4b3b-0e19-43d7-972b-52a22e63d4d5': 'What are the best cafes with cats and coffee?',\n",
       " 'a68fe404-c5d1-46dd-89af-7cab34e5131e': 'What activities can I do with my son that he will enjoy?',\n",
       " '084fa197-9e99-417e-9ae8-55e21aa0562d': 'What are the best family-friendly restaurants for a wedding dinner?',\n",
       " 'f920a181-74c2-4fe8-b9f9-727b0b805527': 'What are the best happy hour cocktails at local restaurants?'}"
      ]
     },
     "execution_count": 37,
     "metadata": {},
     "output_type": "execute_result"
    }
   ],
   "source": [
    "retrieval_evaluator.retrieval_eval_dataset.queries"
   ]
  },
  {
   "cell_type": "code",
   "execution_count": 38,
   "id": "32f4cdab-66f7-4af6-9476-2ea754e09b01",
   "metadata": {},
   "outputs": [
    {
     "data": {
      "text/plain": [
       "{'8153c3b6-b306-4f71-9e23-a87bc180b5b6': ['a0725bda-b426-4e7e-8757-ad47bb224c3d'],\n",
       " '1f107c4a-786e-4ef1-8d2b-a8eb4728691e': ['e2cbc17a-773c-49bd-9430-d66e5554e3e8'],\n",
       " '0caa7202-6545-4b74-8e31-096b6c2387bf': ['f8ed749d-5b97-4a1a-a61a-4188242ad928'],\n",
       " '937c391c-e5d4-4107-aa13-16c37ce7564f': ['730ff7c8-741e-4983-a359-5e7f93548501'],\n",
       " '7048705d-867f-444e-84c3-ffe4b13d3f5c': ['996c0ebb-3af2-444a-8eba-d4d2b17c2caa'],\n",
       " '64a80a8c-ec06-458b-abc7-d63d9946640c': ['a152030d-54ed-48e2-b6ef-52d2bb6ef8c2'],\n",
       " '2bddb04c-6550-487a-8530-8a68107a1cea': ['5fb29114-756d-445c-9ab5-8ddffedd2018'],\n",
       " '6eb26925-f9a2-4cd2-9da2-6d1a83538a5a': ['afc3a1b4-2892-43f8-b6ae-b857636f1486'],\n",
       " 'ab2ffb47-265f-4054-9a75-9695e492c207': ['567ae8af-966b-482b-9189-73935a365e4d'],\n",
       " 'dbef72e3-a00b-48f7-a8b8-0ee79c954bcd': ['44c12937-f4c9-4bcb-a223-9436e2740669'],\n",
       " '2d073a91-1173-421d-9bc3-605b1e825e7f': ['34608595-a7fa-4c23-9588-991d39f5cd68'],\n",
       " '0c4185e8-2e78-4ae1-9d24-106d52163e0a': ['87e53bdd-71aa-426c-87a6-8c31f3f9134a'],\n",
       " '401f7435-043a-438e-a7ff-d74d59d229fb': ['da802b31-6ea9-4312-8514-298321f7efc2'],\n",
       " 'ae89c4d0-9a71-4873-a885-a1c74d772f8c': ['b5161b97-5a09-4823-b8ef-ea347e3348de'],\n",
       " '67ebb4de-8a2c-4893-bc0e-f24fbe65b215': ['8d977ad0-5575-4640-9b16-92797aa0c430'],\n",
       " '317759fa-aa05-41d6-85ab-e161d3bff7d5': ['8347e41d-9d96-45a1-b23e-31eacfd13dd8'],\n",
       " '2b2f4b3b-0e19-43d7-972b-52a22e63d4d5': ['809102e9-9e7f-4321-b767-b63f5fbb2b9a'],\n",
       " 'a68fe404-c5d1-46dd-89af-7cab34e5131e': ['0731c00d-5bae-428d-94ad-91a0755d62da'],\n",
       " '084fa197-9e99-417e-9ae8-55e21aa0562d': ['819dfb2a-bc70-4364-8270-91c5760b0a3d'],\n",
       " 'f920a181-74c2-4fe8-b9f9-727b0b805527': ['19c55202-dd8e-4095-afc2-3e32dcd91153']}"
      ]
     },
     "execution_count": 38,
     "metadata": {},
     "output_type": "execute_result"
    }
   ],
   "source": [
    "retrieval_evaluator.retrieval_eval_dataset.relevant_docs"
   ]
  },
  {
   "cell_type": "code",
   "execution_count": 39,
   "id": "763726b3-5b80-43e1-b6e2-594ac1ef870a",
   "metadata": {
    "scrolled": true
   },
   "outputs": [],
   "source": [
    "retrieval_eval_results_df, retrieval_eval_results_full_df = await retrieval_evaluator.aevaluate(cfg, retriever)"
   ]
  },
  {
   "cell_type": "code",
   "execution_count": 40,
   "id": "bf6add31-8d55-4f30-9c14-8273726f34f9",
   "metadata": {},
   "outputs": [
    {
     "data": {
      "text/html": [
       "<div>\n",
       "<style scoped>\n",
       "    .dataframe tbody tr th:only-of-type {\n",
       "        vertical-align: middle;\n",
       "    }\n",
       "\n",
       "    .dataframe tbody tr th {\n",
       "        vertical-align: top;\n",
       "    }\n",
       "\n",
       "    .dataframe thead th {\n",
       "        text-align: right;\n",
       "    }\n",
       "</style>\n",
       "<table border=\"1\" class=\"dataframe\">\n",
       "  <thead>\n",
       "    <tr style=\"text-align: right;\">\n",
       "      <th></th>\n",
       "      <th>retrievers</th>\n",
       "      <th>hit_rate</th>\n",
       "      <th>mrr</th>\n",
       "      <th>precision</th>\n",
       "      <th>recall</th>\n",
       "      <th>ap</th>\n",
       "      <th>ndcg</th>\n",
       "    </tr>\n",
       "  </thead>\n",
       "  <tbody>\n",
       "    <tr>\n",
       "      <th>0</th>\n",
       "      <td>top_10_retrieval_eval</td>\n",
       "      <td>0.5</td>\n",
       "      <td>0.321726</td>\n",
       "      <td>0.05</td>\n",
       "      <td>0.5</td>\n",
       "      <td>0.321726</td>\n",
       "      <td>0.079969</td>\n",
       "    </tr>\n",
       "  </tbody>\n",
       "</table>\n",
       "</div>"
      ],
      "text/plain": [
       "              retrievers  hit_rate       mrr  precision  recall        ap  \\\n",
       "0  top_10_retrieval_eval       0.5  0.321726       0.05     0.5  0.321726   \n",
       "\n",
       "       ndcg  \n",
       "0  0.079969  "
      ]
     },
     "execution_count": 40,
     "metadata": {},
     "output_type": "execute_result"
    }
   ],
   "source": [
    "# TODO: Why all zeros?\n",
    "retrieval_eval_results_df"
   ]
  },
  {
   "cell_type": "code",
   "execution_count": 41,
   "id": "e519787f-c811-4ff7-afad-c9b36425e494",
   "metadata": {
    "scrolled": true
   },
   "outputs": [
    {
     "data": {
      "text/html": [
       "<div>\n",
       "<style scoped>\n",
       "    .dataframe tbody tr th:only-of-type {\n",
       "        vertical-align: middle;\n",
       "    }\n",
       "\n",
       "    .dataframe tbody tr th {\n",
       "        vertical-align: top;\n",
       "    }\n",
       "\n",
       "    .dataframe thead th {\n",
       "        text-align: right;\n",
       "    }\n",
       "</style>\n",
       "<table border=\"1\" class=\"dataframe\">\n",
       "  <thead>\n",
       "    <tr style=\"text-align: right;\">\n",
       "      <th></th>\n",
       "      <th>query</th>\n",
       "      <th>expected_ids</th>\n",
       "      <th>retrieved_texts</th>\n",
       "      <th>hit_rate</th>\n",
       "      <th>mrr</th>\n",
       "      <th>precision</th>\n",
       "      <th>recall</th>\n",
       "      <th>ap</th>\n",
       "      <th>ndcg</th>\n",
       "    </tr>\n",
       "  </thead>\n",
       "  <tbody>\n",
       "    <tr>\n",
       "      <th>0</th>\n",
       "      <td>What are the parking options available near La...</td>\n",
       "      <td>[a0725bda-b426-4e7e-8757-ad47bb224c3d]</td>\n",
       "      <td>[LaFitte's is a new venture of A J Tusa, owner...</td>\n",
       "      <td>1.0</td>\n",
       "      <td>1.000000</td>\n",
       "      <td>0.1</td>\n",
       "      <td>1.0</td>\n",
       "      <td>1.000000</td>\n",
       "      <td>0.220092</td>\n",
       "    </tr>\n",
       "    <tr>\n",
       "      <th>1</th>\n",
       "      <td>Was the delivery of the items successful and u...</td>\n",
       "      <td>[e2cbc17a-773c-49bd-9430-d66e5554e3e8]</td>\n",
       "      <td>[Delivery: Order was 45 minutes late and there...</td>\n",
       "      <td>0.0</td>\n",
       "      <td>0.000000</td>\n",
       "      <td>0.0</td>\n",
       "      <td>0.0</td>\n",
       "      <td>0.000000</td>\n",
       "      <td>0.000000</td>\n",
       "    </tr>\n",
       "    <tr>\n",
       "      <th>2</th>\n",
       "      <td>What grocery items are popular in Nashville?</td>\n",
       "      <td>[f8ed749d-5b97-4a1a-a61a-4188242ad928]</td>\n",
       "      <td>[Note:  the food section of this review is for...</td>\n",
       "      <td>1.0</td>\n",
       "      <td>0.125000</td>\n",
       "      <td>0.1</td>\n",
       "      <td>1.0</td>\n",
       "      <td>0.125000</td>\n",
       "      <td>0.069431</td>\n",
       "    </tr>\n",
       "    <tr>\n",
       "      <th>3</th>\n",
       "      <td>What are some negative reviews about a restaur...</td>\n",
       "      <td>[730ff7c8-741e-4983-a359-5e7f93548501]</td>\n",
       "      <td>[I'm really surprised by the negative reviews ...</td>\n",
       "      <td>0.0</td>\n",
       "      <td>0.000000</td>\n",
       "      <td>0.0</td>\n",
       "      <td>0.0</td>\n",
       "      <td>0.000000</td>\n",
       "      <td>0.000000</td>\n",
       "    </tr>\n",
       "    <tr>\n",
       "      <th>4</th>\n",
       "      <td>What ice cream flavors are popular during winter?</td>\n",
       "      <td>[996c0ebb-3af2-444a-8eba-d4d2b17c2caa]</td>\n",
       "      <td>[I felt that I didnt have enough time to sampl...</td>\n",
       "      <td>0.0</td>\n",
       "      <td>0.000000</td>\n",
       "      <td>0.0</td>\n",
       "      <td>0.0</td>\n",
       "      <td>0.000000</td>\n",
       "      <td>0.000000</td>\n",
       "    </tr>\n",
       "    <tr>\n",
       "      <th>5</th>\n",
       "      <td>Where can I find ice cream in waffle cones in ...</td>\n",
       "      <td>[a152030d-54ed-48e2-b6ef-52d2bb6ef8c2]</td>\n",
       "      <td>[Delicious ice cream in waffle cones. Refreshi...</td>\n",
       "      <td>1.0</td>\n",
       "      <td>1.000000</td>\n",
       "      <td>0.1</td>\n",
       "      <td>1.0</td>\n",
       "      <td>1.000000</td>\n",
       "      <td>0.220092</td>\n",
       "    </tr>\n",
       "    <tr>\n",
       "      <th>6</th>\n",
       "      <td>What are the sushi options available at Tuna Bar?</td>\n",
       "      <td>[5fb29114-756d-445c-9ab5-8ddffedd2018]</td>\n",
       "      <td>[4.0 - 4.5 star Review. I compare all sushi re...</td>\n",
       "      <td>0.0</td>\n",
       "      <td>0.000000</td>\n",
       "      <td>0.0</td>\n",
       "      <td>0.0</td>\n",
       "      <td>0.000000</td>\n",
       "      <td>0.000000</td>\n",
       "    </tr>\n",
       "    <tr>\n",
       "      <th>7</th>\n",
       "      <td>What are the best breakfast sandwiches in town?</td>\n",
       "      <td>[afc3a1b4-2892-43f8-b6ae-b857636f1486]</td>\n",
       "      <td>[Possibly the best breakfast sandwich EVER.  O...</td>\n",
       "      <td>0.0</td>\n",
       "      <td>0.000000</td>\n",
       "      <td>0.0</td>\n",
       "      <td>0.0</td>\n",
       "      <td>0.000000</td>\n",
       "      <td>0.000000</td>\n",
       "    </tr>\n",
       "    <tr>\n",
       "      <th>8</th>\n",
       "      <td>What are the reasons customers have stopped us...</td>\n",
       "      <td>[567ae8af-966b-482b-9189-73935a365e4d]</td>\n",
       "      <td>[I have only had one credit card previous to t...</td>\n",
       "      <td>0.0</td>\n",
       "      <td>0.000000</td>\n",
       "      <td>0.0</td>\n",
       "      <td>0.0</td>\n",
       "      <td>0.000000</td>\n",
       "      <td>0.000000</td>\n",
       "    </tr>\n",
       "    <tr>\n",
       "      <th>9</th>\n",
       "      <td>What are the reviews for Tony's restaurant in ...</td>\n",
       "      <td>[44c12937-f4c9-4bcb-a223-9436e2740669]</td>\n",
       "      <td>[Tony's is a fine restaurant in the Alton area...</td>\n",
       "      <td>0.0</td>\n",
       "      <td>0.000000</td>\n",
       "      <td>0.0</td>\n",
       "      <td>0.0</td>\n",
       "      <td>0.000000</td>\n",
       "      <td>0.000000</td>\n",
       "    </tr>\n",
       "    <tr>\n",
       "      <th>10</th>\n",
       "      <td>What are the benefits of Lipo Laser and Radio ...</td>\n",
       "      <td>[34608595-a7fa-4c23-9588-991d39f5cd68]</td>\n",
       "      <td>[Bala Better Health is extremely professional ...</td>\n",
       "      <td>1.0</td>\n",
       "      <td>1.000000</td>\n",
       "      <td>0.1</td>\n",
       "      <td>1.0</td>\n",
       "      <td>1.000000</td>\n",
       "      <td>0.220092</td>\n",
       "    </tr>\n",
       "    <tr>\n",
       "      <th>11</th>\n",
       "      <td>What ice cream flavors are popular during CMA ...</td>\n",
       "      <td>[87e53bdd-71aa-426c-87a6-8c31f3f9134a]</td>\n",
       "      <td>[Visited during the CMA Fest.  Ice cream was d...</td>\n",
       "      <td>1.0</td>\n",
       "      <td>0.500000</td>\n",
       "      <td>0.1</td>\n",
       "      <td>1.0</td>\n",
       "      <td>0.500000</td>\n",
       "      <td>0.138862</td>\n",
       "    </tr>\n",
       "    <tr>\n",
       "      <th>12</th>\n",
       "      <td>Where can I go shopping with a friend?</td>\n",
       "      <td>[da802b31-6ea9-4312-8514-298321f7efc2]</td>\n",
       "      <td>[Can't say anything bad about target one of my...</td>\n",
       "      <td>1.0</td>\n",
       "      <td>0.166667</td>\n",
       "      <td>0.1</td>\n",
       "      <td>1.0</td>\n",
       "      <td>0.166667</td>\n",
       "      <td>0.078398</td>\n",
       "    </tr>\n",
       "    <tr>\n",
       "      <th>13</th>\n",
       "      <td>What are the best breakfast sandwiches at Cavi...</td>\n",
       "      <td>[b5161b97-5a09-4823-b8ef-ea347e3348de]</td>\n",
       "      <td>[Despite what the name would suggest, Caviar &amp;...</td>\n",
       "      <td>1.0</td>\n",
       "      <td>0.142857</td>\n",
       "      <td>0.1</td>\n",
       "      <td>1.0</td>\n",
       "      <td>0.142857</td>\n",
       "      <td>0.073364</td>\n",
       "    </tr>\n",
       "    <tr>\n",
       "      <th>14</th>\n",
       "      <td>What are the best gift ideas for men?</td>\n",
       "      <td>[8d977ad0-5575-4640-9b16-92797aa0c430]</td>\n",
       "      <td>[I came in on March 11th because I needed a gi...</td>\n",
       "      <td>0.0</td>\n",
       "      <td>0.000000</td>\n",
       "      <td>0.0</td>\n",
       "      <td>0.0</td>\n",
       "      <td>0.000000</td>\n",
       "      <td>0.000000</td>\n",
       "    </tr>\n",
       "    <tr>\n",
       "      <th>15</th>\n",
       "      <td>What are the best restaurants for wine selecti...</td>\n",
       "      <td>[8347e41d-9d96-45a1-b23e-31eacfd13dd8]</td>\n",
       "      <td>[Loved everything about this restaurant, the s...</td>\n",
       "      <td>1.0</td>\n",
       "      <td>1.000000</td>\n",
       "      <td>0.1</td>\n",
       "      <td>1.0</td>\n",
       "      <td>1.000000</td>\n",
       "      <td>0.220092</td>\n",
       "    </tr>\n",
       "    <tr>\n",
       "      <th>16</th>\n",
       "      <td>What are the best cafes with cats and coffee?</td>\n",
       "      <td>[809102e9-9e7f-4321-b767-b63f5fbb2b9a]</td>\n",
       "      <td>[Cat cafes! It's all the rage. I have no pets ...</td>\n",
       "      <td>0.0</td>\n",
       "      <td>0.000000</td>\n",
       "      <td>0.0</td>\n",
       "      <td>0.0</td>\n",
       "      <td>0.000000</td>\n",
       "      <td>0.000000</td>\n",
       "    </tr>\n",
       "    <tr>\n",
       "      <th>17</th>\n",
       "      <td>What activities can I do with my son that he w...</td>\n",
       "      <td>[0731c00d-5bae-428d-94ad-91a0755d62da]</td>\n",
       "      <td>[He latter represented my son very well and I'...</td>\n",
       "      <td>0.0</td>\n",
       "      <td>0.000000</td>\n",
       "      <td>0.0</td>\n",
       "      <td>0.0</td>\n",
       "      <td>0.000000</td>\n",
       "      <td>0.000000</td>\n",
       "    </tr>\n",
       "    <tr>\n",
       "      <th>18</th>\n",
       "      <td>What are the best family-friendly restaurants ...</td>\n",
       "      <td>[819dfb2a-bc70-4364-8270-91c5760b0a3d]</td>\n",
       "      <td>[Just had our family-wedding-dinner for my son...</td>\n",
       "      <td>1.0</td>\n",
       "      <td>1.000000</td>\n",
       "      <td>0.1</td>\n",
       "      <td>1.0</td>\n",
       "      <td>1.000000</td>\n",
       "      <td>0.220092</td>\n",
       "    </tr>\n",
       "    <tr>\n",
       "      <th>19</th>\n",
       "      <td>What are the best happy hour cocktails at loca...</td>\n",
       "      <td>[19c55202-dd8e-4095-afc2-3e32dcd91153]</td>\n",
       "      <td>[What a great find in New Orleans on a Monday ...</td>\n",
       "      <td>1.0</td>\n",
       "      <td>0.500000</td>\n",
       "      <td>0.1</td>\n",
       "      <td>1.0</td>\n",
       "      <td>0.500000</td>\n",
       "      <td>0.138862</td>\n",
       "    </tr>\n",
       "  </tbody>\n",
       "</table>\n",
       "</div>"
      ],
      "text/plain": [
       "                                                query  \\\n",
       "0   What are the parking options available near La...   \n",
       "1   Was the delivery of the items successful and u...   \n",
       "2        What grocery items are popular in Nashville?   \n",
       "3   What are some negative reviews about a restaur...   \n",
       "4   What ice cream flavors are popular during winter?   \n",
       "5   Where can I find ice cream in waffle cones in ...   \n",
       "6   What are the sushi options available at Tuna Bar?   \n",
       "7     What are the best breakfast sandwiches in town?   \n",
       "8   What are the reasons customers have stopped us...   \n",
       "9   What are the reviews for Tony's restaurant in ...   \n",
       "10  What are the benefits of Lipo Laser and Radio ...   \n",
       "11  What ice cream flavors are popular during CMA ...   \n",
       "12             Where can I go shopping with a friend?   \n",
       "13  What are the best breakfast sandwiches at Cavi...   \n",
       "14              What are the best gift ideas for men?   \n",
       "15  What are the best restaurants for wine selecti...   \n",
       "16      What are the best cafes with cats and coffee?   \n",
       "17  What activities can I do with my son that he w...   \n",
       "18  What are the best family-friendly restaurants ...   \n",
       "19  What are the best happy hour cocktails at loca...   \n",
       "\n",
       "                              expected_ids  \\\n",
       "0   [a0725bda-b426-4e7e-8757-ad47bb224c3d]   \n",
       "1   [e2cbc17a-773c-49bd-9430-d66e5554e3e8]   \n",
       "2   [f8ed749d-5b97-4a1a-a61a-4188242ad928]   \n",
       "3   [730ff7c8-741e-4983-a359-5e7f93548501]   \n",
       "4   [996c0ebb-3af2-444a-8eba-d4d2b17c2caa]   \n",
       "5   [a152030d-54ed-48e2-b6ef-52d2bb6ef8c2]   \n",
       "6   [5fb29114-756d-445c-9ab5-8ddffedd2018]   \n",
       "7   [afc3a1b4-2892-43f8-b6ae-b857636f1486]   \n",
       "8   [567ae8af-966b-482b-9189-73935a365e4d]   \n",
       "9   [44c12937-f4c9-4bcb-a223-9436e2740669]   \n",
       "10  [34608595-a7fa-4c23-9588-991d39f5cd68]   \n",
       "11  [87e53bdd-71aa-426c-87a6-8c31f3f9134a]   \n",
       "12  [da802b31-6ea9-4312-8514-298321f7efc2]   \n",
       "13  [b5161b97-5a09-4823-b8ef-ea347e3348de]   \n",
       "14  [8d977ad0-5575-4640-9b16-92797aa0c430]   \n",
       "15  [8347e41d-9d96-45a1-b23e-31eacfd13dd8]   \n",
       "16  [809102e9-9e7f-4321-b767-b63f5fbb2b9a]   \n",
       "17  [0731c00d-5bae-428d-94ad-91a0755d62da]   \n",
       "18  [819dfb2a-bc70-4364-8270-91c5760b0a3d]   \n",
       "19  [19c55202-dd8e-4095-afc2-3e32dcd91153]   \n",
       "\n",
       "                                      retrieved_texts  hit_rate       mrr  \\\n",
       "0   [LaFitte's is a new venture of A J Tusa, owner...       1.0  1.000000   \n",
       "1   [Delivery: Order was 45 minutes late and there...       0.0  0.000000   \n",
       "2   [Note:  the food section of this review is for...       1.0  0.125000   \n",
       "3   [I'm really surprised by the negative reviews ...       0.0  0.000000   \n",
       "4   [I felt that I didnt have enough time to sampl...       0.0  0.000000   \n",
       "5   [Delicious ice cream in waffle cones. Refreshi...       1.0  1.000000   \n",
       "6   [4.0 - 4.5 star Review. I compare all sushi re...       0.0  0.000000   \n",
       "7   [Possibly the best breakfast sandwich EVER.  O...       0.0  0.000000   \n",
       "8   [I have only had one credit card previous to t...       0.0  0.000000   \n",
       "9   [Tony's is a fine restaurant in the Alton area...       0.0  0.000000   \n",
       "10  [Bala Better Health is extremely professional ...       1.0  1.000000   \n",
       "11  [Visited during the CMA Fest.  Ice cream was d...       1.0  0.500000   \n",
       "12  [Can't say anything bad about target one of my...       1.0  0.166667   \n",
       "13  [Despite what the name would suggest, Caviar &...       1.0  0.142857   \n",
       "14  [I came in on March 11th because I needed a gi...       0.0  0.000000   \n",
       "15  [Loved everything about this restaurant, the s...       1.0  1.000000   \n",
       "16  [Cat cafes! It's all the rage. I have no pets ...       0.0  0.000000   \n",
       "17  [He latter represented my son very well and I'...       0.0  0.000000   \n",
       "18  [Just had our family-wedding-dinner for my son...       1.0  1.000000   \n",
       "19  [What a great find in New Orleans on a Monday ...       1.0  0.500000   \n",
       "\n",
       "    precision  recall        ap      ndcg  \n",
       "0         0.1     1.0  1.000000  0.220092  \n",
       "1         0.0     0.0  0.000000  0.000000  \n",
       "2         0.1     1.0  0.125000  0.069431  \n",
       "3         0.0     0.0  0.000000  0.000000  \n",
       "4         0.0     0.0  0.000000  0.000000  \n",
       "5         0.1     1.0  1.000000  0.220092  \n",
       "6         0.0     0.0  0.000000  0.000000  \n",
       "7         0.0     0.0  0.000000  0.000000  \n",
       "8         0.0     0.0  0.000000  0.000000  \n",
       "9         0.0     0.0  0.000000  0.000000  \n",
       "10        0.1     1.0  1.000000  0.220092  \n",
       "11        0.1     1.0  0.500000  0.138862  \n",
       "12        0.1     1.0  0.166667  0.078398  \n",
       "13        0.1     1.0  0.142857  0.073364  \n",
       "14        0.0     0.0  0.000000  0.000000  \n",
       "15        0.1     1.0  1.000000  0.220092  \n",
       "16        0.0     0.0  0.000000  0.000000  \n",
       "17        0.0     0.0  0.000000  0.000000  \n",
       "18        0.1     1.0  1.000000  0.220092  \n",
       "19        0.1     1.0  0.500000  0.138862  "
      ]
     },
     "execution_count": 41,
     "metadata": {},
     "output_type": "execute_result"
    }
   ],
   "source": [
    "retrieval_eval_results_full_df"
   ]
  },
  {
   "cell_type": "markdown",
   "id": "083cc0f2-fe13-4c64-b5c9-29c96a4b4d29",
   "metadata": {},
   "source": [
    "#### Error Analysis"
   ]
  },
  {
   "cell_type": "code",
   "execution_count": 42,
   "id": "3120fa3d-f75a-451f-905f-1b11376d770f",
   "metadata": {},
   "outputs": [
    {
     "data": {
      "text/html": [
       "<div>\n",
       "<style scoped>\n",
       "    .dataframe tbody tr th:only-of-type {\n",
       "        vertical-align: middle;\n",
       "    }\n",
       "\n",
       "    .dataframe tbody tr th {\n",
       "        vertical-align: top;\n",
       "    }\n",
       "\n",
       "    .dataframe thead th {\n",
       "        text-align: right;\n",
       "    }\n",
       "</style>\n",
       "<table border=\"1\" class=\"dataframe\">\n",
       "  <thead>\n",
       "    <tr style=\"text-align: right;\">\n",
       "      <th></th>\n",
       "      <th>query</th>\n",
       "      <th>expected_ids</th>\n",
       "      <th>retrieved_texts</th>\n",
       "      <th>hit_rate</th>\n",
       "      <th>mrr</th>\n",
       "      <th>precision</th>\n",
       "      <th>recall</th>\n",
       "      <th>ap</th>\n",
       "      <th>ndcg</th>\n",
       "    </tr>\n",
       "  </thead>\n",
       "  <tbody>\n",
       "    <tr>\n",
       "      <th>1</th>\n",
       "      <td>Was the delivery of the items successful and u...</td>\n",
       "      <td>[e2cbc17a-773c-49bd-9430-d66e5554e3e8]</td>\n",
       "      <td>[Delivery: Order was 45 minutes late and there...</td>\n",
       "      <td>0.0</td>\n",
       "      <td>0.0</td>\n",
       "      <td>0.0</td>\n",
       "      <td>0.0</td>\n",
       "      <td>0.0</td>\n",
       "      <td>0.0</td>\n",
       "    </tr>\n",
       "    <tr>\n",
       "      <th>3</th>\n",
       "      <td>What are some negative reviews about a restaur...</td>\n",
       "      <td>[730ff7c8-741e-4983-a359-5e7f93548501]</td>\n",
       "      <td>[I'm really surprised by the negative reviews ...</td>\n",
       "      <td>0.0</td>\n",
       "      <td>0.0</td>\n",
       "      <td>0.0</td>\n",
       "      <td>0.0</td>\n",
       "      <td>0.0</td>\n",
       "      <td>0.0</td>\n",
       "    </tr>\n",
       "    <tr>\n",
       "      <th>4</th>\n",
       "      <td>What ice cream flavors are popular during winter?</td>\n",
       "      <td>[996c0ebb-3af2-444a-8eba-d4d2b17c2caa]</td>\n",
       "      <td>[I felt that I didnt have enough time to sampl...</td>\n",
       "      <td>0.0</td>\n",
       "      <td>0.0</td>\n",
       "      <td>0.0</td>\n",
       "      <td>0.0</td>\n",
       "      <td>0.0</td>\n",
       "      <td>0.0</td>\n",
       "    </tr>\n",
       "    <tr>\n",
       "      <th>6</th>\n",
       "      <td>What are the sushi options available at Tuna Bar?</td>\n",
       "      <td>[5fb29114-756d-445c-9ab5-8ddffedd2018]</td>\n",
       "      <td>[4.0 - 4.5 star Review. I compare all sushi re...</td>\n",
       "      <td>0.0</td>\n",
       "      <td>0.0</td>\n",
       "      <td>0.0</td>\n",
       "      <td>0.0</td>\n",
       "      <td>0.0</td>\n",
       "      <td>0.0</td>\n",
       "    </tr>\n",
       "    <tr>\n",
       "      <th>7</th>\n",
       "      <td>What are the best breakfast sandwiches in town?</td>\n",
       "      <td>[afc3a1b4-2892-43f8-b6ae-b857636f1486]</td>\n",
       "      <td>[Possibly the best breakfast sandwich EVER.  O...</td>\n",
       "      <td>0.0</td>\n",
       "      <td>0.0</td>\n",
       "      <td>0.0</td>\n",
       "      <td>0.0</td>\n",
       "      <td>0.0</td>\n",
       "      <td>0.0</td>\n",
       "    </tr>\n",
       "    <tr>\n",
       "      <th>8</th>\n",
       "      <td>What are the reasons customers have stopped us...</td>\n",
       "      <td>[567ae8af-966b-482b-9189-73935a365e4d]</td>\n",
       "      <td>[I have only had one credit card previous to t...</td>\n",
       "      <td>0.0</td>\n",
       "      <td>0.0</td>\n",
       "      <td>0.0</td>\n",
       "      <td>0.0</td>\n",
       "      <td>0.0</td>\n",
       "      <td>0.0</td>\n",
       "    </tr>\n",
       "    <tr>\n",
       "      <th>9</th>\n",
       "      <td>What are the reviews for Tony's restaurant in ...</td>\n",
       "      <td>[44c12937-f4c9-4bcb-a223-9436e2740669]</td>\n",
       "      <td>[Tony's is a fine restaurant in the Alton area...</td>\n",
       "      <td>0.0</td>\n",
       "      <td>0.0</td>\n",
       "      <td>0.0</td>\n",
       "      <td>0.0</td>\n",
       "      <td>0.0</td>\n",
       "      <td>0.0</td>\n",
       "    </tr>\n",
       "    <tr>\n",
       "      <th>14</th>\n",
       "      <td>What are the best gift ideas for men?</td>\n",
       "      <td>[8d977ad0-5575-4640-9b16-92797aa0c430]</td>\n",
       "      <td>[I came in on March 11th because I needed a gi...</td>\n",
       "      <td>0.0</td>\n",
       "      <td>0.0</td>\n",
       "      <td>0.0</td>\n",
       "      <td>0.0</td>\n",
       "      <td>0.0</td>\n",
       "      <td>0.0</td>\n",
       "    </tr>\n",
       "    <tr>\n",
       "      <th>16</th>\n",
       "      <td>What are the best cafes with cats and coffee?</td>\n",
       "      <td>[809102e9-9e7f-4321-b767-b63f5fbb2b9a]</td>\n",
       "      <td>[Cat cafes! It's all the rage. I have no pets ...</td>\n",
       "      <td>0.0</td>\n",
       "      <td>0.0</td>\n",
       "      <td>0.0</td>\n",
       "      <td>0.0</td>\n",
       "      <td>0.0</td>\n",
       "      <td>0.0</td>\n",
       "    </tr>\n",
       "    <tr>\n",
       "      <th>17</th>\n",
       "      <td>What activities can I do with my son that he w...</td>\n",
       "      <td>[0731c00d-5bae-428d-94ad-91a0755d62da]</td>\n",
       "      <td>[He latter represented my son very well and I'...</td>\n",
       "      <td>0.0</td>\n",
       "      <td>0.0</td>\n",
       "      <td>0.0</td>\n",
       "      <td>0.0</td>\n",
       "      <td>0.0</td>\n",
       "      <td>0.0</td>\n",
       "    </tr>\n",
       "  </tbody>\n",
       "</table>\n",
       "</div>"
      ],
      "text/plain": [
       "                                                query  \\\n",
       "1   Was the delivery of the items successful and u...   \n",
       "3   What are some negative reviews about a restaur...   \n",
       "4   What ice cream flavors are popular during winter?   \n",
       "6   What are the sushi options available at Tuna Bar?   \n",
       "7     What are the best breakfast sandwiches in town?   \n",
       "8   What are the reasons customers have stopped us...   \n",
       "9   What are the reviews for Tony's restaurant in ...   \n",
       "14              What are the best gift ideas for men?   \n",
       "16      What are the best cafes with cats and coffee?   \n",
       "17  What activities can I do with my son that he w...   \n",
       "\n",
       "                              expected_ids  \\\n",
       "1   [e2cbc17a-773c-49bd-9430-d66e5554e3e8]   \n",
       "3   [730ff7c8-741e-4983-a359-5e7f93548501]   \n",
       "4   [996c0ebb-3af2-444a-8eba-d4d2b17c2caa]   \n",
       "6   [5fb29114-756d-445c-9ab5-8ddffedd2018]   \n",
       "7   [afc3a1b4-2892-43f8-b6ae-b857636f1486]   \n",
       "8   [567ae8af-966b-482b-9189-73935a365e4d]   \n",
       "9   [44c12937-f4c9-4bcb-a223-9436e2740669]   \n",
       "14  [8d977ad0-5575-4640-9b16-92797aa0c430]   \n",
       "16  [809102e9-9e7f-4321-b767-b63f5fbb2b9a]   \n",
       "17  [0731c00d-5bae-428d-94ad-91a0755d62da]   \n",
       "\n",
       "                                      retrieved_texts  hit_rate  mrr  \\\n",
       "1   [Delivery: Order was 45 minutes late and there...       0.0  0.0   \n",
       "3   [I'm really surprised by the negative reviews ...       0.0  0.0   \n",
       "4   [I felt that I didnt have enough time to sampl...       0.0  0.0   \n",
       "6   [4.0 - 4.5 star Review. I compare all sushi re...       0.0  0.0   \n",
       "7   [Possibly the best breakfast sandwich EVER.  O...       0.0  0.0   \n",
       "8   [I have only had one credit card previous to t...       0.0  0.0   \n",
       "9   [Tony's is a fine restaurant in the Alton area...       0.0  0.0   \n",
       "14  [I came in on March 11th because I needed a gi...       0.0  0.0   \n",
       "16  [Cat cafes! It's all the rage. I have no pets ...       0.0  0.0   \n",
       "17  [He latter represented my son very well and I'...       0.0  0.0   \n",
       "\n",
       "    precision  recall   ap  ndcg  \n",
       "1         0.0     0.0  0.0   0.0  \n",
       "3         0.0     0.0  0.0   0.0  \n",
       "4         0.0     0.0  0.0   0.0  \n",
       "6         0.0     0.0  0.0   0.0  \n",
       "7         0.0     0.0  0.0   0.0  \n",
       "8         0.0     0.0  0.0   0.0  \n",
       "9         0.0     0.0  0.0   0.0  \n",
       "14        0.0     0.0  0.0   0.0  \n",
       "16        0.0     0.0  0.0   0.0  \n",
       "17        0.0     0.0  0.0   0.0  "
      ]
     },
     "execution_count": 42,
     "metadata": {},
     "output_type": "execute_result"
    }
   ],
   "source": [
    "retrieval_eval_irrelevance_df = (\n",
    "    retrieval_eval_results_full_df\n",
    "    .loc[lambda df: df['hit_rate'].lt(1)]\n",
    "    .sort_values(['hit_rate', 'mrr', 'precision', 'recall', 'ap', 'ndcg'])\n",
    ")\n",
    "retrieval_eval_irrelevance_df"
   ]
  },
  {
   "cell_type": "code",
   "execution_count": 43,
   "id": "25dc0761-d5a2-4440-b3ef-7fb652b601b3",
   "metadata": {
    "scrolled": true
   },
   "outputs": [
    {
     "name": "stdout",
     "output_type": "stream",
     "text": [
      "\n",
      "\n",
      "============Error #1=============\n",
      "\n",
      "\n",
      "Query:\n",
      "Was the delivery of the items successful and undamaged?\n",
      "\n",
      "Expected Contexts:\n",
      "Received without damage. I was relieved n happy I had them handle.\n",
      "\n",
      "Retrieved Contexts:\n",
      "\n",
      "\n",
      "Context #1: Delivery: Order was 45 minutes late and there was an item missing. \n",
      "\n",
      "Context #2: The staff was every friendly and attentive. The wedding and reception was beautiful and a huge success. Everyone had a great time.\n",
      "\n",
      "Context #3: I'm so happy it's been revived. Prime spot across from Vandy in Midtown!  Love it!  Way to go and will pray for continued success!!\n",
      "\n",
      "Context #4: BIG thank you to China Dragon that catered lunch for our teachers and staff! It made our teacher appreciation lunch a huge success. \n",
      "\n",
      "Context #5: The little deli belongs in little Italy. Wonderful subs, pastas, desserts and deli items. TOP NOTCH subs.  Always busy so don't be a douche and give a 1 star review because your delivery took too long. Call ahead for pick up.\n",
      "\n",
      "\n",
      "Context #6: Good delivery\n",
      ".\n",
      "\n",
      "Context #7: The gumbo was delicious and I can't wait to return for more wine. Happy that you arrived and took over from previous company and must success with Little Gems.\n",
      "\n",
      "Context #8: I placed a delivery order at 6:44 and was told it would arrive through grub hub between 7:30 and 7:40. After they did not get there in the time frame, I called and they said it was out for delivery and would be there momentarily. Grub hub then updated the delivery time two more times delaying it further both times! It arrived at 8:11. \n",
      "\n",
      "Context #9: Quick delivery. Good food. Nice staff. \n",
      "\n",
      "Context #10: $20 with tip from an unfriendly delivery guy.\n",
      "\n",
      "\n",
      "\n",
      "============Error #2=============\n",
      "\n",
      "\n",
      "Query:\n",
      "What are some negative reviews about a restaurant?\n",
      "\n",
      "Expected Contexts:\n",
      "Awful.\n",
      "\n",
      "Retrieved Contexts:\n",
      "\n",
      "\n",
      "Context #1: I'm really surprised by the negative reviews of this restaurant. Every time I try it, the service is friendly, attentive and the food is very good. \n",
      "\n",
      "Context #2: That is NOT how you keep clients happy! But judging by all of negative reviews here, I doubt someone would read this or care enough about the reviews to do anything about it. \n",
      "You have been warned! Stay away from Chase!\n",
      "\n",
      "Context #3: I am quite surprised at the negative reviews of this place. \n",
      "\n",
      "Context #4: I have to agree with all the negative reviews. Even buying a small item here, is a chore. \n",
      "\n",
      "Context #5: Good food and great service. I have no idea what these bad reviews are about. \n",
      "\n",
      "Context #6: I was sat with in a few minutes of arriving. My waitress, Anita, came by and took my beverage order in a very timely manner. I see a slew of really recent negative reviews. \n",
      "\n",
      "Context #7: I don't get all the negative reviews . All the people working there have been nice and always willing to help me get whatever i need to get shipped fast and friendly I drive from the city because I like it there!\n",
      "\n",
      "Context #8: Ok disclaimer that this review may be unpopular but it is my opinion only. We were staying in the area and had heard about this bakery which was known for some great breakfast sandwich items so we stopped by. We ordered the breakfast sandwich and the crispy chicken sandwich.\n",
      "\n",
      "Breakfast sandwich: 3/5\n",
      "Reading the reviews I was excited to try it. As the reviews mention the egg is perfectly soft. \n",
      "\n",
      "Context #9: BAP is one of my neighborhood favorites. The place is run by an older Korean couple and they are two of the nicest people you will meet. Major points for a family owned spot with kind people and good service.\n",
      "\n",
      "There's not much to say really: it's exactly what you'd expect Bibimbap to be. The menu is small. It's basically Bibimbap and then Kimchi with some specials that change from time to time. The only negative, but not enough to take off a point, is that the portion sizes are quite small for what you pay. \n",
      "\n",
      "Context #10: Like so many other customers, I found this establishment to be rude, with unfriendly customer service. \n",
      "\n",
      " I have been buying school uniforms for over 20 years and in many different cities.  I have never had an experience that was so bad that I had to write a negative Yelp review.\n",
      "\n",
      "Problems:  \n",
      "1.  \n",
      "\n",
      "\n",
      "\n",
      "============Error #3=============\n",
      "\n",
      "\n",
      "Query:\n",
      "What ice cream flavors are popular during winter?\n",
      "\n",
      "Expected Contexts:\n",
      "Not too sweet, perfectly balanced and so delicious. Pair with sugar cone, for sure. The superhero was a fave among my group as well, with it's bright colors, who could resist? Everything about this place is comforting, nostalgic and delicious. We sat inside because it was snowing outside in March, no joke. But that didn't keep us from enjoying some ice cream. Great treat!\n",
      "\n",
      "Retrieved Contexts:\n",
      "\n",
      "\n",
      "Context #1: I felt that I didnt have enough time to sample all the flavors that I wanted to sample, and ordered the flavor that didnt satisfy my ice cream craving during my time in Nashville.\n",
      "\n",
      "Sorry for just the 3 star rating but my salted caramel ice scream was just okay.  After looking at what others got, I guess the red velvet ice cream is pretty popular and thats what i should have gotten but didnt.  So i was as salty as my salted caramel ice cream for not getting it.  \n",
      "\n",
      "I felt the pressure of the long line and was trying to be courteous to others behind me and felt hurried in my ice cream flavor decision. \n",
      "\n",
      "Although I would like to say that my 1 scoop was a heaping one scoop of ice cream, big enough to be a double scoop in my eyes.  So kudos to the server for that.\n",
      "\n",
      "\n",
      "\n",
      "Context #2: This is a gem of an ice cream shop/cafe, their menu is varied and balanced. Their ice cream is fresh n creamy! They carry some of the best flavor combinations for ice cream I've seen yet! Their milk shakes are divine! During winter they have traditional hot chocolate and offer exotic variants: Hawaiian coconut HC and Swiss white chocolate HC amongst some. The cafe offers fresh coffee and espresso beverages. \n",
      "\n",
      "Context #3: Great ice cream with a touch of nostalgia! My favorite is strawberry, but hace never been disappointed by any flavor.  In the winter I always order hot chocolate with extra whipped cream.  \n",
      "\n",
      "Context #4: It had a delicate strawberry taste with little pieces of strawberries throughout. \n",
      "\n",
      "I also the Tennessee Chocolate flavor. It is their most popular flavor and best selling. It was vanilla ice cream  with dark chocolate fudge running through it. The taste was exceptional. \n",
      "\n",
      "The restaurant was messy and it appeared as though little attention is given to wiping down the tables after each guest....or any customer during my visit. The staff was very friendly.\n",
      "\n",
      "Context #5: The Ice cream was regular icecream, the service was great though. It seems like I pretty popular spot though. \n",
      "\n",
      "Context #6: This is a solid ice cream place right in the heart of Nashville. The ice cream was great. Fairly straightforward flavors and good waffle cones. The staff was friendly and had no problem giving me a sample so I could choose a flavor. What the real bonus is to me about this ice cream parlor is that they are open late. \n",
      "\n",
      "Context #7: Good selection of flavors & it's exactly what you'd expect, old fashioned homemade ice cream.\n",
      "\n",
      "Context #8: Ice cream was great.  Went with a standard cake batter ice flavor. Many different options with the standard flavors and a few unique ones thrown in. Would eat here again if I was in the area.  \n",
      "Not a very large establishment. Don't know know packed it would get on a really busy night. Prices were good. Nothing outrageous for being in such a popular area.\n",
      "\n",
      "Context #9: Was walking down Broadway and couldn't help but to notice a long line of people, so I had to see what it was about. ICE CREAM It was perfect for a hot day of walking. There was not many flavors to choice from, but what they had were original. The ice cream was wonderful, but the portion size was small for the money. The only ice cream place I saw on Broadway. \n",
      "\n",
      "Context #10: True Life: I'm addicted to ice cream. \n",
      "\n",
      "When I saw the unpretentious and unassuming Mike's, I had to try it during my Nashville visit. They have plenty of unique flavors and allow multiple samples. \n",
      "\n",
      "\n",
      "\n",
      "\n",
      "\n",
      "============Error #4=============\n",
      "\n",
      "\n",
      "Query:\n",
      "What are the sushi options available at Tuna Bar?\n",
      "\n",
      "Expected Contexts:\n",
      "I made a reservation based on the previous reviews of Tuna Bar for Valentines Day almost 2 weeks in advance. The night before the reservation (tonight) the hostess called me and informed me that they would only be offering the chefs tasting menu. \n",
      "\n",
      "There was no information on Open Table or their website about this restriction, and I just checked again and still nothing. \n",
      "\n",
      "While I am usually ok with tasting menus, my purpose for booking the restaurant was just for the sushi. \n",
      "\n",
      "\n",
      "\n",
      "Retrieved Contexts:\n",
      "\n",
      "\n",
      "Context #1: 4.0 - 4.5 star Review. I compare all sushi restaurants to Philadelphia's best - Royal Sushi at 5 stars. Tuna Bar may be the cities second best option in terms of the variety of fish offered and quality.\n",
      "\n",
      "Nice modern restaurant in Old City located on the main floor of a condo building. Service was excellent on both my visits. You can take your time and enjoy the meal, have a drink or two. Nice laid back atmosphere.\n",
      "\n",
      "A few appetizers stood out for me - Wagyu beef spring roles, Seaweed salad, Sashimi salad and I loved the Grandmom's wonton soup.  \n",
      "\n",
      "The Tuna Bar is at its best serving fresh sushi / sashimi.  I was with larger groups so got to try many of the house rolls which were mostly good but I was happiest ordering from the Sushi A La-Carte section of the menu. The fish was incredibly fresh and not the same boring pieces (i.e. Salman, Tuna, Ebi etc....) served at the 100+ sushi restaurants in Philadelphia.   \n",
      "\n",
      "Loved the variety of fatty tuna options (Toro and Otoro but no Chutoro when I was there - different options available depending on the day), 1-2 Uni choices, Maguro, Kampachi, Striped Bass, Hamachi and Unagi.  \n",
      "\n",
      "If you want above average sushi options / quality, give the Tuna Bar a try. Prices are above average but to be expected given the variety and quality. \n",
      "\n",
      "\n",
      "\n",
      "Context #2: Tuna Bar is a new sushi digs in Old City, a relatively upscale neighborhood in a city flooded with mediocre sushi restaurants. I frequent laban's favorites, bubblefish being one of them and the last visit left something to be desired. The fork in the road left me with two options, Royal Izakaya or Tuna Bar, and boy am I glad I chose the latter.\n",
      "\n",
      "The ambiance is on point, and the service is friendly and welcoming. \n",
      "\n",
      "Context #3: Wow... simply speechless. Tuna Bar is hands down the best restaurant for sushi in Philly. \n",
      "\n",
      "5/5 STARS!\n",
      "\n",
      "Food: First and foremost, their food is amazing. I have been to many sushi spots in the greater city and Philadelphia area but Tuna Bar's sushi has the best overall quality and taste. Their speciality rolls are to die for. \n",
      "\n",
      "Context #4: Just had our first, and certainly not last, sushi dinner from Tuna Bar. Awesome food! \n",
      "\n",
      "\n",
      "Context #5: I was happy that Tuna Bar had indoor seating as an option! Everything was nicely spaced out and clean! \n",
      "\n",
      "Context #6: Tuna bar is always amazing. Sushi super fresh. We are obsessed with this place, great vibe and incredible service. \n",
      "\n",
      "Context #7: I will never eat Northeast Philly sushi ever again. It doesn't even compare to Tuna Bar. I sat at the bar and tried the Rittenhouse Roll. Spicy tuna, cucumber, avocado, kombu soy wrap, lobster tempura, and a truffle masago sauce. It was absolutely delectable. \n",
      "\n",
      "Context #8: Sat at the bar and was able to watch the chefs make everything. The food and drinks we had were delicious... sushi was spectacular but pricy.... 5 sushi and tuna roll for 35 or 8 sushi and tuna roll for 60.. my math is off... but either way was good.\n",
      "\n",
      "My issue is with the hostess/seating. Mostly empty and told it was all booked so we sat at the bar... 2 hours later those same outside seats still open.... another group came in and sat at the bar... nothing taken.... don't pretend.\n",
      "\n",
      "Context #9: We are big fans of Tuna Bar, especially for a quick and quiet weekend lunch. Their fish tastes super fresh and their sushi rolls are amazing.\n",
      "\n",
      "Context #10: Tuna bar is an awesome addition to our city that already has some awesome sushi spots.  I love the ambiance, the decor and the cozy feel.  \n",
      "\n",
      "\n",
      "\n",
      "============Error #5=============\n",
      "\n",
      "\n",
      "Query:\n",
      "What are the best breakfast sandwiches in town?\n",
      "\n",
      "Expected Contexts:\n",
      "Great service and coffee. The breakfast sandwich had the fluffiest eggs. \n",
      "\n",
      "Retrieved Contexts:\n",
      "\n",
      "\n",
      "Context #1: Possibly the best breakfast sandwich EVER.  On a biscuit!  \n",
      "\n",
      "Context #2: The best breakfast in Santa Barbara. The bacon is perfect, the breakfast sandwiches were gourmet with carefully crafted ingredients that explode in your mouth. \n",
      "\n",
      "Context #3: This place has amazing breakfast sandwiches (biscuits are the best ever) and the coffee is just as good!\n",
      "\n",
      "Context #4: The sandwiches at this place are absolutely fabulous!!  They need more of a selection but wow, I can easily say the best in town.\n",
      "\n",
      "Context #5: They're tasty, but not the best in town, and certainly high priced, and the drive-thru is a nice option when I'm on the go and need a quick breakfast.\n",
      "\n",
      "Context #6: They have some of the best breakfast sandwiches in town! Pictured is a fried chicken sandwich, which is a terrific choice every time I order it. The regular breakfast sandwich is also a winner! I'm not a coffee guy but my sources (other Yelp reviewers) also seem to say these folks can make a mean cup of joe!\n",
      "\n",
      "Last time my dining partner and I we were we were stuck in a line that was looking interminable. Pro-tip: you can just order online and you'll get your food faster than if you had decided to dine in. With so many scenic vistas around the area, take that breakfast sandwich to-go and enjoy the rest of the funk zone or a beachfront view while you nosh on some of FT's best bites!\n",
      "\n",
      "I'll be back to try more soon!!\n",
      "\n",
      "Context #7: Fresh and local delicious bread! I've had the Rye and Sourdough loaves, some pastries, almond milk lattes, and l look forward to trying a breakfast sandwich the next time I'm in town. \n",
      "\n",
      "Context #8: I would have given this place a 3, because the food was just okay, the best breakfast item we had was the egg sandwich. What tipped this review to a 4 was the blueberry scone and iced coffee I had that was perfect to get a hot summer day started.\n",
      "\n",
      "Context #9: I ordered the breakfast sandwich, a side of potatoes and 2 danishes to go. The best food I ate my whole time in Santa Barbara.\n",
      "\n",
      "Context #10: the food is a bit overpriced for what it is. we ordered 1 mild fried chicken sandwich on brioche, 1 breakfast sandwich on a buttermilk biscuit, and 1 side order of crispy potatoes with chipotle ketchup for ~$33 before tip. i highly recommend the chicken sandwich!!! crispy with the perfect amount of jalapeño jam to balance it out. the breakfast sandwich came with a large brick of egg that i personally was not a fan of. it was too big that you could hardly eat it as a sandwich. we ended up deconstructing it and eating the biscuit with a side of their heavenly blueberry jam. the potatoes were nice and crispy but nothing outstanding about it. \n",
      "\n",
      "best thing about this place: fried chicken sandwich \n",
      "worst thing about this place: no health precautions\n",
      "\n",
      "\n",
      "\n",
      "============Error #6=============\n",
      "\n",
      "\n",
      "Query:\n",
      "What are the reasons customers have stopped using Chase credit cards?\n",
      "\n",
      "Expected Contexts:\n",
      "I've had their credit card since 1998.  I won't be doing business w/ Chase ever again, this is just one of several incidents.  Bad business losses business.  Greedy ass company.\n",
      "\n",
      "Retrieved Contexts:\n",
      "\n",
      "\n",
      "Context #1: I have only had one credit card previous to this, which I paid off on time. My credit score is above 700 and I make a decent and steady salary, and yet I was told that I can't have a chase credit card because I don't have enough credit history. The entire purpose of my applying for a chase credit card was to build my credit history. It is unbelievable to me that three of my friends, who are in college, with no income have Chase Freedom cards, and I cannot because I haven't had enough credit cards in the past. I've heard great things about Chase credit cards and am disappointed by the level of discretion (or lack thereof) that they use when approving credit cards.\n",
      "\n",
      "Context #2: I have 3 credit cards with Chase and have been a customer since 2011. I have never had a late payment and have never had a single credit limit increase in 5 years!!!! I have well over a 700 credit score and thought it was more than reasonable to ask for a credit line increase (cli). So, I emailed customer service -since there is not a automated online system to request a cli - and my Amazon credit card was increased within a few days. The other two credit cards were denied weeks later. \n",
      "\n",
      "Context #3: Not get a credit card through Chase bank I waiting on the phone because the wait said 10 minutes and then after 10 minutes it said 15 minutes there's never any customer service with your credit card time to change banks and credit card so many others answer their phones and you're using the excuse for COVID-19 Not answer the phones and everybody else is but Chase\n",
      "\n",
      "Context #4: I had a Master Card with Chase since 2007.  Last year in some Chase WISDOM they decided to replace the Master Card with some kind of Freedom credit card.  I have never used the Freedom card in the 6 months I have had it.  In the meantime I log on to the Chase web site to download the Master Card statements from 2017 so I can see my expenses for my tax return and the statements are no longer there, only the Freedom card that I have never used.  I call Chase and I am told that the statements are no long available.  \n",
      "\n",
      "Context #5: Dealing with Chase credit card customer service is a horrible experience. I've dealt with customer service representatives, account supervisors, senior account supervisors, and credit bureau specialists. \n",
      "\n",
      "Context #6: I have 3 credit cards with Chase and them inconsiderate numb nuts decreased all my limits on all 3 cards, now instead of 55% usage it's at 95% credit usage so now when they report to the credit bureau I have maxed my cards out and my credit score will decrease considerably. During a pandamic when everyone is struggling this is what they have the balls to do, I have not asked them for a deferal and I pay my bills on time on each credit card. \n",
      "\n",
      "Context #7: Service OK but nightmare if you stop use.\n",
      "\n",
      "Had the chase card for a while and service was ok.\n",
      "\n",
      "And at some point switched it to another card due to some reason. Then their service turned out to be a nightmare. \n",
      "\n",
      "They would report one accidental missing payment of $15. So your credit score would drop by 100 in 10 days and will Not get back to a good spot for another 2 years. \n",
      "\n",
      "Be careful!\n",
      "\n",
      "Context #8: About Chase Credit Cards:  Good luck if you get one - you'll need it.\n",
      "After 2 years of having a Chase credit card I decided that I wasn't using it much and decided to cancel the card.  I notified Chase that I was cancelling the card.  They did not cancel the card.  For the next few months I got a bill that had an unsupported charge.  The section of the bill that I used to get that showed the specific charges had been omitted but the total bill had increased from zero to over $600.00.  \n",
      "\n",
      "I wrote the company and asked for the itemized bill so that I could see what charges they were referring to.  They not only didn't do this but their letter to me said it wasn't possible for them to identify the charges and their sources.  I refused to pay them anything until they documented the bill(s).  Then they sent in a derogatory report to the 3 credit bureaus.  \n",
      "\n",
      "Context #9: Chase freedom card has lost my goodwill. They have proven to be unreasonable regarding a credit card dispute. Why bother using a credit card if they don't have your back? I used Airbnb and had as awful experience. When I disputed 4 nights of my 10 night stay, chase told me they never consider a hotel dispute as valid, unless you leave the hotel. Now how is that possible when you have prepaid the bill on full and there are no other places to stay on a holiday weekend at the last minute? Chase's rules are that the customer is never worthy of a reimbursement even if the Airbnb is unclean, has no WiFi and does not offer the amenities as marketed. I also spent time and effort printing and mailing screenshots of my entire exchange with the Airbnb landlord and lots of time in the phone with chase. \n",
      "\n",
      "Context #10: Banking is what you make of it. I have been a Chase card customer since 1989. It has evolved from a free Visa to a fee bearing Sapphire preferred. I have been a Chase customer from 1988. I was a personal banker with Chase 3 years ago. \n",
      "\n",
      "\n",
      "\n",
      "============Error #7=============\n",
      "\n",
      "\n",
      "Query:\n",
      "What are the reviews for Tony's restaurant in Alton?\n",
      "\n",
      "Expected Contexts:\n",
      "Tony's Used to be a favorite, and a frequent destination for special days...birthdays,Mothers/Fathers day etc.....\n",
      "Today we took my mom there as per her request (Other fine restaurants were considered/suggested) but Mom having fond memories of Tony's fare insisted on Tony's Alton\n",
      " (Most know not related to STLs Tony's)\n",
      "Early reservations made again as per request as she lives 73miles from Tony's and prefers to arrive home before it gets too dark re her poor eyesight.\n",
      "3pm reservation made: At no time did reservation staff mention any issues r/t reservation time. (As we would have gladly made it for 4pm if needed)\n",
      "We arrive, staff at hostess stand obviously not familiar with \"hosting\" and frantically searching for reservation book.\n",
      "We are seated: Soon we discover that No Baked potato (Dad's favorite) would be available as they had none prepared... Ok he chose a different side. Of note when asking about alt sides waitress not only wasn't sure but obviously not happy we were asking about alternate sides! \n",
      "Food arrives: Dad and I 12oz Pepper Loin filets Tony's is known for. Historically this is a very tender,flavorful meat with cracked pepper and butter.... today?  \n",
      "\n",
      "Retrieved Contexts:\n",
      "\n",
      "\n",
      "Context #1: Tony's is a fine restaurant in the Alton area. The food is great and the atmosphere is one of a kind.\n",
      "\n",
      "Context #2: I was born and raised in Alton and during high school, Tony's was the 'go to' place for the greatest pizza ever.   I don't live in Alton now and just visit a couple times a year.  Last weekend, 6 of us went to Tony's for dinner in the bar.  \n",
      "\n",
      "Context #3: Google \"Tony's alton sexual harassment\" for the whole story. \n",
      "\n",
      "Won't be back.\n",
      "\n",
      "Context #4: I grew up in Alton.  Tony ' s was one of the nicest restaurants in town when I was a kid.  If we went for a special family dinner,  we would dress nicely,  and the food would be good.  \n",
      "\n",
      "\n",
      "\n",
      "Context #5: Tony's has the best Caesar Salad in the area! The Peperloin Kabob is cooked perfectly each time and the pasta with marinara sauce is the perfect companion! I would recommend Tony's to anyone visiting Alton!\n",
      "\n",
      "Context #6: I went with a large group to see a band in Alton, and started at Tony's for dinner beforehand.  Walking in, the interior is dark and dingy.  \n",
      "\n",
      "Context #7: ~ Shame on you, Ventimiglia's! Tony's is an Alton landmark restaurant that you have shamed because a family member could not keep it in his pants! Family or not, this woman should have been paid MUCH more than a measly $75k. \n",
      "\n",
      "Context #8: Ok, so Tony's been on the rotation and I'd actually call it one my haunts in Alton, IL.\n",
      "\n",
      "Great food, but they are not open on Mondays, but come to think of it most spots downtown are closed on Mondays.  yeah, Squirrel I know.. back to Tony's.\n",
      "\n",
      "\n",
      "\n",
      "Context #9: Originally from Alton, I returned for a visit to find Tony's relocated. We took my parents there for a traditional pepperloin steak, toasted ravioli, house salad and dessert. \n",
      "\n",
      "Context #10: Now it's just sad. What a loss for the Alton area.\n",
      "\n",
      "\n",
      "\n",
      "============Error #8=============\n",
      "\n",
      "\n",
      "Query:\n",
      "What are the best gift ideas for men?\n",
      "\n",
      "Expected Contexts:\n",
      "If you're looking for gifts for a man, this is a great place to start.\n",
      "\n",
      "Retrieved Contexts:\n",
      "\n",
      "\n",
      "Context #1: I came in on March 11th because I needed a gift for my best friend and of course a bookstore is the best place to get one. I had 2 different ideas in mind, both cookbooks, so I figured in the name of not wasting time I would head directly to customer service. They had both in stock and the employee guided to me the cookbook section and helped me find the books. \n",
      "\n",
      "Context #2: Myself and a friend had no idea what to expect coming here as the menu doesn't give away too much. However, we chose our meat, hoped for the best and weren't disappointed.\n",
      "To be honest, I had no clue what half of the stuff in the bowl was... but it was delicious.\n",
      "\n",
      "\n",
      "Context #3: Good food and great service. I have no idea what these bad reviews are about. \n",
      "\n",
      "Context #4: A great, curated selection of premium, high quality men's goods. It was one of the best selections across the board that I've seen. \n",
      "\n",
      "Context #5: One of the best men's stores in the country. Tommy places an emphasis on the quality of his brands and has a story attached with almost every piece in his store. Don't be turned away from the \"men's store\" label as there are plenty of items for everyone in his store. \n",
      "\n",
      "Context #6: They also have a nice selection of teas, hot chocolate etc. They also have cool cat gifts ( cat champagne)  The cats are in a different room that is monitors by \" chaperone\" which is such a good idea to make Sure everyone is treating the cats well and also she will tell you about any cat in the room. The owners of the café are very friendly and very passionate about what they do. To date they have already rehomed over 30 cats. What a wonderful cause. I would highly recommend this place\n",
      "\n",
      "Context #7: I've been told I have nice BAPs. I have no idea what that means.\n",
      "\n",
      "Booty And Pecs?\n",
      "Bum And Posture?\n",
      "B*lls And P**is?\n",
      "\n",
      "Who knows.\n",
      "\n",
      "\n",
      "\n",
      "Context #8: What a wonderful experience I had today at Sweet Things. I haven't been in the shop for sometime. I was looking for Christmas gifts and I found several plus treats for my family.\n",
      "\n",
      "The shop has a large display case filled with all types of chocolates, truffles, covered pretzels and nuts, toffee and more. Everything is made right here at Something Chocolate.\n",
      "\n",
      "They offer custom gift baskets, offer pre-made collections of chocolates and I found fun Hot Chocolate Bombs. Just add water or milk and place bomb in cup where chocolate melts and mini marshmallows float to the top. Their great Christmas gifts for the kids. \n",
      "\n",
      "Context #9: Perfect spot for filling candy gift bags, Piñatas, wedding candy tables or just snacks as you drive by. \n",
      "\n",
      "The other half of the shop feels like a disconnect located in a candy and chocolate store. Regardless, they carry some cute, some useful, some bitter, some sweet gifts and gift cards. Honestly I'll didn't see anything on the gift side to bring me back however the chocolate side will see me many times in the near future.\n",
      "\n",
      "Context #10: This is one of the most tasteful, well-curated stores for men you'll ever visit. \n",
      "\n",
      "From the selection of boots and denim to every functional trinket imaginable to exclusive collaborations, you'll leave with deep sense of appreciation every single time. \n",
      "\n",
      "The best part about the store? \n",
      "\n",
      "\n",
      "\n",
      "============Error #9=============\n",
      "\n",
      "\n",
      "Query:\n",
      "What are the best cafes with cats and coffee?\n",
      "\n",
      "Expected Contexts:\n",
      "I thoroughly enjoyed coming here. The coffee is amazing, the treats are crazy adorable and the cats are purrrfect.\n",
      "\n",
      "\n",
      "\n",
      "Retrieved Contexts:\n",
      "\n",
      "\n",
      "Context #1: Cat cafes! It's all the rage. I have no pets and thought it would be a cute way to spend an hour! You pay for the time you spend in the cat lounge (up to 2 hours) and the price includes a coffee (or hot beverage). The cafe area is a large and inviting space you would hang out whether there were cats or not. There is a viewing window into the lounge so you can watch what's happening in the cat cafe and view the pics of the cats in the lounge before you go in. They also keep count of how many cats they have re-homed and they were up to 31 cats.\n",
      "\n",
      "The owners were both there when I went in and they clearly have a passion for great coffee and rehoming cats! If coffee isn't your bag - they sell Cally's Teas and three spacial blends they made just for them.\n",
      "\n",
      "The cat lounge itself is clean and well arranged with a few chairs and loads of nooks for snoozing cats, a castle climbing frame and loads of shelves for cats to climb and hide out. One cat, Homer, was particularly friendly and came out of a corner to strut around the room and get in on some of the action from cat lovers in the room. There is also a member of staff in there helping find cats and tell you a bit about them and their personality. \n",
      "\n",
      "Context #2: My new favourite cafe! Cats and coffee? Yes please. Enjoy a well made beverage while snuggling one or all of the cats! \n",
      "\n",
      "$12.50 gets you a regular size drink and an hour in the cat room. You must remove your shoes or wear some slip on covers over them. \n",
      "\n",
      "Context #3: If you are in Edmonton. Pop into Paws the cat cafe for a Cat Snuggle!! The owners are SERIOUS ABOUT COFFEE! Truly, GO FOR THE COFFEE. If you fancy cats awesome ~ if you don't .... GO ANYWAY for that coffee PAWS is stocked full of eye candy. They feature local artists, local bakery & Kitty treats, AMAZING COFFEE and of course there were 12 gorgeous cats for adoption during our visit. Date night supreme ~  Thank you to Pamela & the elite squad who recently hosted an engaging event PAWS. Congratulations on educating and bringing the YELP & YEG community together!\n",
      "\n",
      "Context #4: This is such a great concept for a cafe. All cats are up for adoption through the Humane Society. They hold events there as well such as cat yoga and birthday parties. \n",
      "\n",
      "Context #5: What a cool place.  Great locally roasted coffee, fresh and delicious baked goods, cat products made by local artisans, and, CATS!  Where else can you have a coffee and snack with a friendly kitten sitting on your lap?  \n",
      "\n",
      "Context #6: What's not to love about a Cat Café?\n",
      "\n",
      "Enjoy a tasty beverage, a cat themed macaron perhaps, and get in some kitty snuggles.\n",
      "\n",
      "Love the layout here!  They have the coolest kitty castle and shelves for the cats to roam around in the visiting room.\n",
      "\n",
      "There are some board games and cat puzzles if you'd like to spend your time doing something other than petting cats - Say what?\n",
      "\n",
      "The owners, Nicole and Mike, are absolutely lovely.  Mike has a real passion for the purrfect cup of coffee and Nicole is a cat queen!  They fell in love with the concept of cat cafes when visiting Seattle a few years ago and have been on a mission since to open the purrfect Cat Café! \n",
      "\n",
      "Kids need to be 7 to come here - always good to call ahead and double check the current policy though in case there are any changes. \n",
      "\n",
      "And if you're looking for the purrfect gift for that special feline in your life, Paws has you covered from funky bow tie collars to cat wine, they've got it all!\n",
      "\n",
      "All the treats and beverages here are locally sourced - Support local!\n",
      "\n",
      "\n",
      "\n",
      "Context #7: Follow their Facebook page for more information on the current cats they have there. Also there is pictures and profiles of each cat at the cafe. Great for all ages animal lovers. So many amazing treats and drinks with cute cat names to make it that much more fun! The staff is super friendly and accommodating. The set up is so amazing with a cat castle for you and the cats to enjoy!\n",
      "\n",
      "Context #8: Great little coffee shop and added bonus - cats!  There's tasty treats too along with some neat cat accessories to look at (like local fleecy cat toys). \n",
      "\n",
      "Context #9: There are a few small tables and a couple of leather seats. A cat sitter will be there to answer any questions you have, introduce you to the cats and let you know which cats are friendly or require a few tricks or treats to warm up to you. Each cat is from the Humane Society, adoptable and will stay at the cafe until they find their forever home. Today there were 9 cats. A few new ones since my last visit. \n",
      "\n",
      "They also have a small retail section. Treats, cat wine, cat tea, toys, bows ties, and now carry cat nip bubble wands.\n",
      "\n",
      "Context #10: Great! Wonderful to spend time with the cats and supports a good cause. Good coffee and we were even offered samples of a different coffee. They had free pet samples too if you have a cat at home. \n",
      "\n",
      "\n",
      "\n",
      "============Error #10=============\n",
      "\n",
      "\n",
      "Query:\n",
      "What activities can I do with my son that he will enjoy?\n",
      "\n",
      "Expected Contexts:\n",
      "My son is still talking about it\n",
      "\n",
      "Retrieved Contexts:\n",
      "\n",
      "\n",
      "Context #1: He latter represented my son very well and I'm happy to recommend him.\n",
      "\n",
      "Context #2: My husband and I stopped by the restaurant a few weeks ago to pick up dinner for our son and ourselves. The next day, my son was hungry and I told him he could have my leftover chicken fried rice. He tipped it into a bowl and mixed up in the food was a blue rubber band. Needless to say he didn't eat the food. I told him to send the restaurant an E-mail which he did. He received no response. \n",
      "\n",
      "Context #3: My favorite Italian restaurant so far. Big portions, delicious(for my taste) food. Even My picky son enjoyed it. \n",
      "\n",
      "Context #4: Wonderful! My sons wedding was there last Sunday night. What great service. \n",
      "\n",
      "Context #5: He told us what they were doing for our safety and was patient with us. I so appreciate that he was this attentive to us and made our first experience out a very enjoyable one. John is a true asset, an on-point, professional waiter. Bravo.\n",
      "\n",
      "Context #6: My son in law said the same thing when he stopped in (and it was a different sales person).  Not giving them any more business.\n",
      "\n",
      "Context #7: The kids keep the socks when they leave.  \n",
      "\n",
      "The activities centered around the trampoline theme of the place but they had activities like foam pits, dodge ball court, climbing games, jumping games, etc..  Lots to do for all ages.  As a non participating parent, I was able to follow my little one around and it was fine just in my regular socks. \n",
      "\n",
      "The party included pizza and cake, then the kids could go back and play.  By noon, the place was so crowded that we were glad to leave.   Overall a fun activity for a few hours.  \n",
      "\n",
      "I have no idea of the pricing structure.  What I can comment on is the place has easy parking, it's clean, the attendants are pleasant and not overbearing but present, plus it seems it's food friendly as there are places to sit and eat (not sure if they sell snacks??). We will definitely go back!\n",
      "\n",
      "Context #8: He didn't offer to take our order or any help what do ever.\n",
      "\n",
      "Context #9: The place is not very big which is actually a positive thing. It is nicely designed with activities such as a vet's office, grocery store, a nursery room, a paramedic truck and a very fun garden area. The staff is very kind and helpful and constantly reorganizing the toys and games. To call it a museum may be a misnomer as it's more of an activity and learning center in my opinion. \n",
      "\n",
      "This would be a great place to bring kids during bad weather or winter when they ache to be active but can't be outside for long.\n",
      "\n",
      "Context #10: Shay was reliable, knowledgeable, and stayed true to his estimated quote. He even gave me advice on what to do if I was locked out of my apartment again.\n",
      "\n"
     ]
    }
   ],
   "source": [
    "for i, row in retrieval_eval_irrelevance_df.reset_index(drop=True).iterrows():\n",
    "    print(f\"\\n\\n============Error #{i+1}=============\\n\\n\")\n",
    "    print(f\"Query:\\n{row.query}\\n\")\n",
    "    expected_contexts = [json.loads(record.payload['_node_content'])['text'] for record in qdrantdb.retrieve(cfg.db_collection, ids=row.expected_ids)]\n",
    "    expected_contexts = '\\n\\n'.join(expected_contexts)\n",
    "    print(f\"Expected Contexts:\\n{expected_contexts}\\n\")\n",
    "    contexts = \"\"\n",
    "    for i, context in enumerate(row.retrieved_texts):\n",
    "        contexts = f\"{contexts}\\n\\nContext #{i+1}: {context}\"\n",
    "    print(f\"Retrieved Contexts:\\n{contexts}\\n\")"
   ]
  },
  {
   "cell_type": "markdown",
   "id": "b1910567-a4d2-4303-99f2-e258a1e5f4df",
   "metadata": {},
   "source": [
    "# Response"
   ]
  },
  {
   "cell_type": "code",
   "execution_count": 44,
   "id": "52cf8ef4-5b5e-44dc-a674-4140113b7ea5",
   "metadata": {},
   "outputs": [],
   "source": [
    "from llama_index.core import get_response_synthesizer\n",
    "from llama_index.core.postprocessor import SimilarityPostprocessor\n",
    "from llama_index.postprocessor.flag_embedding_reranker import FlagEmbeddingReranker\n",
    "\n",
    "from src.features.append_reference.custom_query_engine import ManualAppendReferenceQueryEngine"
   ]
  },
  {
   "cell_type": "code",
   "execution_count": 45,
   "id": "fb1ff71b-aaee-45f8-a715-a6d2ed1202b9",
   "metadata": {},
   "outputs": [],
   "source": [
    "node_postprocessors = []\n",
    "\n",
    "if cfg.retrieval_cfg.retrieval_similarity_cutoff is not None:\n",
    "    node_postprocessors.append(SimilarityPostprocessor(similarity_cutoff=cfg.retrieval_cfg.retrieval_similarity_cutoff))\n",
    "\n",
    "reranker = FlagEmbeddingReranker(model=cfg.retrieval_cfg.rerank_model_name, top_n=cfg.retrieval_cfg.rerank_top_k)\n",
    "node_postprocessors.append(reranker)\n",
    "\n",
    "response_synthesizer = get_response_synthesizer()\n",
    "query_engine = ManualAppendReferenceQueryEngine(\n",
    "    retriever=retriever,\n",
    "    response_synthesizer=response_synthesizer,\n",
    "    node_postprocessors=node_postprocessors,\n",
    ")"
   ]
  },
  {
   "cell_type": "markdown",
   "id": "11751765-2079-4f4e-a116-5a9678ea8f48",
   "metadata": {},
   "source": [
    "## Test Query Engine"
   ]
  },
  {
   "cell_type": "code",
   "execution_count": 46,
   "id": "c9726cfe-cac2-462e-b311-0b6b59ecc0b0",
   "metadata": {},
   "outputs": [],
   "source": [
    "from llama_index.core.response.notebook_utils import (\n",
    "    display_source_node,\n",
    "    display_response,\n",
    ")"
   ]
  },
  {
   "cell_type": "code",
   "execution_count": 47,
   "id": "0c8eb815-f87f-41e6-a29b-7f27f692ec0c",
   "metadata": {
    "scrolled": true
   },
   "outputs": [
    {
     "data": {
      "text/markdown": [
       "**`Final Response:`** You can find good cold brew coffee at Helena Avenue Bakery, specifically in Santa Barbara, California.\n",
       "\n",
       "\n",
       "Sources:\n",
       "- [None](None)\n",
       "\n",
       "\n",
       "\n",
       "\n",
       "\n",
       "#### Referenced Paragraphs\n",
       "Article: **None**\n",
       "\n",
       "> ...Pricey ( a ham and cheese croissant was $5.50)  as with anywhere in Santa Barbra but very delicious. Cute space ( a bit hard to find ). The green eggs and ham  breakfast biscuit is to die for.  ($10 I think) The Santa Barbra tri tip sandwich was excellent! Cold brew coffee was good. ..."
      ],
      "text/plain": [
       "<IPython.core.display.Markdown object>"
      ]
     },
     "metadata": {},
     "output_type": "display_data"
    },
    {
     "data": {
      "text/markdown": [
       "---"
      ],
      "text/plain": [
       "<IPython.core.display.Markdown object>"
      ]
     },
     "metadata": {},
     "output_type": "display_data"
    },
    {
     "data": {
      "text/markdown": [
       "**`Source Node 1/5`**"
      ],
      "text/plain": [
       "<IPython.core.display.Markdown object>"
      ]
     },
     "metadata": {},
     "output_type": "display_data"
    },
    {
     "data": {
      "text/markdown": [
       "**Node ID:** c219b275-7042-42e0-9741-0e4e0e537912<br>**Similarity:** 0.7123664021492004<br>**Text:** Pricey ( a ham and cheese croissant was $5.50)  as with anywhere in Santa Barbra but very delicio...<br>**Metadata:** {'review_id': 'Q3fPo_x6xKxafAzy1hFITg', 'user_id': 'ha2Lv7WnxvdYnRsqwL1apQ', 'business_id': 'IDtLPgUrqorrpqSLdfMhZQ', 'review_stars': 4, 'useful': 0, 'funny': 0, 'cool': 0, 'date': '2018-07-17T00:20:41', 'biz_name': 'Helena Avenue Bakery', 'biz_address': '131 Anacapa St, Ste C', 'biz_city': 'Santa Barbara', 'biz_state': 'CA', 'biz_postal_code': '93101', 'biz_latitude': 34.4144445, 'biz_longitude': -119.6906718, 'biz_stars': 4.0, 'biz_review_count': 389, 'biz_is_open': 1, 'biz_attributes': {'AcceptsInsurance': None, 'Alcohol': \"u'none'\", 'Ambience': \"{'touristy': False, 'hipster': True, 'romantic': False, 'divey': False, 'intimate': False, 'trendy': True, 'upscale': False, 'classy': False, 'casual': True}\", 'BYOB': None, 'BestNights': None, 'BikeParking': 'True', 'BusinessAcceptsBitcoin': None, 'BusinessAcceptsCreditCards': 'True', 'BusinessParking': \"{'garage': False, 'street': True, 'validated': False, 'lot': False, 'valet': False}\", 'ByAppointmentOnly': None, 'Caters': 'True', 'CoatCheck': None, 'Corkage': None, 'DogsAllowed': 'True', 'DriveThru': None, 'GoodForDancing': None, 'GoodForKids': 'True', 'GoodForMeal': \"{'dessert': False, 'latenight': False, 'lunch': True, 'dinner': False, 'brunch': True, 'breakfast': True}\", 'HappyHour': 'False', 'HasTV': 'False', 'Music': None, 'NoiseLevel': \"u'average'\", 'OutdoorSeating': 'True', 'RestaurantsAttire': \"'casual'\", 'RestaurantsDelivery': 'None', 'RestaurantsGoodForGroups': 'True', 'RestaurantsPriceRange2': '2', 'RestaurantsReservations': 'False', 'RestaurantsTableService': 'False', 'RestaurantsTakeOut': 'True', 'Smoking': None, 'WheelchairAccessible': 'True', 'WiFi': \"u'no'\"}, 'biz_categories': ['Food', 'Restaurants', 'Salad', 'Coffee & Tea', 'Breakfast & Brunch', 'Sandwiches', 'Bakeries'], 'biz_hours': {'Friday': '8:0-14:0', 'Monday': '0:0-0:0', 'Saturday': '8:0-14:0', 'Sunday': '8:0-14:0', 'Thursday': '8:0-14:0', 'Tuesday': '8:0-14:0', 'Wednesday': '8:0-14:0'}}<br>"
      ],
      "text/plain": [
       "<IPython.core.display.Markdown object>"
      ]
     },
     "metadata": {},
     "output_type": "display_data"
    },
    {
     "data": {
      "text/markdown": [
       "---"
      ],
      "text/plain": [
       "<IPython.core.display.Markdown object>"
      ]
     },
     "metadata": {},
     "output_type": "display_data"
    },
    {
     "data": {
      "text/markdown": [
       "**`Source Node 2/5`**"
      ],
      "text/plain": [
       "<IPython.core.display.Markdown object>"
      ]
     },
     "metadata": {},
     "output_type": "display_data"
    },
    {
     "data": {
      "text/markdown": [
       "**Node ID:** 3eeaa309-8f13-406c-b1d7-ac1d15413b62<br>**Similarity:** -1.094619631767273<br>**Text:** Service at the register was friendly. Cold brew was sooo good as were the sandwiches we got. Will...<br>**Metadata:** {'review_id': '-6iyNp8Vs9kF0IRGXZvsHA', 'user_id': 'oq6j9F5Oy51JyogMYh1P4g', 'business_id': 'IDtLPgUrqorrpqSLdfMhZQ', 'review_stars': 5, 'useful': 0, 'funny': 0, 'cool': 0, 'date': '2020-09-06T08:11:20', 'biz_name': 'Helena Avenue Bakery', 'biz_address': '131 Anacapa St, Ste C', 'biz_city': 'Santa Barbara', 'biz_state': 'CA', 'biz_postal_code': '93101', 'biz_latitude': 34.4144445, 'biz_longitude': -119.6906718, 'biz_stars': 4.0, 'biz_review_count': 389, 'biz_is_open': 1, 'biz_attributes': {'AcceptsInsurance': None, 'Alcohol': \"u'none'\", 'Ambience': \"{'touristy': False, 'hipster': True, 'romantic': False, 'divey': False, 'intimate': False, 'trendy': True, 'upscale': False, 'classy': False, 'casual': True}\", 'BYOB': None, 'BestNights': None, 'BikeParking': 'True', 'BusinessAcceptsBitcoin': None, 'BusinessAcceptsCreditCards': 'True', 'BusinessParking': \"{'garage': False, 'street': True, 'validated': False, 'lot': False, 'valet': False}\", 'ByAppointmentOnly': None, 'Caters': 'True', 'CoatCheck': None, 'Corkage': None, 'DogsAllowed': 'True', 'DriveThru': None, 'GoodForDancing': None, 'GoodForKids': 'True', 'GoodForMeal': \"{'dessert': False, 'latenight': False, 'lunch': True, 'dinner': False, 'brunch': True, 'breakfast': True}\", 'HappyHour': 'False', 'HasTV': 'False', 'Music': None, 'NoiseLevel': \"u'average'\", 'OutdoorSeating': 'True', 'RestaurantsAttire': \"'casual'\", 'RestaurantsDelivery': 'None', 'RestaurantsGoodForGroups': 'True', 'RestaurantsPriceRange2': '2', 'RestaurantsReservations': 'False', 'RestaurantsTableService': 'False', 'RestaurantsTakeOut': 'True', 'Smoking': None, 'WheelchairAccessible': 'True', 'WiFi': \"u'no'\"}, 'biz_categories': ['Food', 'Restaurants', 'Salad', 'Coffee & Tea', 'Breakfast & Brunch', 'Sandwiches', 'Bakeries'], 'biz_hours': {'Friday': '8:0-14:0', 'Monday': '0:0-0:0', 'Saturday': '8:0-14:0', 'Sunday': '8:0-14:0', 'Thursday': '8:0-14:0', 'Tuesday': '8:0-14:0', 'Wednesday': '8:0-14:0'}}<br>"
      ],
      "text/plain": [
       "<IPython.core.display.Markdown object>"
      ]
     },
     "metadata": {},
     "output_type": "display_data"
    },
    {
     "data": {
      "text/markdown": [
       "---"
      ],
      "text/plain": [
       "<IPython.core.display.Markdown object>"
      ]
     },
     "metadata": {},
     "output_type": "display_data"
    },
    {
     "data": {
      "text/markdown": [
       "**`Source Node 3/5`**"
      ],
      "text/plain": [
       "<IPython.core.display.Markdown object>"
      ]
     },
     "metadata": {},
     "output_type": "display_data"
    },
    {
     "data": {
      "text/markdown": [
       "**Node ID:** f4c371ab-f4d1-4365-8c83-db3dfdd6c74c<br>**Similarity:** -1.8642116785049438<br>**Text:** Barista was fast at least. Good latte and cold brew. I should have just ordered a pastry though.<br>**Metadata:** {'review_id': 'LuLzCVNRkAPjVaRVA__V2A', 'user_id': '7gDOm5IJarR2QtOlbY695A', 'business_id': 'IDtLPgUrqorrpqSLdfMhZQ', 'review_stars': 3, 'useful': 2, 'funny': 0, 'cool': 0, 'date': '2018-03-04T17:37:14', 'biz_name': 'Helena Avenue Bakery', 'biz_address': '131 Anacapa St, Ste C', 'biz_city': 'Santa Barbara', 'biz_state': 'CA', 'biz_postal_code': '93101', 'biz_latitude': 34.4144445, 'biz_longitude': -119.6906718, 'biz_stars': 4.0, 'biz_review_count': 389, 'biz_is_open': 1, 'biz_attributes': {'AcceptsInsurance': None, 'Alcohol': \"u'none'\", 'Ambience': \"{'touristy': False, 'hipster': True, 'romantic': False, 'divey': False, 'intimate': False, 'trendy': True, 'upscale': False, 'classy': False, 'casual': True}\", 'BYOB': None, 'BestNights': None, 'BikeParking': 'True', 'BusinessAcceptsBitcoin': None, 'BusinessAcceptsCreditCards': 'True', 'BusinessParking': \"{'garage': False, 'street': True, 'validated': False, 'lot': False, 'valet': False}\", 'ByAppointmentOnly': None, 'Caters': 'True', 'CoatCheck': None, 'Corkage': None, 'DogsAllowed': 'True', 'DriveThru': None, 'GoodForDancing': None, 'GoodForKids': 'True', 'GoodForMeal': \"{'dessert': False, 'latenight': False, 'lunch': True, 'dinner': False, 'brunch': True, 'breakfast': True}\", 'HappyHour': 'False', 'HasTV': 'False', 'Music': None, 'NoiseLevel': \"u'average'\", 'OutdoorSeating': 'True', 'RestaurantsAttire': \"'casual'\", 'RestaurantsDelivery': 'None', 'RestaurantsGoodForGroups': 'True', 'RestaurantsPriceRange2': '2', 'RestaurantsReservations': 'False', 'RestaurantsTableService': 'False', 'RestaurantsTakeOut': 'True', 'Smoking': None, 'WheelchairAccessible': 'True', 'WiFi': \"u'no'\"}, 'biz_categories': ['Food', 'Restaurants', 'Salad', 'Coffee & Tea', 'Breakfast & Brunch', 'Sandwiches', 'Bakeries'], 'biz_hours': {'Friday': '8:0-14:0', 'Monday': '0:0-0:0', 'Saturday': '8:0-14:0', 'Sunday': '8:0-14:0', 'Thursday': '8:0-14:0', 'Tuesday': '8:0-14:0', 'Wednesday': '8:0-14:0'}}<br>"
      ],
      "text/plain": [
       "<IPython.core.display.Markdown object>"
      ]
     },
     "metadata": {},
     "output_type": "display_data"
    },
    {
     "data": {
      "text/markdown": [
       "---"
      ],
      "text/plain": [
       "<IPython.core.display.Markdown object>"
      ]
     },
     "metadata": {},
     "output_type": "display_data"
    },
    {
     "data": {
      "text/markdown": [
       "**`Source Node 4/5`**"
      ],
      "text/plain": [
       "<IPython.core.display.Markdown object>"
      ]
     },
     "metadata": {},
     "output_type": "display_data"
    },
    {
     "data": {
      "text/markdown": [
       "**Node ID:** 5c81703a-7c5a-416b-8b4e-a85adfc7e7d4<br>**Similarity:** -2.0586793422698975<br>**Text:** If it's cold, come grab a coffee instead. They offer all the great styles and flavors of coffee a...<br>**Metadata:** {'review_id': 'GHAY9_Kpk-1hcq4Ehfmu1w', 'user_id': 'HpXm_E_MRQdN_Rv4cARviA', 'business_id': 'oaboaRBUgGjbo2kfUIKDLQ', 'review_stars': 5, 'useful': 1, 'funny': 0, 'cool': 1, 'date': '2016-02-07T16:02:23', 'biz_name': \"Mike's Ice Cream\", 'biz_address': '129 2nd Ave N', 'biz_city': 'Nashville', 'biz_state': 'TN', 'biz_postal_code': '37201', 'biz_latitude': 36.1626492, 'biz_longitude': -86.7759733, 'biz_stars': 4.5, 'biz_review_count': 593, 'biz_is_open': 1, 'biz_attributes': {'AcceptsInsurance': None, 'Alcohol': \"u'none'\", 'Ambience': \"{'romantic': False, 'intimate': False, 'touristy': False, 'hipster': False, 'divey': False, 'classy': False, 'trendy': False, 'upscale': False, 'casual': True}\", 'BYOB': None, 'BestNights': None, 'BikeParking': 'False', 'BusinessAcceptsBitcoin': None, 'BusinessAcceptsCreditCards': 'True', 'BusinessParking': \"{'garage': False, 'street': True, 'validated': False, 'lot': False, 'valet': False}\", 'ByAppointmentOnly': 'False', 'Caters': 'False', 'CoatCheck': None, 'Corkage': None, 'DogsAllowed': 'False', 'DriveThru': 'False', 'GoodForDancing': None, 'GoodForKids': 'True', 'GoodForMeal': None, 'HappyHour': None, 'HasTV': 'False', 'Music': None, 'NoiseLevel': \"u'average'\", 'OutdoorSeating': 'None', 'RestaurantsAttire': \"'casual'\", 'RestaurantsDelivery': 'None', 'RestaurantsGoodForGroups': 'True', 'RestaurantsPriceRange2': '2', 'RestaurantsReservations': 'False', 'RestaurantsTableService': None, 'RestaurantsTakeOut': 'True', 'Smoking': None, 'WheelchairAccessible': None, 'WiFi': \"'free'\"}, 'biz_categories': ['Ice Cream & Frozen Yogurt', 'Coffee & Tea', 'Restaurants', 'Sandwiches', 'Food'], 'biz_hours': {'Friday': '8:0-0:0', 'Monday': '8:0-23:0', 'Saturday': '8:0-0:30', 'Sunday': '8:0-23:0', 'Thursday': '8:0-23:0', 'Tuesday': '8:0-23:0', 'Wednesday': '8:0-23:0'}}<br>"
      ],
      "text/plain": [
       "<IPython.core.display.Markdown object>"
      ]
     },
     "metadata": {},
     "output_type": "display_data"
    },
    {
     "data": {
      "text/markdown": [
       "---"
      ],
      "text/plain": [
       "<IPython.core.display.Markdown object>"
      ]
     },
     "metadata": {},
     "output_type": "display_data"
    },
    {
     "data": {
      "text/markdown": [
       "**`Source Node 5/5`**"
      ],
      "text/plain": [
       "<IPython.core.display.Markdown object>"
      ]
     },
     "metadata": {},
     "output_type": "display_data"
    },
    {
     "data": {
      "text/markdown": [
       "**Node ID:** 9594faec-4e66-4b78-9c35-42c8b37a33cb<br>**Similarity:** -2.2148277759552<br>**Text:** This review is for the delicious breakfast and coffee. The Green Breakfast Bowl and the Biscuit s...<br>**Metadata:** {'review_id': '4sGHeBRdn36yOX3KszhzCA', 'user_id': 'iGhGzpTg0c3J_tuTi9TOzQ', 'business_id': 'IDtLPgUrqorrpqSLdfMhZQ', 'review_stars': 5, 'useful': 1, 'funny': 1, 'cool': 1, 'date': '2018-07-28T19:12:02', 'biz_name': 'Helena Avenue Bakery', 'biz_address': '131 Anacapa St, Ste C', 'biz_city': 'Santa Barbara', 'biz_state': 'CA', 'biz_postal_code': '93101', 'biz_latitude': 34.4144445, 'biz_longitude': -119.6906718, 'biz_stars': 4.0, 'biz_review_count': 389, 'biz_is_open': 1, 'biz_attributes': {'AcceptsInsurance': None, 'Alcohol': \"u'none'\", 'Ambience': \"{'touristy': False, 'hipster': True, 'romantic': False, 'divey': False, 'intimate': False, 'trendy': True, 'upscale': False, 'classy': False, 'casual': True}\", 'BYOB': None, 'BestNights': None, 'BikeParking': 'True', 'BusinessAcceptsBitcoin': None, 'BusinessAcceptsCreditCards': 'True', 'BusinessParking': \"{'garage': False, 'street': True, 'validated': False, 'lot': False, 'valet': False}\", 'ByAppointmentOnly': None, 'Caters': 'True', 'CoatCheck': None, 'Corkage': None, 'DogsAllowed': 'True', 'DriveThru': None, 'GoodForDancing': None, 'GoodForKids': 'True', 'GoodForMeal': \"{'dessert': False, 'latenight': False, 'lunch': True, 'dinner': False, 'brunch': True, 'breakfast': True}\", 'HappyHour': 'False', 'HasTV': 'False', 'Music': None, 'NoiseLevel': \"u'average'\", 'OutdoorSeating': 'True', 'RestaurantsAttire': \"'casual'\", 'RestaurantsDelivery': 'None', 'RestaurantsGoodForGroups': 'True', 'RestaurantsPriceRange2': '2', 'RestaurantsReservations': 'False', 'RestaurantsTableService': 'False', 'RestaurantsTakeOut': 'True', 'Smoking': None, 'WheelchairAccessible': 'True', 'WiFi': \"u'no'\"}, 'biz_categories': ['Food', 'Restaurants', 'Salad', 'Coffee & Tea', 'Breakfast & Brunch', 'Sandwiches', 'Bakeries'], 'biz_hours': {'Friday': '8:0-14:0', 'Monday': '0:0-0:0', 'Saturday': '8:0-14:0', 'Sunday': '8:0-14:0', 'Thursday': '8:0-14:0', 'Tuesday': '8:0-14:0', 'Wednesday': '8:0-14:0'}}<br>"
      ],
      "text/plain": [
       "<IPython.core.display.Markdown object>"
      ]
     },
     "metadata": {},
     "output_type": "display_data"
    },
    {
     "data": {
      "text/plain": [
       "{'c219b275-7042-42e0-9741-0e4e0e537912': {'review_id': 'Q3fPo_x6xKxafAzy1hFITg',\n",
       "  'user_id': 'ha2Lv7WnxvdYnRsqwL1apQ',\n",
       "  'business_id': 'IDtLPgUrqorrpqSLdfMhZQ',\n",
       "  'review_stars': 4,\n",
       "  'useful': 0,\n",
       "  'funny': 0,\n",
       "  'cool': 0,\n",
       "  'date': '2018-07-17T00:20:41',\n",
       "  'biz_name': 'Helena Avenue Bakery',\n",
       "  'biz_address': '131 Anacapa St, Ste C',\n",
       "  'biz_city': 'Santa Barbara',\n",
       "  'biz_state': 'CA',\n",
       "  'biz_postal_code': '93101',\n",
       "  'biz_latitude': 34.4144445,\n",
       "  'biz_longitude': -119.6906718,\n",
       "  'biz_stars': 4.0,\n",
       "  'biz_review_count': 389,\n",
       "  'biz_is_open': 1,\n",
       "  'biz_attributes': {'AcceptsInsurance': None,\n",
       "   'Alcohol': \"u'none'\",\n",
       "   'Ambience': \"{'touristy': False, 'hipster': True, 'romantic': False, 'divey': False, 'intimate': False, 'trendy': True, 'upscale': False, 'classy': False, 'casual': True}\",\n",
       "   'BYOB': None,\n",
       "   'BestNights': None,\n",
       "   'BikeParking': 'True',\n",
       "   'BusinessAcceptsBitcoin': None,\n",
       "   'BusinessAcceptsCreditCards': 'True',\n",
       "   'BusinessParking': \"{'garage': False, 'street': True, 'validated': False, 'lot': False, 'valet': False}\",\n",
       "   'ByAppointmentOnly': None,\n",
       "   'Caters': 'True',\n",
       "   'CoatCheck': None,\n",
       "   'Corkage': None,\n",
       "   'DogsAllowed': 'True',\n",
       "   'DriveThru': None,\n",
       "   'GoodForDancing': None,\n",
       "   'GoodForKids': 'True',\n",
       "   'GoodForMeal': \"{'dessert': False, 'latenight': False, 'lunch': True, 'dinner': False, 'brunch': True, 'breakfast': True}\",\n",
       "   'HappyHour': 'False',\n",
       "   'HasTV': 'False',\n",
       "   'Music': None,\n",
       "   'NoiseLevel': \"u'average'\",\n",
       "   'OutdoorSeating': 'True',\n",
       "   'RestaurantsAttire': \"'casual'\",\n",
       "   'RestaurantsDelivery': 'None',\n",
       "   'RestaurantsGoodForGroups': 'True',\n",
       "   'RestaurantsPriceRange2': '2',\n",
       "   'RestaurantsReservations': 'False',\n",
       "   'RestaurantsTableService': 'False',\n",
       "   'RestaurantsTakeOut': 'True',\n",
       "   'Smoking': None,\n",
       "   'WheelchairAccessible': 'True',\n",
       "   'WiFi': \"u'no'\"},\n",
       "  'biz_categories': ['Food',\n",
       "   'Restaurants',\n",
       "   'Salad',\n",
       "   'Coffee & Tea',\n",
       "   'Breakfast & Brunch',\n",
       "   'Sandwiches',\n",
       "   'Bakeries'],\n",
       "  'biz_hours': {'Friday': '8:0-14:0',\n",
       "   'Monday': '0:0-0:0',\n",
       "   'Saturday': '8:0-14:0',\n",
       "   'Sunday': '8:0-14:0',\n",
       "   'Thursday': '8:0-14:0',\n",
       "   'Tuesday': '8:0-14:0',\n",
       "   'Wednesday': '8:0-14:0'}},\n",
       " '3eeaa309-8f13-406c-b1d7-ac1d15413b62': {'review_id': '-6iyNp8Vs9kF0IRGXZvsHA',\n",
       "  'user_id': 'oq6j9F5Oy51JyogMYh1P4g',\n",
       "  'business_id': 'IDtLPgUrqorrpqSLdfMhZQ',\n",
       "  'review_stars': 5,\n",
       "  'useful': 0,\n",
       "  'funny': 0,\n",
       "  'cool': 0,\n",
       "  'date': '2020-09-06T08:11:20',\n",
       "  'biz_name': 'Helena Avenue Bakery',\n",
       "  'biz_address': '131 Anacapa St, Ste C',\n",
       "  'biz_city': 'Santa Barbara',\n",
       "  'biz_state': 'CA',\n",
       "  'biz_postal_code': '93101',\n",
       "  'biz_latitude': 34.4144445,\n",
       "  'biz_longitude': -119.6906718,\n",
       "  'biz_stars': 4.0,\n",
       "  'biz_review_count': 389,\n",
       "  'biz_is_open': 1,\n",
       "  'biz_attributes': {'AcceptsInsurance': None,\n",
       "   'Alcohol': \"u'none'\",\n",
       "   'Ambience': \"{'touristy': False, 'hipster': True, 'romantic': False, 'divey': False, 'intimate': False, 'trendy': True, 'upscale': False, 'classy': False, 'casual': True}\",\n",
       "   'BYOB': None,\n",
       "   'BestNights': None,\n",
       "   'BikeParking': 'True',\n",
       "   'BusinessAcceptsBitcoin': None,\n",
       "   'BusinessAcceptsCreditCards': 'True',\n",
       "   'BusinessParking': \"{'garage': False, 'street': True, 'validated': False, 'lot': False, 'valet': False}\",\n",
       "   'ByAppointmentOnly': None,\n",
       "   'Caters': 'True',\n",
       "   'CoatCheck': None,\n",
       "   'Corkage': None,\n",
       "   'DogsAllowed': 'True',\n",
       "   'DriveThru': None,\n",
       "   'GoodForDancing': None,\n",
       "   'GoodForKids': 'True',\n",
       "   'GoodForMeal': \"{'dessert': False, 'latenight': False, 'lunch': True, 'dinner': False, 'brunch': True, 'breakfast': True}\",\n",
       "   'HappyHour': 'False',\n",
       "   'HasTV': 'False',\n",
       "   'Music': None,\n",
       "   'NoiseLevel': \"u'average'\",\n",
       "   'OutdoorSeating': 'True',\n",
       "   'RestaurantsAttire': \"'casual'\",\n",
       "   'RestaurantsDelivery': 'None',\n",
       "   'RestaurantsGoodForGroups': 'True',\n",
       "   'RestaurantsPriceRange2': '2',\n",
       "   'RestaurantsReservations': 'False',\n",
       "   'RestaurantsTableService': 'False',\n",
       "   'RestaurantsTakeOut': 'True',\n",
       "   'Smoking': None,\n",
       "   'WheelchairAccessible': 'True',\n",
       "   'WiFi': \"u'no'\"},\n",
       "  'biz_categories': ['Food',\n",
       "   'Restaurants',\n",
       "   'Salad',\n",
       "   'Coffee & Tea',\n",
       "   'Breakfast & Brunch',\n",
       "   'Sandwiches',\n",
       "   'Bakeries'],\n",
       "  'biz_hours': {'Friday': '8:0-14:0',\n",
       "   'Monday': '0:0-0:0',\n",
       "   'Saturday': '8:0-14:0',\n",
       "   'Sunday': '8:0-14:0',\n",
       "   'Thursday': '8:0-14:0',\n",
       "   'Tuesday': '8:0-14:0',\n",
       "   'Wednesday': '8:0-14:0'}},\n",
       " 'f4c371ab-f4d1-4365-8c83-db3dfdd6c74c': {'review_id': 'LuLzCVNRkAPjVaRVA__V2A',\n",
       "  'user_id': '7gDOm5IJarR2QtOlbY695A',\n",
       "  'business_id': 'IDtLPgUrqorrpqSLdfMhZQ',\n",
       "  'review_stars': 3,\n",
       "  'useful': 2,\n",
       "  'funny': 0,\n",
       "  'cool': 0,\n",
       "  'date': '2018-03-04T17:37:14',\n",
       "  'biz_name': 'Helena Avenue Bakery',\n",
       "  'biz_address': '131 Anacapa St, Ste C',\n",
       "  'biz_city': 'Santa Barbara',\n",
       "  'biz_state': 'CA',\n",
       "  'biz_postal_code': '93101',\n",
       "  'biz_latitude': 34.4144445,\n",
       "  'biz_longitude': -119.6906718,\n",
       "  'biz_stars': 4.0,\n",
       "  'biz_review_count': 389,\n",
       "  'biz_is_open': 1,\n",
       "  'biz_attributes': {'AcceptsInsurance': None,\n",
       "   'Alcohol': \"u'none'\",\n",
       "   'Ambience': \"{'touristy': False, 'hipster': True, 'romantic': False, 'divey': False, 'intimate': False, 'trendy': True, 'upscale': False, 'classy': False, 'casual': True}\",\n",
       "   'BYOB': None,\n",
       "   'BestNights': None,\n",
       "   'BikeParking': 'True',\n",
       "   'BusinessAcceptsBitcoin': None,\n",
       "   'BusinessAcceptsCreditCards': 'True',\n",
       "   'BusinessParking': \"{'garage': False, 'street': True, 'validated': False, 'lot': False, 'valet': False}\",\n",
       "   'ByAppointmentOnly': None,\n",
       "   'Caters': 'True',\n",
       "   'CoatCheck': None,\n",
       "   'Corkage': None,\n",
       "   'DogsAllowed': 'True',\n",
       "   'DriveThru': None,\n",
       "   'GoodForDancing': None,\n",
       "   'GoodForKids': 'True',\n",
       "   'GoodForMeal': \"{'dessert': False, 'latenight': False, 'lunch': True, 'dinner': False, 'brunch': True, 'breakfast': True}\",\n",
       "   'HappyHour': 'False',\n",
       "   'HasTV': 'False',\n",
       "   'Music': None,\n",
       "   'NoiseLevel': \"u'average'\",\n",
       "   'OutdoorSeating': 'True',\n",
       "   'RestaurantsAttire': \"'casual'\",\n",
       "   'RestaurantsDelivery': 'None',\n",
       "   'RestaurantsGoodForGroups': 'True',\n",
       "   'RestaurantsPriceRange2': '2',\n",
       "   'RestaurantsReservations': 'False',\n",
       "   'RestaurantsTableService': 'False',\n",
       "   'RestaurantsTakeOut': 'True',\n",
       "   'Smoking': None,\n",
       "   'WheelchairAccessible': 'True',\n",
       "   'WiFi': \"u'no'\"},\n",
       "  'biz_categories': ['Food',\n",
       "   'Restaurants',\n",
       "   'Salad',\n",
       "   'Coffee & Tea',\n",
       "   'Breakfast & Brunch',\n",
       "   'Sandwiches',\n",
       "   'Bakeries'],\n",
       "  'biz_hours': {'Friday': '8:0-14:0',\n",
       "   'Monday': '0:0-0:0',\n",
       "   'Saturday': '8:0-14:0',\n",
       "   'Sunday': '8:0-14:0',\n",
       "   'Thursday': '8:0-14:0',\n",
       "   'Tuesday': '8:0-14:0',\n",
       "   'Wednesday': '8:0-14:0'}},\n",
       " '5c81703a-7c5a-416b-8b4e-a85adfc7e7d4': {'review_id': 'GHAY9_Kpk-1hcq4Ehfmu1w',\n",
       "  'user_id': 'HpXm_E_MRQdN_Rv4cARviA',\n",
       "  'business_id': 'oaboaRBUgGjbo2kfUIKDLQ',\n",
       "  'review_stars': 5,\n",
       "  'useful': 1,\n",
       "  'funny': 0,\n",
       "  'cool': 1,\n",
       "  'date': '2016-02-07T16:02:23',\n",
       "  'biz_name': \"Mike's Ice Cream\",\n",
       "  'biz_address': '129 2nd Ave N',\n",
       "  'biz_city': 'Nashville',\n",
       "  'biz_state': 'TN',\n",
       "  'biz_postal_code': '37201',\n",
       "  'biz_latitude': 36.1626492,\n",
       "  'biz_longitude': -86.7759733,\n",
       "  'biz_stars': 4.5,\n",
       "  'biz_review_count': 593,\n",
       "  'biz_is_open': 1,\n",
       "  'biz_attributes': {'AcceptsInsurance': None,\n",
       "   'Alcohol': \"u'none'\",\n",
       "   'Ambience': \"{'romantic': False, 'intimate': False, 'touristy': False, 'hipster': False, 'divey': False, 'classy': False, 'trendy': False, 'upscale': False, 'casual': True}\",\n",
       "   'BYOB': None,\n",
       "   'BestNights': None,\n",
       "   'BikeParking': 'False',\n",
       "   'BusinessAcceptsBitcoin': None,\n",
       "   'BusinessAcceptsCreditCards': 'True',\n",
       "   'BusinessParking': \"{'garage': False, 'street': True, 'validated': False, 'lot': False, 'valet': False}\",\n",
       "   'ByAppointmentOnly': 'False',\n",
       "   'Caters': 'False',\n",
       "   'CoatCheck': None,\n",
       "   'Corkage': None,\n",
       "   'DogsAllowed': 'False',\n",
       "   'DriveThru': 'False',\n",
       "   'GoodForDancing': None,\n",
       "   'GoodForKids': 'True',\n",
       "   'GoodForMeal': None,\n",
       "   'HappyHour': None,\n",
       "   'HasTV': 'False',\n",
       "   'Music': None,\n",
       "   'NoiseLevel': \"u'average'\",\n",
       "   'OutdoorSeating': 'None',\n",
       "   'RestaurantsAttire': \"'casual'\",\n",
       "   'RestaurantsDelivery': 'None',\n",
       "   'RestaurantsGoodForGroups': 'True',\n",
       "   'RestaurantsPriceRange2': '2',\n",
       "   'RestaurantsReservations': 'False',\n",
       "   'RestaurantsTableService': None,\n",
       "   'RestaurantsTakeOut': 'True',\n",
       "   'Smoking': None,\n",
       "   'WheelchairAccessible': None,\n",
       "   'WiFi': \"'free'\"},\n",
       "  'biz_categories': ['Ice Cream & Frozen Yogurt',\n",
       "   'Coffee & Tea',\n",
       "   'Restaurants',\n",
       "   'Sandwiches',\n",
       "   'Food'],\n",
       "  'biz_hours': {'Friday': '8:0-0:0',\n",
       "   'Monday': '8:0-23:0',\n",
       "   'Saturday': '8:0-0:30',\n",
       "   'Sunday': '8:0-23:0',\n",
       "   'Thursday': '8:0-23:0',\n",
       "   'Tuesday': '8:0-23:0',\n",
       "   'Wednesday': '8:0-23:0'}},\n",
       " '9594faec-4e66-4b78-9c35-42c8b37a33cb': {'review_id': '4sGHeBRdn36yOX3KszhzCA',\n",
       "  'user_id': 'iGhGzpTg0c3J_tuTi9TOzQ',\n",
       "  'business_id': 'IDtLPgUrqorrpqSLdfMhZQ',\n",
       "  'review_stars': 5,\n",
       "  'useful': 1,\n",
       "  'funny': 1,\n",
       "  'cool': 1,\n",
       "  'date': '2018-07-28T19:12:02',\n",
       "  'biz_name': 'Helena Avenue Bakery',\n",
       "  'biz_address': '131 Anacapa St, Ste C',\n",
       "  'biz_city': 'Santa Barbara',\n",
       "  'biz_state': 'CA',\n",
       "  'biz_postal_code': '93101',\n",
       "  'biz_latitude': 34.4144445,\n",
       "  'biz_longitude': -119.6906718,\n",
       "  'biz_stars': 4.0,\n",
       "  'biz_review_count': 389,\n",
       "  'biz_is_open': 1,\n",
       "  'biz_attributes': {'AcceptsInsurance': None,\n",
       "   'Alcohol': \"u'none'\",\n",
       "   'Ambience': \"{'touristy': False, 'hipster': True, 'romantic': False, 'divey': False, 'intimate': False, 'trendy': True, 'upscale': False, 'classy': False, 'casual': True}\",\n",
       "   'BYOB': None,\n",
       "   'BestNights': None,\n",
       "   'BikeParking': 'True',\n",
       "   'BusinessAcceptsBitcoin': None,\n",
       "   'BusinessAcceptsCreditCards': 'True',\n",
       "   'BusinessParking': \"{'garage': False, 'street': True, 'validated': False, 'lot': False, 'valet': False}\",\n",
       "   'ByAppointmentOnly': None,\n",
       "   'Caters': 'True',\n",
       "   'CoatCheck': None,\n",
       "   'Corkage': None,\n",
       "   'DogsAllowed': 'True',\n",
       "   'DriveThru': None,\n",
       "   'GoodForDancing': None,\n",
       "   'GoodForKids': 'True',\n",
       "   'GoodForMeal': \"{'dessert': False, 'latenight': False, 'lunch': True, 'dinner': False, 'brunch': True, 'breakfast': True}\",\n",
       "   'HappyHour': 'False',\n",
       "   'HasTV': 'False',\n",
       "   'Music': None,\n",
       "   'NoiseLevel': \"u'average'\",\n",
       "   'OutdoorSeating': 'True',\n",
       "   'RestaurantsAttire': \"'casual'\",\n",
       "   'RestaurantsDelivery': 'None',\n",
       "   'RestaurantsGoodForGroups': 'True',\n",
       "   'RestaurantsPriceRange2': '2',\n",
       "   'RestaurantsReservations': 'False',\n",
       "   'RestaurantsTableService': 'False',\n",
       "   'RestaurantsTakeOut': 'True',\n",
       "   'Smoking': None,\n",
       "   'WheelchairAccessible': 'True',\n",
       "   'WiFi': \"u'no'\"},\n",
       "  'biz_categories': ['Food',\n",
       "   'Restaurants',\n",
       "   'Salad',\n",
       "   'Coffee & Tea',\n",
       "   'Breakfast & Brunch',\n",
       "   'Sandwiches',\n",
       "   'Bakeries'],\n",
       "  'biz_hours': {'Friday': '8:0-14:0',\n",
       "   'Monday': '0:0-0:0',\n",
       "   'Saturday': '8:0-14:0',\n",
       "   'Sunday': '8:0-14:0',\n",
       "   'Thursday': '8:0-14:0',\n",
       "   'Tuesday': '8:0-14:0',\n",
       "   'Wednesday': '8:0-14:0'}}}"
      ]
     },
     "metadata": {},
     "output_type": "display_data"
    }
   ],
   "source": [
    "question = \"where to find good cold brew coffee?\"\n",
    "response = query_engine.query(question)\n",
    "display_response(response, show_source=True, show_metadata=True, show_source_metadata=True)"
   ]
  },
  {
   "cell_type": "markdown",
   "id": "10000842-dc34-405a-b11d-61669692bb28",
   "metadata": {},
   "source": [
    "## Response Evaluation"
   ]
  },
  {
   "cell_type": "code",
   "execution_count": 48,
   "id": "36e70076-e76f-4dda-ada2-4bbfa376b7ea",
   "metadata": {},
   "outputs": [],
   "source": [
    "from src.run.eval import ResponseEvaluator"
   ]
  },
  {
   "cell_type": "code",
   "execution_count": 49,
   "id": "846c1382-83e0-4b18-812b-683281890783",
   "metadata": {},
   "outputs": [],
   "source": [
    "response_evaluator = ResponseEvaluator()"
   ]
  },
  {
   "cell_type": "markdown",
   "id": "68b50095-92ae-40b4-911b-3b46d2cd0cdb",
   "metadata": {},
   "source": [
    "### Synthetic"
   ]
  },
  {
   "cell_type": "code",
   "execution_count": 50,
   "id": "1e41f2e3-408a-422f-840d-e870fc77f1f8",
   "metadata": {
    "scrolled": true
   },
   "outputs": [
    {
     "name": "stderr",
     "output_type": "stream",
     "text": [
      "\u001b[32m2024-08-09 08:43:22.919\u001b[0m | \u001b[1mINFO    \u001b[0m | \u001b[36msrc.run.eval.response\u001b[0m:\u001b[36mgenerate_synthetic_dataset\u001b[0m:\u001b[36m39\u001b[0m - \u001b[1mSampling 20 documents for response evaluation...\u001b[0m\n",
      "\u001b[32m2024-08-09 08:43:22.936\u001b[0m | \u001b[1mINFO    \u001b[0m | \u001b[36msrc.run.eval.response\u001b[0m:\u001b[36mgenerate_synthetic_dataset\u001b[0m:\u001b[36m95\u001b[0m - \u001b[1mLoading existing synthetic response eval dataset at data/006_rerun with question respon/response_synthetic_eval_dataset.json...\u001b[0m\n"
     ]
    }
   ],
   "source": [
    "response_eval_documents, response_synthetic_eval_dataset = response_evaluator.generate_synthetic_dataset(cfg, documents)"
   ]
  },
  {
   "cell_type": "code",
   "execution_count": 51,
   "id": "dc890512-fffa-4a51-b0fc-06f14713df70",
   "metadata": {
    "scrolled": true
   },
   "outputs": [
    {
     "name": "stderr",
     "output_type": "stream",
     "text": [
      "Batch processing of predictions: 100%|███████████████████████████████████████████████████████████████████████████████████████████████████████████████████████████████████████████████████████████████| 10/10 [00:08<00:00,  1.23it/s]\n"
     ]
    }
   ],
   "source": [
    "response_synthetic_eval_prediction_dataset = await response_synthetic_eval_dataset.amake_predictions_with(\n",
    "    predictor=query_engine, batch_size=cfg.batch_size, show_progress=True\n",
    ")"
   ]
  },
  {
   "cell_type": "code",
   "execution_count": 52,
   "id": "66750873-a858-4ac1-8796-ffb7a3d83801",
   "metadata": {
    "scrolled": true
   },
   "outputs": [
    {
     "name": "stderr",
     "output_type": "stream",
     "text": [
      "100%|████████████████████████████████████████████████████████████████████████████████████████████████████████████████████████████████████████████████████████████████████████████████████████████████| 10/10 [00:37<00:00,  3.75s/it]\n"
     ]
    }
   ],
   "source": [
    "response_synthetic_mean_scores_df, response_synthetic_deep_eval_df = response_evaluator.evaluate_labelled_rag_dataset(\n",
    "    response_synthetic_eval_dataset,\n",
    "    response_synthetic_eval_prediction_dataset,\n",
    "    dataset_name=\"synthetic\",\n",
    "    judge_model=cfg.eval_cfg.response_eval_llm_model,\n",
    "    cache_dp=cfg.notebook_cache_dp\n",
    ")"
   ]
  },
  {
   "cell_type": "code",
   "execution_count": 53,
   "id": "e310c724-0ad9-487c-bf23-f5ae6669a6af",
   "metadata": {},
   "outputs": [
    {
     "data": {
      "text/html": [
       "<div>\n",
       "<style scoped>\n",
       "    .dataframe tbody tr th:only-of-type {\n",
       "        vertical-align: middle;\n",
       "    }\n",
       "\n",
       "    .dataframe tbody tr th {\n",
       "        vertical-align: top;\n",
       "    }\n",
       "\n",
       "    .dataframe thead th {\n",
       "        text-align: right;\n",
       "    }\n",
       "</style>\n",
       "<table border=\"1\" class=\"dataframe\">\n",
       "  <thead>\n",
       "    <tr style=\"text-align: right;\">\n",
       "      <th>rag</th>\n",
       "      <th>base_rag</th>\n",
       "    </tr>\n",
       "    <tr>\n",
       "      <th>metrics</th>\n",
       "      <th></th>\n",
       "    </tr>\n",
       "  </thead>\n",
       "  <tbody>\n",
       "    <tr>\n",
       "      <th>mean_correctness_score</th>\n",
       "      <td>3.0</td>\n",
       "    </tr>\n",
       "    <tr>\n",
       "      <th>mean_relevancy_score</th>\n",
       "      <td>0.8</td>\n",
       "    </tr>\n",
       "    <tr>\n",
       "      <th>mean_faithfulness_score</th>\n",
       "      <td>0.8</td>\n",
       "    </tr>\n",
       "  </tbody>\n",
       "</table>\n",
       "</div>"
      ],
      "text/plain": [
       "rag                      base_rag\n",
       "metrics                          \n",
       "mean_correctness_score        3.0\n",
       "mean_relevancy_score          0.8\n",
       "mean_faithfulness_score       0.8"
      ]
     },
     "execution_count": 53,
     "metadata": {},
     "output_type": "execute_result"
    }
   ],
   "source": [
    "response_synthetic_mean_scores_df"
   ]
  },
  {
   "cell_type": "code",
   "execution_count": 54,
   "id": "3cbd0ba7-7d19-423d-86cf-37534d361215",
   "metadata": {
    "scrolled": true
   },
   "outputs": [
    {
     "data": {
      "text/html": [
       "<div>\n",
       "<style scoped>\n",
       "    .dataframe tbody tr th:only-of-type {\n",
       "        vertical-align: middle;\n",
       "    }\n",
       "\n",
       "    .dataframe tbody tr th {\n",
       "        vertical-align: top;\n",
       "    }\n",
       "\n",
       "    .dataframe thead th {\n",
       "        text-align: right;\n",
       "    }\n",
       "</style>\n",
       "<table border=\"1\" class=\"dataframe\">\n",
       "  <thead>\n",
       "    <tr style=\"text-align: right;\">\n",
       "      <th></th>\n",
       "      <th>query</th>\n",
       "      <th>answer</th>\n",
       "      <th>relevancy_score</th>\n",
       "      <th>correctness_score</th>\n",
       "      <th>faithfulness_score</th>\n",
       "      <th>contexts</th>\n",
       "    </tr>\n",
       "  </thead>\n",
       "  <tbody>\n",
       "    <tr>\n",
       "      <th>0</th>\n",
       "      <td>What are the best Japanese restaurants in Nash...</td>\n",
       "      <td>\\n\\nIt seems that The Green Pheasant is a stan...</td>\n",
       "      <td>1.0</td>\n",
       "      <td>4.0</td>\n",
       "      <td>1.0</td>\n",
       "      <td>[Best new restaurant in Nashville, hands down....</td>\n",
       "    </tr>\n",
       "    <tr>\n",
       "      <th>1</th>\n",
       "      <td>What are the customer service experiences at R...</td>\n",
       "      <td>\\n\\nIt appears that the customer service exper...</td>\n",
       "      <td>1.0</td>\n",
       "      <td>3.0</td>\n",
       "      <td>1.0</td>\n",
       "      <td>[I was so disappointed by this Macaroni Grill!...</td>\n",
       "    </tr>\n",
       "    <tr>\n",
       "      <th>2</th>\n",
       "      <td>What are the best wine bars in New Orleans?</td>\n",
       "      <td>\\nIt seems that Copper Vine is a highly-recomm...</td>\n",
       "      <td>1.0</td>\n",
       "      <td>4.0</td>\n",
       "      <td>0.0</td>\n",
       "      <td>[Wow!!! One of my top three new favorite place...</td>\n",
       "    </tr>\n",
       "    <tr>\n",
       "      <th>3</th>\n",
       "      <td>What are the best dishes to try at Copper Vine...</td>\n",
       "      <td>\\n\\nBased on the rave reviews, it seems that t...</td>\n",
       "      <td>1.0</td>\n",
       "      <td>3.0</td>\n",
       "      <td>1.0</td>\n",
       "      <td>[The food, the atmosphere, and the service was...</td>\n",
       "    </tr>\n",
       "    <tr>\n",
       "      <th>4</th>\n",
       "      <td>What unique dessert options are available at M...</td>\n",
       "      <td>\\n\\nIt seems that Mike's Ice Cream in Nashvill...</td>\n",
       "      <td>0.0</td>\n",
       "      <td>3.0</td>\n",
       "      <td>0.0</td>\n",
       "      <td>[If you're looking for creamy ice cream to com...</td>\n",
       "    </tr>\n",
       "    <tr>\n",
       "      <th>5</th>\n",
       "      <td>What specialty drinks are available at ROAST C...</td>\n",
       "      <td>\\n\\nThe menu at ROAST Coffeehouse and Wine Bar...</td>\n",
       "      <td>1.0</td>\n",
       "      <td>3.0</td>\n",
       "      <td>1.0</td>\n",
       "      <td>[Hope everybody had a nice Valentine's Day yes...</td>\n",
       "    </tr>\n",
       "    <tr>\n",
       "      <th>6</th>\n",
       "      <td>What are the best places to eat near a sports ...</td>\n",
       "      <td>\\n\\nIf you're looking for a great dining exper...</td>\n",
       "      <td>1.0</td>\n",
       "      <td>2.0</td>\n",
       "      <td>1.0</td>\n",
       "      <td>[This is the best sports bar and restaurant yo...</td>\n",
       "    </tr>\n",
       "    <tr>\n",
       "      <th>7</th>\n",
       "      <td>What are the happy hour deals at Bar One in Ph...</td>\n",
       "      <td>\\n\\nDecent discounts on drinks, and a fairly v...</td>\n",
       "      <td>1.0</td>\n",
       "      <td>2.0</td>\n",
       "      <td>1.0</td>\n",
       "      <td>[Vaguely remember coming here when the bar wen...</td>\n",
       "    </tr>\n",
       "    <tr>\n",
       "      <th>8</th>\n",
       "      <td>What are the best sports bars in Indianapolis?</td>\n",
       "      <td>\\n\\nIt seems that Twin Peaks has multiple loca...</td>\n",
       "      <td>0.0</td>\n",
       "      <td>2.0</td>\n",
       "      <td>1.0</td>\n",
       "      <td>[One of the best sports bars we've been too an...</td>\n",
       "    </tr>\n",
       "    <tr>\n",
       "      <th>9</th>\n",
       "      <td>What are the best nightlife spots in New Orleans?</td>\n",
       "      <td>\\nNew Orleans is a vibrant city with a rich ni...</td>\n",
       "      <td>1.0</td>\n",
       "      <td>4.0</td>\n",
       "      <td>1.0</td>\n",
       "      <td>[New and cool spot in downtown New Orleans!\\nG...</td>\n",
       "    </tr>\n",
       "  </tbody>\n",
       "</table>\n",
       "</div>"
      ],
      "text/plain": [
       "                                               query  \\\n",
       "0  What are the best Japanese restaurants in Nash...   \n",
       "1  What are the customer service experiences at R...   \n",
       "2        What are the best wine bars in New Orleans?   \n",
       "3  What are the best dishes to try at Copper Vine...   \n",
       "4  What unique dessert options are available at M...   \n",
       "5  What specialty drinks are available at ROAST C...   \n",
       "6  What are the best places to eat near a sports ...   \n",
       "7  What are the happy hour deals at Bar One in Ph...   \n",
       "8     What are the best sports bars in Indianapolis?   \n",
       "9  What are the best nightlife spots in New Orleans?   \n",
       "\n",
       "                                              answer  relevancy_score  \\\n",
       "0  \\n\\nIt seems that The Green Pheasant is a stan...              1.0   \n",
       "1  \\n\\nIt appears that the customer service exper...              1.0   \n",
       "2  \\nIt seems that Copper Vine is a highly-recomm...              1.0   \n",
       "3  \\n\\nBased on the rave reviews, it seems that t...              1.0   \n",
       "4  \\n\\nIt seems that Mike's Ice Cream in Nashvill...              0.0   \n",
       "5  \\n\\nThe menu at ROAST Coffeehouse and Wine Bar...              1.0   \n",
       "6  \\n\\nIf you're looking for a great dining exper...              1.0   \n",
       "7  \\n\\nDecent discounts on drinks, and a fairly v...              1.0   \n",
       "8  \\n\\nIt seems that Twin Peaks has multiple loca...              0.0   \n",
       "9  \\nNew Orleans is a vibrant city with a rich ni...              1.0   \n",
       "\n",
       "   correctness_score  faithfulness_score  \\\n",
       "0                4.0                 1.0   \n",
       "1                3.0                 1.0   \n",
       "2                4.0                 0.0   \n",
       "3                3.0                 1.0   \n",
       "4                3.0                 0.0   \n",
       "5                3.0                 1.0   \n",
       "6                2.0                 1.0   \n",
       "7                2.0                 1.0   \n",
       "8                2.0                 1.0   \n",
       "9                4.0                 1.0   \n",
       "\n",
       "                                            contexts  \n",
       "0  [Best new restaurant in Nashville, hands down....  \n",
       "1  [I was so disappointed by this Macaroni Grill!...  \n",
       "2  [Wow!!! One of my top three new favorite place...  \n",
       "3  [The food, the atmosphere, and the service was...  \n",
       "4  [If you're looking for creamy ice cream to com...  \n",
       "5  [Hope everybody had a nice Valentine's Day yes...  \n",
       "6  [This is the best sports bar and restaurant yo...  \n",
       "7  [Vaguely remember coming here when the bar wen...  \n",
       "8  [One of the best sports bars we've been too an...  \n",
       "9  [New and cool spot in downtown New Orleans!\\nG...  "
      ]
     },
     "execution_count": 54,
     "metadata": {},
     "output_type": "execute_result"
    }
   ],
   "source": [
    "response_synthetic_deep_eval_df"
   ]
  },
  {
   "cell_type": "markdown",
   "id": "d27c4b25-7ac9-438c-9c01-9a36f2fd51c3",
   "metadata": {},
   "source": [
    "#### Error Analysis"
   ]
  },
  {
   "cell_type": "code",
   "execution_count": 55,
   "id": "46ea4c5b-6090-42a5-807f-deeca33adeb5",
   "metadata": {},
   "outputs": [],
   "source": [
    "response_synthetic_eval_dataset_dict = dict()\n",
    "for example in response_synthetic_eval_dataset.examples:\n",
    "    response_synthetic_eval_dataset_dict[example.query] = {\n",
    "        \"reference_answer\": example.reference_answer,\n",
    "        \"reference_contexts\": example.reference_contexts,\n",
    "    }"
   ]
  },
  {
   "cell_type": "code",
   "execution_count": 56,
   "id": "077c58de-0b57-4987-8974-ab1383d5f82b",
   "metadata": {
    "scrolled": true
   },
   "outputs": [
    {
     "data": {
      "text/html": [
       "<div>\n",
       "<style scoped>\n",
       "    .dataframe tbody tr th:only-of-type {\n",
       "        vertical-align: middle;\n",
       "    }\n",
       "\n",
       "    .dataframe tbody tr th {\n",
       "        vertical-align: top;\n",
       "    }\n",
       "\n",
       "    .dataframe thead th {\n",
       "        text-align: right;\n",
       "    }\n",
       "</style>\n",
       "<table border=\"1\" class=\"dataframe\">\n",
       "  <thead>\n",
       "    <tr style=\"text-align: right;\">\n",
       "      <th></th>\n",
       "      <th>query</th>\n",
       "      <th>answer</th>\n",
       "      <th>relevancy_score</th>\n",
       "      <th>correctness_score</th>\n",
       "      <th>faithfulness_score</th>\n",
       "      <th>contexts</th>\n",
       "    </tr>\n",
       "  </thead>\n",
       "  <tbody>\n",
       "    <tr>\n",
       "      <th>8</th>\n",
       "      <td>What are the best sports bars in Indianapolis?</td>\n",
       "      <td>\\n\\nIt seems that Twin Peaks has multiple loca...</td>\n",
       "      <td>0.0</td>\n",
       "      <td>2.0</td>\n",
       "      <td>1.0</td>\n",
       "      <td>[One of the best sports bars we've been too an...</td>\n",
       "    </tr>\n",
       "    <tr>\n",
       "      <th>4</th>\n",
       "      <td>What unique dessert options are available at M...</td>\n",
       "      <td>\\n\\nIt seems that Mike's Ice Cream in Nashvill...</td>\n",
       "      <td>0.0</td>\n",
       "      <td>3.0</td>\n",
       "      <td>0.0</td>\n",
       "      <td>[If you're looking for creamy ice cream to com...</td>\n",
       "    </tr>\n",
       "    <tr>\n",
       "      <th>6</th>\n",
       "      <td>What are the best places to eat near a sports ...</td>\n",
       "      <td>\\n\\nIf you're looking for a great dining exper...</td>\n",
       "      <td>1.0</td>\n",
       "      <td>2.0</td>\n",
       "      <td>1.0</td>\n",
       "      <td>[This is the best sports bar and restaurant yo...</td>\n",
       "    </tr>\n",
       "    <tr>\n",
       "      <th>7</th>\n",
       "      <td>What are the happy hour deals at Bar One in Ph...</td>\n",
       "      <td>\\n\\nDecent discounts on drinks, and a fairly v...</td>\n",
       "      <td>1.0</td>\n",
       "      <td>2.0</td>\n",
       "      <td>1.0</td>\n",
       "      <td>[Vaguely remember coming here when the bar wen...</td>\n",
       "    </tr>\n",
       "    <tr>\n",
       "      <th>1</th>\n",
       "      <td>What are the customer service experiences at R...</td>\n",
       "      <td>\\n\\nIt appears that the customer service exper...</td>\n",
       "      <td>1.0</td>\n",
       "      <td>3.0</td>\n",
       "      <td>1.0</td>\n",
       "      <td>[I was so disappointed by this Macaroni Grill!...</td>\n",
       "    </tr>\n",
       "    <tr>\n",
       "      <th>3</th>\n",
       "      <td>What are the best dishes to try at Copper Vine...</td>\n",
       "      <td>\\n\\nBased on the rave reviews, it seems that t...</td>\n",
       "      <td>1.0</td>\n",
       "      <td>3.0</td>\n",
       "      <td>1.0</td>\n",
       "      <td>[The food, the atmosphere, and the service was...</td>\n",
       "    </tr>\n",
       "    <tr>\n",
       "      <th>5</th>\n",
       "      <td>What specialty drinks are available at ROAST C...</td>\n",
       "      <td>\\n\\nThe menu at ROAST Coffeehouse and Wine Bar...</td>\n",
       "      <td>1.0</td>\n",
       "      <td>3.0</td>\n",
       "      <td>1.0</td>\n",
       "      <td>[Hope everybody had a nice Valentine's Day yes...</td>\n",
       "    </tr>\n",
       "    <tr>\n",
       "      <th>2</th>\n",
       "      <td>What are the best wine bars in New Orleans?</td>\n",
       "      <td>\\nIt seems that Copper Vine is a highly-recomm...</td>\n",
       "      <td>1.0</td>\n",
       "      <td>4.0</td>\n",
       "      <td>0.0</td>\n",
       "      <td>[Wow!!! One of my top three new favorite place...</td>\n",
       "    </tr>\n",
       "    <tr>\n",
       "      <th>0</th>\n",
       "      <td>What are the best Japanese restaurants in Nash...</td>\n",
       "      <td>\\n\\nIt seems that The Green Pheasant is a stan...</td>\n",
       "      <td>1.0</td>\n",
       "      <td>4.0</td>\n",
       "      <td>1.0</td>\n",
       "      <td>[Best new restaurant in Nashville, hands down....</td>\n",
       "    </tr>\n",
       "    <tr>\n",
       "      <th>9</th>\n",
       "      <td>What are the best nightlife spots in New Orleans?</td>\n",
       "      <td>\\nNew Orleans is a vibrant city with a rich ni...</td>\n",
       "      <td>1.0</td>\n",
       "      <td>4.0</td>\n",
       "      <td>1.0</td>\n",
       "      <td>[New and cool spot in downtown New Orleans!\\nG...</td>\n",
       "    </tr>\n",
       "  </tbody>\n",
       "</table>\n",
       "</div>"
      ],
      "text/plain": [
       "                                               query  \\\n",
       "8     What are the best sports bars in Indianapolis?   \n",
       "4  What unique dessert options are available at M...   \n",
       "6  What are the best places to eat near a sports ...   \n",
       "7  What are the happy hour deals at Bar One in Ph...   \n",
       "1  What are the customer service experiences at R...   \n",
       "3  What are the best dishes to try at Copper Vine...   \n",
       "5  What specialty drinks are available at ROAST C...   \n",
       "2        What are the best wine bars in New Orleans?   \n",
       "0  What are the best Japanese restaurants in Nash...   \n",
       "9  What are the best nightlife spots in New Orleans?   \n",
       "\n",
       "                                              answer  relevancy_score  \\\n",
       "8  \\n\\nIt seems that Twin Peaks has multiple loca...              0.0   \n",
       "4  \\n\\nIt seems that Mike's Ice Cream in Nashvill...              0.0   \n",
       "6  \\n\\nIf you're looking for a great dining exper...              1.0   \n",
       "7  \\n\\nDecent discounts on drinks, and a fairly v...              1.0   \n",
       "1  \\n\\nIt appears that the customer service exper...              1.0   \n",
       "3  \\n\\nBased on the rave reviews, it seems that t...              1.0   \n",
       "5  \\n\\nThe menu at ROAST Coffeehouse and Wine Bar...              1.0   \n",
       "2  \\nIt seems that Copper Vine is a highly-recomm...              1.0   \n",
       "0  \\n\\nIt seems that The Green Pheasant is a stan...              1.0   \n",
       "9  \\nNew Orleans is a vibrant city with a rich ni...              1.0   \n",
       "\n",
       "   correctness_score  faithfulness_score  \\\n",
       "8                2.0                 1.0   \n",
       "4                3.0                 0.0   \n",
       "6                2.0                 1.0   \n",
       "7                2.0                 1.0   \n",
       "1                3.0                 1.0   \n",
       "3                3.0                 1.0   \n",
       "5                3.0                 1.0   \n",
       "2                4.0                 0.0   \n",
       "0                4.0                 1.0   \n",
       "9                4.0                 1.0   \n",
       "\n",
       "                                            contexts  \n",
       "8  [One of the best sports bars we've been too an...  \n",
       "4  [If you're looking for creamy ice cream to com...  \n",
       "6  [This is the best sports bar and restaurant yo...  \n",
       "7  [Vaguely remember coming here when the bar wen...  \n",
       "1  [I was so disappointed by this Macaroni Grill!...  \n",
       "3  [The food, the atmosphere, and the service was...  \n",
       "5  [Hope everybody had a nice Valentine's Day yes...  \n",
       "2  [Wow!!! One of my top three new favorite place...  \n",
       "0  [Best new restaurant in Nashville, hands down....  \n",
       "9  [New and cool spot in downtown New Orleans!\\nG...  "
      ]
     },
     "execution_count": 56,
     "metadata": {},
     "output_type": "execute_result"
    }
   ],
   "source": [
    "response_synthetic_deep_eval_df.sort_values(['relevancy_score', 'correctness_score', 'faithfulness_score'])"
   ]
  },
  {
   "cell_type": "code",
   "execution_count": 57,
   "id": "7b90ac3d-24c0-43af-a199-44a16683f986",
   "metadata": {
    "scrolled": true
   },
   "outputs": [
    {
     "name": "stdout",
     "output_type": "stream",
     "text": [
      "\n",
      "\n",
      "==============Error #1===============\n",
      "\n",
      "\n",
      "Query:\n",
      "What are the best sports bars in Indianapolis?\n",
      "\n",
      "Context:\n",
      "One of the best sports bars we've been too and always go to one if they have one in the town we are in\n",
      "\n",
      "I'm a big sports bar guy and a sports bar food guy and don't expect a sports bar to be 5 star dining. Let me answer a question that people ask me when I said I ate there. \"Is it okay to bring your wife and kids there to watch a game?\" The servers do wear low cut shirts and shorts, but nothing that was any different than other themed sports bars. When I was there, there were groups of women together and also couples there. \n",
      "\n",
      "Typical bar food but good layout for watching sports.\n",
      "\n",
      "Another \"sports bar\" that can't figure out what it is: a sports bar (it has gobs of TVS with sundry sports playing);  a horrible \"music\" bar (indeed horrible \"music\" was playing so loudly that you couldn't focus on the cold beer, sports, or girls); or a bootie bar (several of the waitresses were more interested in working the Customers, than waitressing. Several were sitting around jabbering. \n",
      "\n",
      "Best sports bar with amazingly good food. Ice cold beer and huge beer selection. \n",
      "\n",
      "Answer:\n",
      "\n",
      "\n",
      "It seems that Twin Peaks has multiple locations in Indianapolis, and one reviewer mentioned that it's one of the best sports bars they've been to. However, another reviewer had a negative experience, mentioning that it's more focused on being a \"bootie bar\" than a sports bar. \n",
      "\n",
      "If you're looking for a top-notch sports bar experience in Indianapolis, you might want to consider visiting a different establishment.\n",
      "\n",
      "\n",
      "Sources:\n",
      "- [None](None)\n",
      "\n",
      "\n",
      "\n",
      "\n",
      "\n",
      "#### Referenced Paragraphs\n",
      "Article: **None**\n",
      "\n",
      "> ...One of the best sports bars we've been too and always go to one if they have one in the town we are in...\n",
      "\n",
      "> ...I'm a big sports bar guy and a sports bar food guy and don't expect a sports bar to be 5 star dining. Let me answer a question that people ask me when I said I ate there. \"Is it okay to bring your wife and kids there to watch a game?\" The servers do wear low cut shirts and shorts, but nothing that was any different than other themed sports bars. When I was there, there were groups of women together and also couples there. ...\n",
      "\n",
      "\n",
      "    \n",
      "\n",
      "----\n",
      "\n",
      "Expected Answer:\n",
      "One of the best sports bars in Indianapolis is Twin Peaks, located at 6880 E 82nd St. It is known for its great atmosphere, friendly staff, and vibrant ambience. However, it's worth noting that some guests have had negative experiences with management, specifically with a manager named Paul. Despite this, the overall experience at Twin Peaks seems to be positive, making it a popular choice for sports fans.\n",
      "\n",
      "Expected Contexts:\n",
      "['I love this place for the atmosphere and the ambience. Lots of good people and the girls are always friendly. The manager Paul on the other hand was rude and disrespectful to myself my friends and other guests. I am a GM myself and I would never talk to my guests or my employees in any type of manor. I will give a good review but Paul gets a 1 star.']\n",
      "\n",
      "\n",
      "\n",
      "==============Error #2===============\n",
      "\n",
      "\n",
      "Query:\n",
      "What unique dessert options are available at Mike's Ice Cream in Nashville?\n",
      "\n",
      "Context:\n",
      "If you're looking for creamy ice cream to combat the humid, hot weather, come to Mike's Ice Cream. Such a refreshing and much-needed dessert to munch on during our exploration of Downtown Nashville after dinner.\n",
      "\n",
      "Sadly, they didn't have the containers for sundaes, so we weren't able to try their banana split and also no samples available to test different ice cream flavors. The inside wasn't terribly packed with people, but we didn't feel comfortable sticking around once we got our ice cream.\n",
      "\n",
      "+ PARKING: Since Downtown Nashville was pretty much dead due to COVID-19, it was extremely easy to find STREET PARKING right across the street from Mike's.\n",
      "\n",
      "+ FOOD: The ice cream is all hand-made here at Mike's and they offer everything from ice cream scoops on a cone to shakes to ice cream sodas. Their flavors aren't really as wacky as I've seen from some artisan ice cream shops, but interesting enough to put a twist on classic flavors.\n",
      "\n",
      "We went with your classic STRAWBERRY ice cream and a new-to-us TENNESSEE FUDGE ice cream scoop in a cup. The strawberry was so good! This isn't just your basic store-bought strawberry pint variety. The strawberry ice cream at Mike's comes with generous chunks of strawberry and I swear our ice cream took forever to actually melt. But that's maybe because we gobbled up all our ice cream too fast. \n",
      "\n",
      "You have to go to Mike's if you're in Nashville! The banana pudding ice cream is so delicious. \n",
      "\n",
      "After visiting Mike's Ice Cream in Nashville, I am now saddened that my favorite spot is across the country. The home made Vanilla instantly reminded me of my youth when my dad used to make ice cream in the summer. If you are in Nashville, I highly recommend Mike's.\n",
      "\n",
      "First time having ice cream in Nashville and Mikes was delicious! I got the homemade cookie dough ice cream in a waffle cone. \n",
      "\n",
      "True Life: I'm addicted to ice cream. \n",
      "\n",
      "When I saw the unpretentious and unassuming Mike's, I had to try it during my Nashville visit. They have plenty of unique flavors and allow multiple samples. \n",
      "\n",
      "\n",
      "\n",
      "Answer:\n",
      "\n",
      "\n",
      "It seems that Mike's Ice Cream in Nashville offers a variety of unique dessert options, including sundaes, banana splits, and ice cream sodas. They also have a wide range of hand-made ice cream flavors, such as strawberry, Tennessee fudge, banana pudding, and homemade cookie dough, among others. Additionally, they allow customers to sample different flavors, which can be a great way to discover new and exciting options.\n",
      "\n",
      "\n",
      "Sources:\n",
      "- [None](None)\n",
      "\n",
      "\n",
      "\n",
      "\n",
      "\n",
      "#### Referenced Paragraphs\n",
      "Article: **None**\n",
      "\n",
      "> ...If you're looking for creamy ice cream to combat the humid, hot weather, come to Mike's Ice Cream. Such a refreshing and much-needed dessert to munch on during our exploration of Downtown Nashville after dinner.\n",
      "\n",
      "Sadly, they didn't have the containers for sundaes, so we weren't able to try their banana split and also no samples available to test different ice cream flavors. The inside wasn't terribly packed with people, but we didn't feel comfortable sticking around once we got our ice cream.\n",
      "\n",
      "+ PARKING: Since Downtown Nashville was pretty much dead due to COVID-19, it was extremely easy to find STREET PARKING right across the street from Mike's.\n",
      "\n",
      "+ FOOD: The ice cream is all hand-made here at Mike's and they offer everything from ice cream scoops on a cone to shakes to ice cream sodas. Their flavors aren't really as wacky as I've seen from some artisan ice cream shops, but interesting enough to put a twist on classic flavors.\n",
      "\n",
      "We went with your classic STRAWBERRY ice cream and a new-t...\n",
      "\n",
      "> ...You have to go to Mike's if you're in Nashville! The banana pudding ice cream is so delicious. ...\n",
      "\n",
      "> ...After visiting Mike's Ice Cream in Nashville, I am now saddened that my favorite spot is across the country. The home made Vanilla instantly reminded me of my youth when my dad used to make ice cream in the summer. If you are in Nashville, I highly recommend Mike's....\n",
      "\n",
      "> ...First time having ice cream in Nashville and Mikes was delicious! I got the homemade cookie dough ice cream in a waffle cone. ...\n",
      "\n",
      "> ...True Life: I'm addicted to ice cream. \n",
      "\n",
      "When I saw the unpretentious and unassuming Mike's, I had to try it during my Nashville visit. They have plenty of unique flavors and allow multiple samples. \n",
      "\n",
      "...\n",
      "\n",
      "\n",
      "    \n",
      "\n",
      "----\n",
      "\n",
      "Expected Answer:\n",
      "At Mike's Ice Cream in Nashville, one unique dessert option available is their chocolate chip cookie cones. This innovative twist on the traditional ice cream cone allows customers to enjoy their ice cream served in a cone made of cookie, adding a fun and different experience to the classic treat. Additionally, they offer a variety of homemade ice cream flavors, including coconut, which can be sampled before making a selection.\n",
      "\n",
      "Expected Contexts:\n",
      "[\"Who doesn't like homemade ice cream!? They have lots of flavors to choose from and you can sample them all. The thing I was most excited for, was their chocolate chip cookie cones. I have never seen these before and I was very curious to try them. \\n\\nI got the coconut ice cream, bc coconut is my favorite. Theirs was pretty good and I loved the crunchy texture of coconut flakes throughout the ice cream. I ordered mine in the cookie cone. I can imagine making a cookie cone would be complicated, you have to make it hard enough to hold ice cream and tight enough to not drip. The cookie cone was a little hard to bite and I did not particularly care for the flavor. I wouldn't not get it again, but it was fun to give it a try! I would definitely come back for more of that coconut ice cream!\"]\n",
      "\n"
     ]
    }
   ],
   "source": [
    "response_synthetic_eval_irrelevance_df = (\n",
    "    response_synthetic_deep_eval_df\n",
    "    .loc[lambda df: df['relevancy_score'].lt(1)]\n",
    "    .sort_values(['relevancy_score', 'correctness_score', 'faithfulness_score'])\n",
    ")\n",
    "\n",
    "for i, row in response_synthetic_eval_irrelevance_df.reset_index(drop=True).iterrows():\n",
    "    print(f\"\\n\\n==============Error #{i+1}===============\\n\\n\")\n",
    "    print(f\"Query:\\n{row.query}\\n\")\n",
    "    contexts = '\\n\\n'.join(row.contexts)\n",
    "    print(f\"Context:\\n{contexts}\\n\")\n",
    "    print(f\"Answer:\\n{row.answer}\\n----\\n\")\n",
    "    expected = response_synthetic_eval_dataset_dict.get(row.query)\n",
    "    if not expected:\n",
    "        logger.error(f\"Could not find query {row.query} in synthetic_response_eval_dataset_dict!\")\n",
    "        continue\n",
    "    expected_answer = expected['reference_answer']\n",
    "    print(f\"Expected Answer:\\n{expected_answer}\\n\")\n",
    "    expected_contexts = expected['reference_contexts']\n",
    "    print(f\"Expected Contexts:\\n{expected_contexts}\\n\")"
   ]
  },
  {
   "cell_type": "markdown",
   "id": "12498831-3455-4358-88ea-742d714f50a6",
   "metadata": {},
   "source": [
    "### Manually Curated\n",
    "Ref: https://docs.llamaindex.ai/en/stable/examples/llama_dataset/ragdataset_submission_template/#1c-creating-a-labelledragdataset-from-scratch-with-manually-constructed-examples"
   ]
  },
  {
   "cell_type": "code",
   "execution_count": 58,
   "id": "3511b5d5-a250-47fb-8701-ad6fb374ef07",
   "metadata": {},
   "outputs": [
    {
     "name": "stderr",
     "output_type": "stream",
     "text": [
      "\u001b[32m2024-08-09 08:48:29.347\u001b[0m | \u001b[1mINFO    \u001b[0m | \u001b[36msrc.run.eval.response\u001b[0m:\u001b[36mgenerate_curated_dataset\u001b[0m:\u001b[36m124\u001b[0m - \u001b[1mPersisting curated response eval dataset at data/007_bm25_standalone/response_curated_eval_dataset.json...\u001b[0m\n"
     ]
    }
   ],
   "source": [
    "response_curated_eval_dataset = response_evaluator.generate_curated_dataset(cfg)"
   ]
  },
  {
   "cell_type": "code",
   "execution_count": 59,
   "id": "10ec5ccc-48c7-4df5-b5bf-dc3d7c9529fb",
   "metadata": {
    "scrolled": true
   },
   "outputs": [
    {
     "name": "stderr",
     "output_type": "stream",
     "text": [
      "Batch processing of predictions: 100%|█████████████████████████████████████████████████████████████████████████████████████████████████████████████████████████████████████████████████████████████████| 1/1 [00:02<00:00,  2.30s/it]\n"
     ]
    }
   ],
   "source": [
    "response_curated_eval_prediction_dataset = await response_curated_eval_dataset.amake_predictions_with(\n",
    "    predictor=query_engine, batch_size=cfg.batch_size, show_progress=True\n",
    ")"
   ]
  },
  {
   "cell_type": "code",
   "execution_count": 60,
   "id": "96f8d9e8-9dc7-460e-b9c3-2371e5a3822d",
   "metadata": {
    "scrolled": true
   },
   "outputs": [
    {
     "name": "stderr",
     "output_type": "stream",
     "text": [
      "100%|██████████████████████████████████████████████████████████████████████████████████████████████████████████████████████████████████████████████████████████████████████████████████████████████████| 1/1 [00:29<00:00, 29.09s/it]\n"
     ]
    }
   ],
   "source": [
    "response_curated_mean_scores_df, response_curated_deep_eval_df = response_evaluator.evaluate_labelled_rag_dataset(\n",
    "    response_curated_eval_dataset,\n",
    "    response_curated_eval_prediction_dataset,\n",
    "    dataset_name=\"curated\",\n",
    "    judge_model=cfg.eval_cfg.response_eval_llm_model,\n",
    "    cache_dp=cfg.notebook_cache_dp\n",
    ")"
   ]
  },
  {
   "cell_type": "code",
   "execution_count": 61,
   "id": "9f9720d7-1070-431e-b4ae-628304185071",
   "metadata": {},
   "outputs": [
    {
     "data": {
      "text/html": [
       "<div>\n",
       "<style scoped>\n",
       "    .dataframe tbody tr th:only-of-type {\n",
       "        vertical-align: middle;\n",
       "    }\n",
       "\n",
       "    .dataframe tbody tr th {\n",
       "        vertical-align: top;\n",
       "    }\n",
       "\n",
       "    .dataframe thead th {\n",
       "        text-align: right;\n",
       "    }\n",
       "</style>\n",
       "<table border=\"1\" class=\"dataframe\">\n",
       "  <thead>\n",
       "    <tr style=\"text-align: right;\">\n",
       "      <th>rag</th>\n",
       "      <th>base_rag</th>\n",
       "    </tr>\n",
       "    <tr>\n",
       "      <th>metrics</th>\n",
       "      <th></th>\n",
       "    </tr>\n",
       "  </thead>\n",
       "  <tbody>\n",
       "    <tr>\n",
       "      <th>mean_correctness_score</th>\n",
       "      <td>2.0</td>\n",
       "    </tr>\n",
       "    <tr>\n",
       "      <th>mean_relevancy_score</th>\n",
       "      <td>1.0</td>\n",
       "    </tr>\n",
       "    <tr>\n",
       "      <th>mean_faithfulness_score</th>\n",
       "      <td>1.0</td>\n",
       "    </tr>\n",
       "  </tbody>\n",
       "</table>\n",
       "</div>"
      ],
      "text/plain": [
       "rag                      base_rag\n",
       "metrics                          \n",
       "mean_correctness_score        2.0\n",
       "mean_relevancy_score          1.0\n",
       "mean_faithfulness_score       1.0"
      ]
     },
     "execution_count": 61,
     "metadata": {},
     "output_type": "execute_result"
    }
   ],
   "source": [
    "response_curated_mean_scores_df"
   ]
  },
  {
   "cell_type": "code",
   "execution_count": 62,
   "id": "f23219c5-f207-4f3f-98d3-ac7860c65e89",
   "metadata": {},
   "outputs": [
    {
     "data": {
      "text/html": [
       "<div>\n",
       "<style scoped>\n",
       "    .dataframe tbody tr th:only-of-type {\n",
       "        vertical-align: middle;\n",
       "    }\n",
       "\n",
       "    .dataframe tbody tr th {\n",
       "        vertical-align: top;\n",
       "    }\n",
       "\n",
       "    .dataframe thead th {\n",
       "        text-align: right;\n",
       "    }\n",
       "</style>\n",
       "<table border=\"1\" class=\"dataframe\">\n",
       "  <thead>\n",
       "    <tr style=\"text-align: right;\">\n",
       "      <th></th>\n",
       "      <th>query</th>\n",
       "      <th>answer</th>\n",
       "      <th>relevancy_score</th>\n",
       "      <th>correctness_score</th>\n",
       "      <th>faithfulness_score</th>\n",
       "      <th>contexts</th>\n",
       "    </tr>\n",
       "  </thead>\n",
       "  <tbody>\n",
       "    <tr>\n",
       "      <th>0</th>\n",
       "      <td>What are the recommended restaurants nearby Sa...</td>\n",
       "      <td>\\nThe Funk Zone area, where this bakery is loc...</td>\n",
       "      <td>1.0</td>\n",
       "      <td>2.0</td>\n",
       "      <td>1.0</td>\n",
       "      <td>[Finally some good food in downtown Santa Barb...</td>\n",
       "    </tr>\n",
       "  </tbody>\n",
       "</table>\n",
       "</div>"
      ],
      "text/plain": [
       "                                               query  \\\n",
       "0  What are the recommended restaurants nearby Sa...   \n",
       "\n",
       "                                              answer  relevancy_score  \\\n",
       "0  \\nThe Funk Zone area, where this bakery is loc...              1.0   \n",
       "\n",
       "   correctness_score  faithfulness_score  \\\n",
       "0                2.0                 1.0   \n",
       "\n",
       "                                            contexts  \n",
       "0  [Finally some good food in downtown Santa Barb...  "
      ]
     },
     "execution_count": 62,
     "metadata": {},
     "output_type": "execute_result"
    }
   ],
   "source": [
    "response_curated_deep_eval_df"
   ]
  },
  {
   "cell_type": "markdown",
   "id": "59f92777-03ea-4bb1-9a38-c1eb73395f34",
   "metadata": {},
   "source": [
    "#### Answers for target questions"
   ]
  },
  {
   "cell_type": "code",
   "execution_count": 63,
   "id": "7c8a04bd-f81a-42b0-89e0-0aad5949c860",
   "metadata": {},
   "outputs": [],
   "source": [
    "from IPython.display import Markdown"
   ]
  },
  {
   "cell_type": "code",
   "execution_count": 64,
   "id": "7bd8c8f6-1560-4ec0-9b46-55d665ddae66",
   "metadata": {},
   "outputs": [],
   "source": [
    "from src.run.eval.manual_eval_dataset import MANUAL_EVAL_QA"
   ]
  },
  {
   "cell_type": "code",
   "execution_count": 65,
   "id": "7af5bf24-e6db-4561-aafd-04def5064851",
   "metadata": {
    "scrolled": true
   },
   "outputs": [
    {
     "data": {
      "text/markdown": [
       "\n",
       "\n",
       "### Question: What are the recommended restaurants nearby Santa Barbara?\n"
      ],
      "text/plain": [
       "<IPython.core.display.Markdown object>"
      ]
     },
     "metadata": {},
     "output_type": "display_data"
    },
    {
     "data": {
      "text/markdown": [
       "**`Final Response:`** The Funk Zone area, where this bakery is located, is a trendy spot with a few other restaurants and bars. It's also close to the wharf, which suggests there are likely other dining options in the area.\n",
       "\n",
       "\n",
       "Sources:\n",
       "- [None](None)"
      ],
      "text/plain": [
       "<IPython.core.display.Markdown object>"
      ]
     },
     "metadata": {},
     "output_type": "display_data"
    }
   ],
   "source": [
    "for question, expected_answer in MANUAL_EVAL_QA:\n",
    "    display(Markdown(f\"\\n\\n### Question: {question}\\n\"))\n",
    "    response = query_engine.query(question)\n",
    "    display_response(response)"
   ]
  },
  {
   "cell_type": "markdown",
   "id": "170e418a-361a-49b2-8bbf-beaebdecbaaa",
   "metadata": {},
   "source": [
    "### Error Analysis"
   ]
  },
  {
   "cell_type": "code",
   "execution_count": 66,
   "id": "3ce3e6d9-59af-4fa1-a9e9-b9c6f12bbfcf",
   "metadata": {},
   "outputs": [],
   "source": [
    "response_curated_eval_dataset_dict = dict()\n",
    "for example in response_curated_eval_dataset.examples:\n",
    "    response_curated_eval_dataset_dict[example.query] = {\n",
    "        \"reference_answer\": example.reference_answer,\n",
    "        \"reference_contexts\": example.reference_contexts,\n",
    "    }"
   ]
  },
  {
   "cell_type": "code",
   "execution_count": 67,
   "id": "dfe2e9e6-2c43-4ba1-9605-b23d0a2b55cb",
   "metadata": {},
   "outputs": [
    {
     "data": {
      "text/html": [
       "<div>\n",
       "<style scoped>\n",
       "    .dataframe tbody tr th:only-of-type {\n",
       "        vertical-align: middle;\n",
       "    }\n",
       "\n",
       "    .dataframe tbody tr th {\n",
       "        vertical-align: top;\n",
       "    }\n",
       "\n",
       "    .dataframe thead th {\n",
       "        text-align: right;\n",
       "    }\n",
       "</style>\n",
       "<table border=\"1\" class=\"dataframe\">\n",
       "  <thead>\n",
       "    <tr style=\"text-align: right;\">\n",
       "      <th></th>\n",
       "      <th>query</th>\n",
       "      <th>answer</th>\n",
       "      <th>relevancy_score</th>\n",
       "      <th>correctness_score</th>\n",
       "      <th>faithfulness_score</th>\n",
       "      <th>contexts</th>\n",
       "    </tr>\n",
       "  </thead>\n",
       "  <tbody>\n",
       "    <tr>\n",
       "      <th>0</th>\n",
       "      <td>What are the recommended restaurants nearby Sa...</td>\n",
       "      <td>\\nThe Funk Zone area, where this bakery is loc...</td>\n",
       "      <td>1.0</td>\n",
       "      <td>2.0</td>\n",
       "      <td>1.0</td>\n",
       "      <td>[Finally some good food in downtown Santa Barb...</td>\n",
       "    </tr>\n",
       "  </tbody>\n",
       "</table>\n",
       "</div>"
      ],
      "text/plain": [
       "                                               query  \\\n",
       "0  What are the recommended restaurants nearby Sa...   \n",
       "\n",
       "                                              answer  relevancy_score  \\\n",
       "0  \\nThe Funk Zone area, where this bakery is loc...              1.0   \n",
       "\n",
       "   correctness_score  faithfulness_score  \\\n",
       "0                2.0                 1.0   \n",
       "\n",
       "                                            contexts  \n",
       "0  [Finally some good food in downtown Santa Barb...  "
      ]
     },
     "execution_count": 67,
     "metadata": {},
     "output_type": "execute_result"
    }
   ],
   "source": [
    "response_curated_deep_eval_df.sort_values(['relevancy_score', 'correctness_score', 'faithfulness_score'])"
   ]
  },
  {
   "cell_type": "code",
   "execution_count": 68,
   "id": "d46d7494-8cc7-4ba5-8584-34b3b40728cc",
   "metadata": {
    "scrolled": true
   },
   "outputs": [],
   "source": [
    "response_curated_eval_irrelevance_df = (\n",
    "    response_curated_deep_eval_df\n",
    "    .loc[lambda df: df['relevancy_score'].lt(1)]\n",
    "    .sort_values(['relevancy_score', 'correctness_score', 'faithfulness_score'])\n",
    ")\n",
    "\n",
    "for i, row in response_curated_eval_irrelevance_df.reset_index(drop=True).iterrows():\n",
    "    print(f\"\\n\\n==============Error #{i+1}===============\\n\\n\")\n",
    "    print(f\"Query:\\n{row.query}\\n\")\n",
    "    contexts = '\\n\\n'.join(row.contexts)\n",
    "    print(f\"Context:\\n{contexts}\\n\")\n",
    "    print(f\"Answer:\\n{row.answer}\\n----\\n\")\n",
    "    expected = response_curated_eval_dataset_dict.get(row.query)\n",
    "    if not expected:\n",
    "        logger.error(f\"Could not find query {row.query} in synthetic_response_eval_dataset_dict!\")\n",
    "        continue\n",
    "    expected_answer = expected['reference_answer']\n",
    "    print(f\"Expected Answer:\\n{expected_answer}\\n\")\n",
    "    expected_contexts = expected['reference_contexts']\n",
    "    print(f\"Expected Contexts:\\n{expected_contexts}\\n\")"
   ]
  },
  {
   "cell_type": "markdown",
   "id": "b92d7c63-d2b2-4c16-9315-8e3974c28cf3",
   "metadata": {},
   "source": [
    "# Persist run metadata"
   ]
  },
  {
   "cell_type": "code",
   "execution_count": 69,
   "id": "848be8ef-3b7c-43e6-9249-2b45bcb467ec",
   "metadata": {},
   "outputs": [],
   "source": [
    "from src.run.utils import parse_collect_log, flatten_dict"
   ]
  },
  {
   "cell_type": "code",
   "execution_count": 70,
   "id": "63dee9b7-70e0-4bce-959a-0a6ca390b619",
   "metadata": {},
   "outputs": [],
   "source": [
    "collect_info = parse_collect_log(collect_fp)"
   ]
  },
  {
   "cell_type": "code",
   "execution_count": 71,
   "id": "1d152067-d6fe-4f34-bfd7-c7b9abbe4900",
   "metadata": {},
   "outputs": [
    {
     "name": "stderr",
     "output_type": "stream",
     "text": [
      "\u001b[32m2024-08-09 08:49:55.594\u001b[0m | \u001b[1mINFO    \u001b[0m | \u001b[36m__main__\u001b[0m:\u001b[36m<module>\u001b[0m:\u001b[36m4\u001b[0m - \u001b[1mLogging [COLLECT] info to MLflow...\u001b[0m\n",
      "\u001b[32m2024-08-09 08:49:55.620\u001b[0m | \u001b[1mINFO    \u001b[0m | \u001b[36m__main__\u001b[0m:\u001b[36m<module>\u001b[0m:\u001b[36m6\u001b[0m - \u001b[1mLogging config to MLflow...\u001b[0m\n",
      "/home/dvquys/frostmourne/study/vietai-genai03/final-project/review-rec-bot/.venv/lib/python3.11/site-packages/pydantic/main.py:364: UserWarning: Pydantic serializer warnings:\n",
      "  Expected `int` but got `str` - serialized value may not be as expected\n",
      "  Expected `int` but got `str` - serialized value may not be as expected\n",
      "  Expected `int` but got `str` - serialized value may not be as expected\n",
      "  Expected `int` but got `str` - serialized value may not be as expected\n",
      "  Expected `int` but got `str` - serialized value may not be as expected\n",
      "  Expected `int` but got `str` - serialized value may not be as expected\n",
      "  return self.__pydantic_serializer__.to_python(\n",
      "\u001b[32m2024-08-09 08:49:55.653\u001b[0m | \u001b[1mINFO    \u001b[0m | \u001b[36m__main__\u001b[0m:\u001b[36m<module>\u001b[0m:\u001b[36m8\u001b[0m - \u001b[1mLogging Retrieval Synthetic Eval Results to MLflow...\u001b[0m\n",
      "\u001b[32m2024-08-09 08:49:56.160\u001b[0m | \u001b[1mINFO    \u001b[0m | \u001b[36m__main__\u001b[0m:\u001b[36m<module>\u001b[0m:\u001b[36m10\u001b[0m - \u001b[1mLogging Response Eval Results to MLflow...\u001b[0m\n"
     ]
    }
   ],
   "source": [
    "if ARGS.LOG_TO_MLFLOW:\n",
    "    import mlflow\n",
    "\n",
    "    logger.info(\"Logging [COLLECT] info to MLflow...\")\n",
    "    mlflow.log_params(collect_info)\n",
    "    logger.info(\"Logging config to MLflow...\")\n",
    "    mlflow.log_params(flatten_dict(cfg.model_dump(), \"cfg\", sep='.'))\n",
    "    logger.info(f\"Logging Retrieval Synthetic Eval Results to MLflow...\")\n",
    "    retrieval_evaluator.log_to_mlflow(cfg)\n",
    "    logger.info(f\"Logging Response Eval Results to MLflow...\")\n",
    "    response_evaluator.log_to_mlflow(\n",
    "        cfg,\n",
    "        'synthetic',\n",
    "        response_synthetic_mean_scores_df,\n",
    "        response_synthetic_deep_eval_df\n",
    "    )\n",
    "    response_evaluator.log_to_mlflow(\n",
    "        cfg,\n",
    "        'curated',\n",
    "        response_curated_mean_scores_df,\n",
    "        response_curated_deep_eval_df\n",
    "    )"
   ]
  },
  {
   "cell_type": "markdown",
   "id": "fa9e8781-648c-4c71-a52d-4ae1af9a8fd0",
   "metadata": {},
   "source": [
    "# Clean up"
   ]
  },
  {
   "cell_type": "code",
   "execution_count": 72,
   "id": "93b58567-b2d9-463b-bfeb-1d107eccaa0c",
   "metadata": {},
   "outputs": [],
   "source": [
    "if ARGS.LOG_TO_MLFLOW:\n",
    "    mlflow.end_run()"
   ]
  },
  {
   "cell_type": "markdown",
   "id": "7b3e6bb5-359f-4ff6-9b54-8107e3ba24f1",
   "metadata": {},
   "source": [
    "# Archive"
   ]
  },
  {
   "cell_type": "raw",
   "id": "41382b10-99f4-4239-ad63-4eb483c9161a",
   "metadata": {
    "scrolled": true
   },
   "source": [
    "nodes[0].embedding[:5]"
   ]
  },
  {
   "cell_type": "raw",
   "id": "fd9bad9d-7fdb-4ac7-90d5-8a527aa2c71a",
   "metadata": {
    "scrolled": true
   },
   "source": [
    "query = nodes[0].text\n",
    "embed_model.get_text_embedding(query)[:5]"
   ]
  },
  {
   "cell_type": "raw",
   "id": "8daaf29a-c653-4002-8282-5177199c7066",
   "metadata": {
    "scrolled": true
   },
   "source": [
    "embed_model.get_query_embedding(query)[:5]"
   ]
  }
 ],
 "metadata": {
  "kernelspec": {
   "display_name": "Python 3 (ipykernel)",
   "language": "python",
   "name": "python3"
  },
  "language_info": {
   "codemirror_mode": {
    "name": "ipython",
    "version": 3
   },
   "file_extension": ".py",
   "mimetype": "text/x-python",
   "name": "python",
   "nbconvert_exporter": "python",
   "pygments_lexer": "ipython3",
   "version": "3.11.9"
  }
 },
 "nbformat": 4,
 "nbformat_minor": 5
}
