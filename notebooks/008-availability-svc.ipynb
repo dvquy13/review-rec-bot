{
 "cells": [
  {
   "cell_type": "code",
   "execution_count": 1,
   "id": "1012b1fc-4a55-46c1-9827-cecc0ee48fab",
   "metadata": {},
   "outputs": [],
   "source": [
    "%load_ext autoreload\n",
    "%autoreload 2"
   ]
  },
  {
   "cell_type": "code",
   "execution_count": 2,
   "id": "01591379-ce4e-4e73-83d6-b171d8712d05",
   "metadata": {},
   "outputs": [],
   "source": [
    "import sys\n",
    "sys.path.insert(0, '..')\n",
    "\n",
    "from loguru import logger\n",
    "from datetime import datetime, timedelta\n",
    "import pandas as pd\n",
    "\n",
    "from src.svc.availability.availability_check import ReservationService"
   ]
  },
  {
   "cell_type": "code",
   "execution_count": 3,
   "id": "16d80906-2ca1-44e6-8f83-476ab168575e",
   "metadata": {
    "scrolled": true
   },
   "outputs": [
    {
     "name": "stderr",
     "output_type": "stream",
     "text": [
      "\u001b[32m2024-08-12 21:42:53.319\u001b[0m | \u001b[1mINFO    \u001b[0m | \u001b[36m__main__\u001b[0m:\u001b[36m<module>\u001b[0m:\u001b[36m7\u001b[0m - \u001b[1m[COLLECT] len(data)=5240\u001b[0m\n"
     ]
    },
    {
     "data": {
      "text/plain": [
       "review_id                                      L0jv8c2FbpWSlfNC6bbUEA\n",
       "user_id                                        bFPdtzu11Oi0f92EAcjqmg\n",
       "business_id                                    IDtLPgUrqorrpqSLdfMhZQ\n",
       "review_stars                                                        5\n",
       "useful                                                              0\n",
       "funny                                                               0\n",
       "cool                                                                0\n",
       "text                What a great addition to the Funk Zone!  Grab ...\n",
       "date                                              2016-10-13T22:50:47\n",
       "biz_name                                         Helena Avenue Bakery\n",
       "biz_address                                     131 Anacapa St, Ste C\n",
       "biz_city                                                Santa Barbara\n",
       "biz_state                                                          CA\n",
       "biz_postal_code                                                 93101\n",
       "biz_latitude                                                34.414445\n",
       "biz_longitude                                             -119.690672\n",
       "biz_stars                                                         4.0\n",
       "biz_review_count                                                  389\n",
       "biz_is_open                                                         1\n",
       "biz_attributes      {'AcceptsInsurance': None, 'Alcohol': 'u'none'...\n",
       "biz_categories      [Food, Restaurants, Salad, Coffee & Tea, Break...\n",
       "biz_hours           {'Friday': '8:0-14:0', 'Monday': '0:0-0:0', 'S...\n",
       "Name: 0, dtype: object"
      ]
     },
     "execution_count": 3,
     "metadata": {},
     "output_type": "execute_result"
    }
   ],
   "source": [
    "data_fp = \"../data/yelp_dataset/sample/sample_100_biz/denom_review.parquet\"\n",
    "data = pd.read_parquet(data_fp)\n",
    "data = data.assign(\n",
    "    biz_categories=lambda df: df['biz_categories'].str.split(', '),\n",
    "    date=lambda df: df['date'].dt.strftime('%Y-%m-%dT%H:%M:%S')\n",
    ")\n",
    "logger.info(f\"[COLLECT] {len(data)=}\")\n",
    "data.iloc[0]"
   ]
  },
  {
   "cell_type": "code",
   "execution_count": 12,
   "id": "dd757ce6-6274-42d0-a89e-854f5d1eaaa0",
   "metadata": {
    "scrolled": true
   },
   "outputs": [],
   "source": [
    "opening_hours_db = data.set_index('business_id')['biz_hours'].dropna().to_dict()"
   ]
  },
  {
   "cell_type": "code",
   "execution_count": 13,
   "id": "32225c61-e343-49e4-b95e-614b25bac68c",
   "metadata": {},
   "outputs": [
    {
     "data": {
      "text/plain": [
       "81"
      ]
     },
     "execution_count": 13,
     "metadata": {},
     "output_type": "execute_result"
    }
   ],
   "source": [
    "len(opening_hours_db)"
   ]
  },
  {
   "cell_type": "code",
   "execution_count": 15,
   "id": "14801e08-6310-4c26-80d4-7622efaaa40f",
   "metadata": {},
   "outputs": [
    {
     "data": {
      "text/plain": [
       "{'Friday': '8:0-14:0',\n",
       " 'Monday': '0:0-0:0',\n",
       " 'Saturday': '8:0-14:0',\n",
       " 'Sunday': '8:0-14:0',\n",
       " 'Thursday': '8:0-14:0',\n",
       " 'Tuesday': '8:0-14:0',\n",
       " 'Wednesday': '8:0-14:0'}"
      ]
     },
     "execution_count": 15,
     "metadata": {},
     "output_type": "execute_result"
    }
   ],
   "source": [
    "opening_hours_db.get('IDtLPgUrqorrpqSLdfMhZQ')"
   ]
  },
  {
   "cell_type": "code",
   "execution_count": 18,
   "id": "96f7fe8a-a406-429a-81c4-a7a62c8cce89",
   "metadata": {},
   "outputs": [
    {
     "name": "stdout",
     "output_type": "stream",
     "text": [
      "Availability for business IDtLPgUrqorrpqSLdfMhZQ on 2024-08-19 09:44:21.740765 for 4 pax: False\n",
      "Availability for business IDtLPgUrqorrpqSLdfMhZQ from 2024-08-19 21:44:21.740936 to 2024-08-20 21:44:21.740960: {\n",
      "    \"2024-08-20 08:00\": 3,\n",
      "    \"2024-08-20 09:00\": 0,\n",
      "    \"2024-08-20 10:00\": 1,\n",
      "    \"2024-08-20 11:00\": 0,\n",
      "    \"2024-08-20 12:00\": 6,\n",
      "    \"2024-08-20 13:00\": 0\n",
      "}\n"
     ]
    }
   ],
   "source": [
    "business_id = 'IDtLPgUrqorrpqSLdfMhZQ'\n",
    "service = ReservationService(opening_hours_db)\n",
    "\n",
    "# Function 1: Check reservation availability of a business\n",
    "check_datetime = datetime.now() + timedelta(days=6, hours=12)\n",
    "pax = 4\n",
    "available = service.check_availability(business_id, check_datetime, pax)\n",
    "print(f\"Availability for business {business_id} on {check_datetime} for {pax} pax: {available}\")\n",
    "\n",
    "# Function 2: Check reservation availability between a date range\n",
    "start_datetime = datetime.now() + timedelta(days=7)\n",
    "end_datetime = datetime.now() + timedelta(days=8)\n",
    "availability_range = service.check_availability_range(business_id, start_datetime, end_datetime)\n",
    "print(f\"Availability for business {business_id} from {start_datetime} to {end_datetime}: {availability_range}\")"
   ]
  },
  {
   "cell_type": "code",
   "execution_count": null,
   "id": "805fcb3b-61fb-4387-a0af-473ce56b6227",
   "metadata": {},
   "outputs": [],
   "source": []
  }
 ],
 "metadata": {
  "kernelspec": {
   "display_name": "Python 3 (ipykernel)",
   "language": "python",
   "name": "python3"
  },
  "language_info": {
   "codemirror_mode": {
    "name": "ipython",
    "version": 3
   },
   "file_extension": ".py",
   "mimetype": "text/x-python",
   "name": "python",
   "nbconvert_exporter": "python",
   "pygments_lexer": "ipython3",
   "version": "3.11.9"
  }
 },
 "nbformat": 4,
 "nbformat_minor": 5
}
